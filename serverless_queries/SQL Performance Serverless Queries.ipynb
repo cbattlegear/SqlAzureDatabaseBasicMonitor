{
    "metadata": {
        "kernelspec": {
            "name": "SQL",
            "display_name": "SQL",
            "language": "sql"
        },
        "language_info": {
            "name": "sql",
            "version": ""
        }
    },
    "nbformat_minor": 2,
    "nbformat": 4,
    "cells": [
        {
            "cell_type": "markdown",
            "source": [
                "# SQL Azure Database Basic Monitor - Serverless Aggregation Queries\r\n",
                "\r\n",
                "Basic monitoring queries to get information about your SQL Azure Database performance.\r\n",
                "\r\n",
                "## Prerequisites\r\n",
                "\r\n",
                "1. An Azure Synapse Workspace with a Synapse SQL Serverless Pool\r\n",
                "2. Permission provided to the Serverless Pool Managed Identity to access the storage account\r\n",
                "3. Data feeding into the storage account"
            ],
            "metadata": {
                "azdata_cell_guid": "568ad8d7-39f0-4c37-882b-22bdb192f1f2"
            },
            "attachments": {}
        },
        {
            "cell_type": "markdown",
            "source": [
                "## Initial Setup\r\n",
                "These scripts are run to set up your initial views/access to the CSV files. These assume you have the proper permissions set up from your serverless pool to access your blob storage account."
            ],
            "metadata": {
                "azdata_cell_guid": "037b279f-f3bb-417c-93ef-abcc122d73ed"
            },
            "attachments": {}
        },
        {
            "cell_type": "markdown",
            "source": [
                "### Credentials\r\n",
                "These are the credentials and data source to access the CSV files, make sure to change the location to your storage account and container.\r\n",
                "Comment these lines out if you have already created your sql credentials to access the data."
            ],
            "metadata": {
                "azdata_cell_guid": "0fb8faef-1f59-44fc-b0dc-0b61e1468b70"
            },
            "attachments": {}
        },
        {
            "cell_type": "code",
            "source": [
                "CREATE MASTER KEY;\r\n",
                "\r\n",
                "CREATE DATABASE SCOPED CREDENTIAL SynapseId\r\n",
                "WITH IDENTITY = 'Managed Identity';\r\n",
                "\r\n",
                "CREATE EXTERNAL DATA SOURCE SqlLogging\r\n",
                "WITH (    LOCATION   = 'https://[youraccount].blob.core.windows.net/[yourcontainer]/',\r\n",
                "          CREDENTIAL = SynapseId\r\n",
                ");"
            ],
            "metadata": {
                "azdata_cell_guid": "c813ff91-708e-442c-91af-c31e7bcbe0cb",
                "language": "sql",
                "tags": []
            },
            "outputs": [],
            "execution_count": null
        },
        {
            "cell_type": "markdown",
            "source": [
                "### Performance View\r\n",
                "This view will give you access to the Sql Performance Data retained from `sys.dm_db_resource_stats`\r\n",
                "\r\n",
                "Make sure to edit the FIELDTERMINATOR to what you used as your LOG_FILE_CSV_SEPARATOR in your function settings."
            ],
            "metadata": {
                "azdata_cell_guid": "d45d987f-124c-4fe6-932e-6a6f8e2ea1ca"
            },
            "attachments": {}
        },
        {
            "cell_type": "code",
            "source": [
                "CREATE OR ALTER VIEW SqlAzurePerformance\r\n",
                "AS\r\n",
                "SELECT CAST(end_time as DATETIME) as end_time, [avg_cpu_percent], [avg_data_io_percent], [avg_log_write_percent], [avg_memory_usage_percent], [xtp_storage_percent], [max_worker_percent], [max_session_percent], [dtu_limit], [avg_login_rate_percent], [avg_instance_cpu_percent], [avg_instance_memory_percent], [cpu_limit], [replica_role], CAST(perf.filepath(1) as DATE) as [file_date] FROM\r\n",
                "    OPENROWSET(\r\n",
                "        BULK 'performance-*.csv',\r\n",
                "        FORMAT = 'CSV', \r\n",
                "        PARSER_VERSION = '2.0',\r\n",
                "        FIELDTERMINATOR ='|',\r\n",
                "        DATA_SOURCE = 'SqlLogging',\r\n",
                "        ROWSET_OPTIONS = '{\"READ_OPTIONS\":[\"ALLOW_INCONSISTENT_READS\"]}'\r\n",
                "    )\r\n",
                "    WITH (\r\n",
                "        [end_time] VARCHAR(25) COLLATE Latin1_General_100_BIN2_UTF8,\r\n",
                "        [avg_cpu_percent] DECIMAL(8,2),\r\n",
                "        [avg_data_io_percent] DECIMAL(8,2),\r\n",
                "        [avg_log_write_percent] DECIMAL(8,2),\r\n",
                "        [avg_memory_usage_percent] DECIMAL(8,2),\r\n",
                "        [xtp_storage_percent] DECIMAL(8,2),\r\n",
                "        [max_worker_percent] DECIMAL(8,2),\r\n",
                "        [max_session_percent] DECIMAL(8,2),\r\n",
                "        [dtu_limit] INT,\r\n",
                "        [avg_login_rate_percent] DECIMAL(8,2),\r\n",
                "        [avg_instance_cpu_percent] DECIMAL(8,2),\r\n",
                "        [avg_instance_memory_percent] DECIMAL(8,2),\r\n",
                "        [cpu_limit] INT,\r\n",
                "        [replica_role] INT\r\n",
                "    ) \r\n",
                "    as [perf]"
            ],
            "metadata": {
                "language": "sql",
                "azdata_cell_guid": "a7091c8e-ce8d-49a6-8403-61298b27e9a8"
            },
            "outputs": [
                {
                    "output_type": "display_data",
                    "data": {
                        "text/html": "Commands completed successfully."
                    },
                    "metadata": {}
                },
                {
                    "output_type": "display_data",
                    "data": {
                        "text/html": "Total execution time: 00:00:08.019"
                    },
                    "metadata": {}
                }
            ],
            "execution_count": 29
        },
        {
            "cell_type": "markdown",
            "source": [
                "## Example Queries\r\n",
                "Here are some example queries to start using the performance data. \r\n",
                "\r\n",
                "When writing your own queries, make sure to timebox your data using `file_date` as the predicate as this will use partition elimination to improve your query performance."
            ],
            "metadata": {
                "azdata_cell_guid": "1826a4a1-c0a4-4d9a-a999-c0fa1ed8985f"
            },
            "attachments": {}
        },
        {
            "cell_type": "markdown",
            "source": [
                "### Top 5 instances of CPU Usage over the last week"
            ],
            "metadata": {
                "language": "sql",
                "azdata_cell_guid": "1d3344bb-e4ab-4630-9829-1cf4292834c1"
            },
            "attachments": {}
        },
        {
            "cell_type": "code",
            "source": [
                "SELECT TOP 5 end_time, avg_cpu_percent, avg_data_io_percent, avg_log_write_percent\r\n",
                "FROM SqlAzurePerformance WHERE file_date > DATEADD(day, -7, CURRENT_TIMESTAMP) ORDER BY avg_cpu_percent DESC"
            ],
            "metadata": {
                "azdata_cell_guid": "483ac89d-25a2-4442-aa40-2889c8579d9d",
                "language": "sql"
            },
            "outputs": [
                {
                    "output_type": "display_data",
                    "data": {
                        "text/html": "Statement ID: {B8259492-089C-49B6-8CF0-069678413392} | Query hash: 0xA535616A1B83920E | Distributed request ID: {45F8C328-5BB3-4E84-A566-A5FFEAEC2D96}. Total size of data scanned is 1 megabytes, total size of data moved is 1 megabytes, total size of data written is 0 megabytes."
                    },
                    "metadata": {}
                },
                {
                    "output_type": "display_data",
                    "data": {
                        "text/html": "(5 rows affected)"
                    },
                    "metadata": {}
                },
                {
                    "output_type": "display_data",
                    "data": {
                        "text/html": "Total execution time: 00:00:11.128"
                    },
                    "metadata": {}
                },
                {
                    "output_type": "execute_result",
                    "execution_count": 30,
                    "data": {
                        "application/vnd.dataresource+json": {
                            "schema": {
                                "fields": [
                                    {
                                        "name": "end_time"
                                    },
                                    {
                                        "name": "avg_cpu_percent"
                                    },
                                    {
                                        "name": "avg_data_io_percent"
                                    },
                                    {
                                        "name": "avg_log_write_percent"
                                    }
                                ]
                            },
                            "data": [
                                {
                                    "0": "2022-10-27 01:39:44.000",
                                    "1": "18.05",
                                    "2": "0.00",
                                    "3": "0.00"
                                },
                                {
                                    "0": "2022-10-27 01:42:44.000",
                                    "1": "7.14",
                                    "2": "0.00",
                                    "3": "0.00"
                                },
                                {
                                    "0": "2022-10-27 01:42:59.000",
                                    "1": "7.08",
                                    "2": "0.00",
                                    "3": "0.00"
                                },
                                {
                                    "0": "2022-10-27 01:44:14.000",
                                    "1": "6.86",
                                    "2": "0.00",
                                    "3": "0.00"
                                },
                                {
                                    "0": "2022-10-27 01:42:29.000",
                                    "1": "6.54",
                                    "2": "0.00",
                                    "3": "0.00"
                                }
                            ]
                        },
                        "text/html": "<table><tr><th>end_time</th><th>avg_cpu_percent</th><th>avg_data_io_percent</th><th>avg_log_write_percent</th></tr><tr><td>2022-10-27 01:39:44.000</td><td>18.05</td><td>0.00</td><td>0.00</td></tr><tr><td>2022-10-27 01:42:44.000</td><td>7.14</td><td>0.00</td><td>0.00</td></tr><tr><td>2022-10-27 01:42:59.000</td><td>7.08</td><td>0.00</td><td>0.00</td></tr><tr><td>2022-10-27 01:44:14.000</td><td>6.86</td><td>0.00</td><td>0.00</td></tr><tr><td>2022-10-27 01:42:29.000</td><td>6.54</td><td>0.00</td><td>0.00</td></tr></table>"
                    },
                    "metadata": {}
                }
            ],
            "execution_count": 30
        }
    ]
}