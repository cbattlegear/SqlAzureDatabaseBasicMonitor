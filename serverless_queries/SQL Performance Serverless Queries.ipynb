{
    "metadata": {
        "kernelspec": {
            "name": "SQL",
            "display_name": "SQL",
            "language": "sql"
        },
        "language_info": {
            "name": "sql",
            "version": ""
        }
    },
    "nbformat_minor": 2,
    "nbformat": 4,
    "cells": [
        {
            "cell_type": "markdown",
            "source": [
                "# SQL Azure Database Basic Monitor - Serverless Aggregation Queries\r\n",
                "\r\n",
                "Basic monitoring queries to get information about your SQL Azure Database performance.\r\n",
                "\r\n",
                "## Prerequisites\r\n",
                "\r\n",
                "1. An Azure Synapse Workspace with a Synapse SQL Serverless Pool\r\n",
                "2. Permission provided to the Serverless Pool Managed Identity to access the storage account\r\n",
                "3. Data feeding into the storage account"
            ],
            "metadata": {
                "azdata_cell_guid": "568ad8d7-39f0-4c37-882b-22bdb192f1f2"
            },
            "attachments": {}
        },
        {
            "cell_type": "markdown",
            "source": [
                "## Initial Setup\r\n",
                "These scripts are run to set up your initial views/access to the CSV files. These assume you have the proper permissions set up from your serverless pool to access your blob storage account."
            ],
            "metadata": {
                "azdata_cell_guid": "037b279f-f3bb-417c-93ef-abcc122d73ed"
            },
            "attachments": {}
        },
        {
            "cell_type": "markdown",
            "source": [
                "### Credentials\r\n",
                "These are the credentials and data source to access the CSV files, make sure to change the location to your storage account and container.\r\n",
                "Comment these lines out if you have already created your sql credentials to access the data."
            ],
            "metadata": {
                "azdata_cell_guid": "0fb8faef-1f59-44fc-b0dc-0b61e1468b70"
            },
            "attachments": {}
        },
        {
            "cell_type": "code",
            "source": [
                "CREATE MASTER KEY;\r\n",
                "\r\n",
                "CREATE DATABASE SCOPED CREDENTIAL SynapseId\r\n",
                "WITH IDENTITY = 'Managed Identity';\r\n",
                "\r\n",
                "CREATE EXTERNAL DATA SOURCE SqlLogging\r\n",
                "WITH (    LOCATION   = 'https://[youraccount].blob.core.windows.net/[yourcontainer]/',\r\n",
                "          CREDENTIAL = SynapseId\r\n",
                ");"
            ],
            "metadata": {
                "azdata_cell_guid": "c813ff91-708e-442c-91af-c31e7bcbe0cb",
                "language": "sql",
                "tags": []
            },
            "outputs": [],
            "execution_count": null
        },
        {
            "cell_type": "markdown",
            "source": [
                "### Performance View\r\n",
                "This view will give you access to the Sql Performance Data retained from `sys.dm_db_resource_stats`\r\n",
                "\r\n",
                "Make sure to edit the FIELDTERMINATOR to what you used as your LOG_FILE_CSV_SEPARATOR in your function settings."
            ],
            "metadata": {
                "azdata_cell_guid": "d45d987f-124c-4fe6-932e-6a6f8e2ea1ca"
            },
            "attachments": {}
        },
        {
            "cell_type": "code",
            "source": [
                "CREATE OR ALTER VIEW SqlAzurePerformance\r\n",
                "AS\r\n",
                "SELECT CAST(end_time as DATETIME) as end_time, [avg_cpu_percent], [avg_data_io_percent], [avg_log_write_percent], [avg_memory_usage_percent], [xtp_storage_percent], [max_worker_percent], [max_session_percent], [dtu_limit], [avg_login_rate_percent], [avg_instance_cpu_percent], [avg_instance_memory_percent], [cpu_limit], [replica_role], CAST(perf.filepath(1) as DATE) as [file_date] FROM\r\n",
                "    OPENROWSET(\r\n",
                "        BULK 'performance-*.csv',\r\n",
                "        FORMAT = 'CSV', \r\n",
                "        PARSER_VERSION = '2.0',\r\n",
                "        FIELDTERMINATOR ='|',\r\n",
                "        DATA_SOURCE = 'SqlLogging',\r\n",
                "        ROWSET_OPTIONS = '{\"READ_OPTIONS\":[\"ALLOW_INCONSISTENT_READS\"]}'\r\n",
                "    )\r\n",
                "    WITH (\r\n",
                "        [end_time] VARCHAR(25) COLLATE Latin1_General_100_BIN2_UTF8,\r\n",
                "        [avg_cpu_percent] DECIMAL(8,2),\r\n",
                "        [avg_data_io_percent] DECIMAL(8,2),\r\n",
                "        [avg_log_write_percent] DECIMAL(8,2),\r\n",
                "        [avg_memory_usage_percent] DECIMAL(8,2),\r\n",
                "        [xtp_storage_percent] DECIMAL(8,2),\r\n",
                "        [max_worker_percent] DECIMAL(8,2),\r\n",
                "        [max_session_percent] DECIMAL(8,2),\r\n",
                "        [dtu_limit] INT,\r\n",
                "        [avg_login_rate_percent] DECIMAL(8,2),\r\n",
                "        [avg_instance_cpu_percent] DECIMAL(8,2),\r\n",
                "        [avg_instance_memory_percent] DECIMAL(8,2),\r\n",
                "        [cpu_limit] INT,\r\n",
                "        [replica_role] INT\r\n",
                "    ) \r\n",
                "    as [perf]"
            ],
            "metadata": {
                "language": "sql",
                "azdata_cell_guid": "a7091c8e-ce8d-49a6-8403-61298b27e9a8"
            },
            "outputs": [
                {
                    "output_type": "display_data",
                    "data": {
                        "text/html": "Commands completed successfully."
                    },
                    "metadata": {}
                },
                {
                    "output_type": "display_data",
                    "data": {
                        "text/html": "Total execution time: 00:00:08.019"
                    },
                    "metadata": {}
                }
            ],
            "execution_count": 29
        },
        {
            "cell_type": "code",
            "source": [
                "CREATE OR ALTER VIEW SqlAzureExtendedPerformance\r\n",
                "AS\r\n",
                "SELECT \r\n",
                "        CAST([reading_time] as DATETIME) as [reading_time],\r\n",
                "        [session_id],\r\n",
                "        [request_id],\r\n",
                "        [ecid],\r\n",
                "        [blocking_session_id],\r\n",
                "        [blocking_ecid],\r\n",
                "        [task_state],\r\n",
                "        [wait_type],\r\n",
                "        [wait_duration_ms],\r\n",
                "        [wait_resource],\r\n",
                "        [resource_description],\r\n",
                "        [last_wait_type],\r\n",
                "        [open_trans],\r\n",
                "        [transaction_isolation_level],\r\n",
                "        [is_user_process],\r\n",
                "        [request_cpu_time],\r\n",
                "        [request_logical_reads],\r\n",
                "        [request_reads],\r\n",
                "        [request_writes],\r\n",
                "        [memory_usage],\r\n",
                "        [session_cpu_time],\r\n",
                "        [session_reads],\r\n",
                "        [session_writes],\r\n",
                "        [session_logical_reads],\r\n",
                "        [total_scheduled_time],\r\n",
                "        [total_elapsed_time],\r\n",
                "        CAST([last_request_start_time] as DATETIME) as [last_request_start_time],\r\n",
                "        CAST([last_request_end_time] as DATETIME) as [last_request_end_time],\r\n",
                "        [session_row_count],\r\n",
                "        [prev_error],\r\n",
                "        [open_resultsets],\r\n",
                "        [request_total_elapsed_time],\r\n",
                "        [percent_complete],\r\n",
                "        [est_completion_time],\r\n",
                "        [tran_name],\r\n",
                "        CAST([transaction_begin_time] as DATETIME) as [transaction_begin_time],\r\n",
                "        [tran_type],\r\n",
                "        [tran_state],\r\n",
                "        CAST([request_start_time] as DATETIME) as [request_start_time],\r\n",
                "        [request_status],\r\n",
                "        [command],\r\n",
                "        [plan_handle],\r\n",
                "        [sql_handle],\r\n",
                "        [statement_start_offset],\r\n",
                "        [statement_end_offset],\r\n",
                "        [database_id],\r\n",
                "        [user_id],\r\n",
                "        [executing_managed_code],\r\n",
                "        [pending_io_count],\r\n",
                "        CAST([login_time] as DATETIME) as [login_time],\r\n",
                "        [host_name],\r\n",
                "        [program_name],\r\n",
                "        [host_process_id],\r\n",
                "        [client_version],\r\n",
                "        [client_interface_name],\r\n",
                "        [login_name],\r\n",
                "        [nt_domain],\r\n",
                "        [nt_user_name],\r\n",
                "        [net_packet_size],\r\n",
                "        [client_net_address],\r\n",
                "        [most_recent_sql_handle],\r\n",
                "        [session_status],\r\n",
                "        [scheduler_id],\r\n",
                "        [group_id],\r\n",
                "        [context_info],\r\n",
                "        CAST(perf.filepath(1) as DATE) as [file_date] FROM\r\n",
                "    OPENROWSET(\r\n",
                "        BULK 'extended-performance-*.csv',\r\n",
                "        FORMAT = 'CSV', \r\n",
                "        PARSER_VERSION = '2.0',\r\n",
                "        FIELDTERMINATOR ='|',\r\n",
                "        DATA_SOURCE = 'SqlLogging',\r\n",
                "        ROWSET_OPTIONS = '{\"READ_OPTIONS\":[\"ALLOW_INCONSISTENT_READS\"]}'\r\n",
                "    )\r\n",
                "    WITH (\r\n",
                "        [reading_time] nvarchar(25) COLLATE Latin1_General_100_BIN2_UTF8,\r\n",
                "        [session_id] [smallint],\r\n",
                "        [request_id] [int],\r\n",
                "        [ecid] [int],\r\n",
                "        [blocking_session_id] [smallint],\r\n",
                "        [blocking_ecid] [int] ,\r\n",
                "        [task_state] nvarchar(15) COLLATE Latin1_General_100_BIN2_UTF8,\r\n",
                "        [wait_type] [nvarchar](60) COLLATE Latin1_General_100_BIN2_UTF8,\r\n",
                "        [wait_duration_ms] [bigint],\r\n",
                "        [wait_resource] [nvarchar](40) COLLATE Latin1_General_100_BIN2_UTF8,\r\n",
                "        [resource_description] [nvarchar](140) COLLATE Latin1_General_100_BIN2_UTF8,\r\n",
                "        [last_wait_type] [nvarchar](50) COLLATE Latin1_General_100_BIN2_UTF8,\r\n",
                "        [open_trans] [int],\r\n",
                "        [transaction_isolation_level] [varchar](30) COLLATE Latin1_General_100_BIN2_UTF8,\r\n",
                "        [is_user_process] [bit],\r\n",
                "        [request_cpu_time] [int],\r\n",
                "        [request_logical_reads] [bigint],\r\n",
                "        [request_reads] [bigint],\r\n",
                "        [request_writes] [bigint],\r\n",
                "        [memory_usage] [int],\r\n",
                "        [session_cpu_time] [int],\r\n",
                "        [session_reads] [bigint],\r\n",
                "        [session_writes] [bigint],\r\n",
                "        [session_logical_reads] [bigint],\r\n",
                "        [total_scheduled_time] [int],\r\n",
                "        [total_elapsed_time] [int],\r\n",
                "        [last_request_start_time] nvarchar(25) COLLATE Latin1_General_100_BIN2_UTF8,\r\n",
                "        [last_request_end_time] nvarchar(25) COLLATE Latin1_General_100_BIN2_UTF8,\r\n",
                "        [session_row_count] [bigint],\r\n",
                "        [prev_error] [int],\r\n",
                "        [open_resultsets] [int],\r\n",
                "        [request_total_elapsed_time] [int],\r\n",
                "        [percent_complete] [decimal](5, 2),\r\n",
                "        [est_completion_time] [bigint],\r\n",
                "        [tran_name] [nvarchar](24),\r\n",
                "        [transaction_begin_time] nvarchar(25) COLLATE Latin1_General_100_BIN2_UTF8,\r\n",
                "        [tran_type] [varchar](15) COLLATE Latin1_General_100_BIN2_UTF8,\r\n",
                "        [tran_state] [varchar](15) COLLATE Latin1_General_100_BIN2_UTF8,\r\n",
                "        [request_start_time] nvarchar(25) COLLATE Latin1_General_100_BIN2_UTF8,\r\n",
                "        [request_status] [nvarchar](15) COLLATE Latin1_General_100_BIN2_UTF8,\r\n",
                "        [command] [nvarchar](16) COLLATE Latin1_General_100_BIN2_UTF8,\r\n",
                "        [plan_handle] [varbinary](64),\r\n",
                "        [sql_handle] [varbinary](64),\r\n",
                "        [statement_start_offset] [int],\r\n",
                "        [statement_end_offset] [int],\r\n",
                "        [database_id] [smallint],\r\n",
                "        [user_id] [int],\r\n",
                "        [executing_managed_code] [bit],\r\n",
                "        [pending_io_count] [int],\r\n",
                "        [login_time] nvarchar(25) COLLATE Latin1_General_100_BIN2_UTF8,\r\n",
                "        [host_name] [nvarchar](20) COLLATE Latin1_General_100_BIN2_UTF8,\r\n",
                "        [program_name] [nvarchar](50) COLLATE Latin1_General_100_BIN2_UTF8,\r\n",
                "        [host_process_id] [int],\r\n",
                "        [client_version] [int],\r\n",
                "        [client_interface_name] [nvarchar](30) COLLATE Latin1_General_100_BIN2_UTF8,\r\n",
                "        [login_name] [nvarchar](30) COLLATE Latin1_General_100_BIN2_UTF8,\r\n",
                "        [nt_domain] [nvarchar](30) COLLATE Latin1_General_100_BIN2_UTF8,\r\n",
                "        [nt_user_name] [nvarchar](20) COLLATE Latin1_General_100_BIN2_UTF8,\r\n",
                "        [net_packet_size] [int],\r\n",
                "        [client_net_address] [varchar](20) COLLATE Latin1_General_100_BIN2_UTF8,\r\n",
                "        [most_recent_sql_handle] [varbinary](64),\r\n",
                "        [session_status] [nvarchar](15) COLLATE Latin1_General_100_BIN2_UTF8,\r\n",
                "        [scheduler_id] [int],\r\n",
                "        [group_id] [int],\r\n",
                "        [context_info] varbinary(128)\r\n",
                "    ) \r\n",
                "    as [perf]"
            ],
            "metadata": {
                "language": "sql",
                "azdata_cell_guid": "7f3506e8-4e21-4829-93b1-927a56f02c26",
                "tags": []
            },
            "outputs": [
                {
                    "output_type": "display_data",
                    "data": {
                        "text/html": "Commands completed successfully."
                    },
                    "metadata": {}
                },
                {
                    "output_type": "display_data",
                    "data": {
                        "text/html": "Total execution time: 00:00:07.623"
                    },
                    "metadata": {}
                }
            ],
            "execution_count": 18
        },
        {
            "cell_type": "markdown",
            "source": [
                "## Example Queries\r\n",
                "Here are some example queries to start using the performance data. \r\n",
                "\r\n",
                "When writing your own queries, make sure to timebox your data using `file_date` as the predicate as this will use partition elimination to improve your query performance."
            ],
            "metadata": {
                "azdata_cell_guid": "1826a4a1-c0a4-4d9a-a999-c0fa1ed8985f"
            },
            "attachments": {}
        },
        {
            "cell_type": "markdown",
            "source": [
                "### Top 5 instances of CPU Usage over the last week"
            ],
            "metadata": {
                "language": "sql",
                "azdata_cell_guid": "1d3344bb-e4ab-4630-9829-1cf4292834c1"
            },
            "attachments": {}
        },
        {
            "cell_type": "code",
            "source": [
                "SELECT TOP 5 end_time, avg_cpu_percent, avg_data_io_percent, avg_log_write_percent\r\n",
                "FROM SqlAzurePerformance WHERE file_date > DATEADD(day, -7, CURRENT_TIMESTAMP) ORDER BY avg_cpu_percent DESC"
            ],
            "metadata": {
                "azdata_cell_guid": "483ac89d-25a2-4442-aa40-2889c8579d9d",
                "language": "sql"
            },
            "outputs": [
                {
                    "output_type": "display_data",
                    "data": {
                        "text/html": "Statement ID: {464B791B-F8E5-461D-97CA-621BAB28205E} | Query hash: 0xA535616A1B83920E | Distributed request ID: {309857E9-B594-4F96-ADCB-C71689548CDE}. Total size of data scanned is 3 megabytes, total size of data moved is 1 megabytes, total size of data written is 0 megabytes."
                    },
                    "metadata": {}
                },
                {
                    "output_type": "display_data",
                    "data": {
                        "text/html": "(5 rows affected)"
                    },
                    "metadata": {}
                },
                {
                    "output_type": "display_data",
                    "data": {
                        "text/html": "Total execution time: 00:00:29.896"
                    },
                    "metadata": {}
                },
                {
                    "output_type": "execute_result",
                    "metadata": {},
                    "execution_count": 8,
                    "data": {
                        "application/vnd.dataresource+json": {
                            "schema": {
                                "fields": [
                                    {
                                        "name": "end_time"
                                    },
                                    {
                                        "name": "avg_cpu_percent"
                                    },
                                    {
                                        "name": "avg_data_io_percent"
                                    },
                                    {
                                        "name": "avg_log_write_percent"
                                    }
                                ]
                            },
                            "data": [
                                {
                                    "0": "2022-11-07 22:21:00.000",
                                    "1": "67.00",
                                    "2": "0.00",
                                    "3": "NULL"
                                },
                                {
                                    "0": "2022-11-07 22:22:00.000",
                                    "1": "67.00",
                                    "2": "0.00",
                                    "3": "NULL"
                                },
                                {
                                    "0": "2022-11-07 22:23:00.000",
                                    "1": "67.00",
                                    "2": "0.00",
                                    "3": "NULL"
                                },
                                {
                                    "0": "2022-11-07 22:24:00.000",
                                    "1": "67.00",
                                    "2": "0.00",
                                    "3": "NULL"
                                },
                                {
                                    "0": "2022-11-07 22:20:02.000",
                                    "1": "67.00",
                                    "2": "0.00",
                                    "3": "NULL"
                                }
                            ]
                        },
                        "text/html": [
                            "<table>",
                            "<tr><th>end_time</th><th>avg_cpu_percent</th><th>avg_data_io_percent</th><th>avg_log_write_percent</th></tr>",
                            "<tr><td>2022-11-07 22:21:00.000</td><td>67.00</td><td>0.00</td><td>NULL</td></tr>",
                            "<tr><td>2022-11-07 22:22:00.000</td><td>67.00</td><td>0.00</td><td>NULL</td></tr>",
                            "<tr><td>2022-11-07 22:23:00.000</td><td>67.00</td><td>0.00</td><td>NULL</td></tr>",
                            "<tr><td>2022-11-07 22:24:00.000</td><td>67.00</td><td>0.00</td><td>NULL</td></tr>",
                            "<tr><td>2022-11-07 22:20:02.000</td><td>67.00</td><td>0.00</td><td>NULL</td></tr>",
                            "</table>"
                        ]
                    }
                }
            ],
            "execution_count": 8
        },
        {
            "cell_type": "code",
            "source": [
                "SELECT * FROM SqlAzureExtendedPerformance"
            ],
            "metadata": {
                "language": "sql",
                "azdata_cell_guid": "46e467bc-5940-4900-a946-9d84d11feae1"
            },
            "outputs": [
                {
                    "output_type": "display_data",
                    "data": {
                        "text/html": "Statement ID: {6B37D7A3-6026-427C-91B6-2A2E1025E1F6} | Query hash: 0x796F3177A2F3FE10 | Distributed request ID: {0F78D9F4-89A0-40ED-A268-A45BA14A2A3D}. Total size of data scanned is 1 megabytes, total size of data moved is 0 megabytes, total size of data written is 0 megabytes."
                    },
                    "metadata": {}
                },
                {
                    "output_type": "display_data",
                    "data": {
                        "text/html": "Total execution time: 00:00:11.294"
                    },
                    "metadata": {}
                },
                {
                    "output_type": "execute_result",
                    "metadata": {},
                    "execution_count": 19,
                    "data": {
                        "application/vnd.dataresource+json": {
                            "schema": {
                                "fields": [
                                    {
                                        "name": "reading_time"
                                    },
                                    {
                                        "name": "session_id"
                                    },
                                    {
                                        "name": "request_id"
                                    },
                                    {
                                        "name": "ecid"
                                    },
                                    {
                                        "name": "blocking_session_id"
                                    },
                                    {
                                        "name": "blocking_ecid"
                                    },
                                    {
                                        "name": "task_state"
                                    },
                                    {
                                        "name": "wait_type"
                                    },
                                    {
                                        "name": "wait_duration_ms"
                                    },
                                    {
                                        "name": "wait_resource"
                                    },
                                    {
                                        "name": "resource_description"
                                    },
                                    {
                                        "name": "last_wait_type"
                                    },
                                    {
                                        "name": "open_trans"
                                    },
                                    {
                                        "name": "transaction_isolation_level"
                                    },
                                    {
                                        "name": "is_user_process"
                                    },
                                    {
                                        "name": "request_cpu_time"
                                    },
                                    {
                                        "name": "request_logical_reads"
                                    },
                                    {
                                        "name": "request_reads"
                                    },
                                    {
                                        "name": "request_writes"
                                    },
                                    {
                                        "name": "memory_usage"
                                    },
                                    {
                                        "name": "session_cpu_time"
                                    },
                                    {
                                        "name": "session_reads"
                                    },
                                    {
                                        "name": "session_writes"
                                    },
                                    {
                                        "name": "session_logical_reads"
                                    },
                                    {
                                        "name": "total_scheduled_time"
                                    },
                                    {
                                        "name": "total_elapsed_time"
                                    },
                                    {
                                        "name": "last_request_start_time"
                                    },
                                    {
                                        "name": "last_request_end_time"
                                    },
                                    {
                                        "name": "session_row_count"
                                    },
                                    {
                                        "name": "prev_error"
                                    },
                                    {
                                        "name": "open_resultsets"
                                    },
                                    {
                                        "name": "request_total_elapsed_time"
                                    },
                                    {
                                        "name": "percent_complete"
                                    },
                                    {
                                        "name": "est_completion_time"
                                    },
                                    {
                                        "name": "tran_name"
                                    },
                                    {
                                        "name": "transaction_begin_time"
                                    },
                                    {
                                        "name": "tran_type"
                                    },
                                    {
                                        "name": "tran_state"
                                    },
                                    {
                                        "name": "request_start_time"
                                    },
                                    {
                                        "name": "request_status"
                                    },
                                    {
                                        "name": "command"
                                    },
                                    {
                                        "name": "plan_handle"
                                    },
                                    {
                                        "name": "sql_handle"
                                    },
                                    {
                                        "name": "statement_start_offset"
                                    },
                                    {
                                        "name": "statement_end_offset"
                                    },
                                    {
                                        "name": "database_id"
                                    },
                                    {
                                        "name": "user_id"
                                    },
                                    {
                                        "name": "executing_managed_code"
                                    },
                                    {
                                        "name": "pending_io_count"
                                    },
                                    {
                                        "name": "login_time"
                                    },
                                    {
                                        "name": "host_name"
                                    },
                                    {
                                        "name": "program_name"
                                    },
                                    {
                                        "name": "host_process_id"
                                    },
                                    {
                                        "name": "client_version"
                                    },
                                    {
                                        "name": "client_interface_name"
                                    },
                                    {
                                        "name": "login_name"
                                    },
                                    {
                                        "name": "nt_domain"
                                    },
                                    {
                                        "name": "nt_user_name"
                                    },
                                    {
                                        "name": "net_packet_size"
                                    },
                                    {
                                        "name": "client_net_address"
                                    },
                                    {
                                        "name": "most_recent_sql_handle"
                                    },
                                    {
                                        "name": "session_status"
                                    },
                                    {
                                        "name": "scheduler_id"
                                    },
                                    {
                                        "name": "group_id"
                                    },
                                    {
                                        "name": "context_info"
                                    },
                                    {
                                        "name": "file_date"
                                    }
                                ]
                            },
                            "data": []
                        },
                        "text/html": [
                            "<table>",
                            "<tr><th>reading_time</th><th>session_id</th><th>request_id</th><th>ecid</th><th>blocking_session_id</th><th>blocking_ecid</th><th>task_state</th><th>wait_type</th><th>wait_duration_ms</th><th>wait_resource</th><th>resource_description</th><th>last_wait_type</th><th>open_trans</th><th>transaction_isolation_level</th><th>is_user_process</th><th>request_cpu_time</th><th>request_logical_reads</th><th>request_reads</th><th>request_writes</th><th>memory_usage</th><th>session_cpu_time</th><th>session_reads</th><th>session_writes</th><th>session_logical_reads</th><th>total_scheduled_time</th><th>total_elapsed_time</th><th>last_request_start_time</th><th>last_request_end_time</th><th>session_row_count</th><th>prev_error</th><th>open_resultsets</th><th>request_total_elapsed_time</th><th>percent_complete</th><th>est_completion_time</th><th>tran_name</th><th>transaction_begin_time</th><th>tran_type</th><th>tran_state</th><th>request_start_time</th><th>request_status</th><th>command</th><th>plan_handle</th><th>sql_handle</th><th>statement_start_offset</th><th>statement_end_offset</th><th>database_id</th><th>user_id</th><th>executing_managed_code</th><th>pending_io_count</th><th>login_time</th><th>host_name</th><th>program_name</th><th>host_process_id</th><th>client_version</th><th>client_interface_name</th><th>login_name</th><th>nt_domain</th><th>nt_user_name</th><th>net_packet_size</th><th>client_net_address</th><th>most_recent_sql_handle</th><th>session_status</th><th>scheduler_id</th><th>group_id</th><th>context_info</th><th>file_date</th></tr>",
                            "</table>"
                        ]
                    }
                },
                {
                    "output_type": "error",
                    "evalue": "Msg 13812, Level 16, State 1, Line 1\r\nBulk load data conversion error (type mismatch or invalid character for the specified codepage) for row starting at byte offset 0, column 42 (plan_handle) in data file extended-performance-2022-11-07.csv.",
                    "ename": "",
                    "traceback": []
                }
            ],
            "execution_count": 19
        }
    ]
}