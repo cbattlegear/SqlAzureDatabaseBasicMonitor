{
    "metadata": {
        "kernelspec": {
            "name": "SQL",
            "display_name": "SQL",
            "language": "sql"
        },
        "language_info": {
            "name": "sql",
            "version": ""
        }
    },
    "nbformat_minor": 2,
    "nbformat": 4,
    "cells": [
        {
            "cell_type": "markdown",
            "source": [
                "# SQL Azure Database Basic Monitor - Serverless Aggregation Queries\r\n",
                "\r\n",
                "Basic monitoring queries to get information about your SQL Azure Database performance.\r\n",
                "\r\n",
                "## Prerequisites\r\n",
                "\r\n",
                "1. An Azure Synapse Workspace with a Synapse SQL Serverless Pool\r\n",
                "2. Permission provided to the Serverless Pool Managed Identity to access the storage account\r\n",
                "3. Data feeding into the storage account"
            ],
            "metadata": {
                "azdata_cell_guid": "568ad8d7-39f0-4c37-882b-22bdb192f1f2"
            },
            "attachments": {}
        },
        {
            "cell_type": "markdown",
            "source": [
                "## Initial Setup\r\n",
                "These scripts are run to set up your initial views/access to the CSV files. These assume you have the proper permissions set up from your serverless pool to access your blob storage account."
            ],
            "metadata": {
                "azdata_cell_guid": "037b279f-f3bb-417c-93ef-abcc122d73ed"
            },
            "attachments": {}
        },
        {
            "cell_type": "markdown",
            "source": [
                "### Credentials\r\n",
                "These are the credentials and data source to access the CSV files, make sure to change the location to your storage account and container.\r\n",
                "Comment these lines out if you have already created your sql credentials to access the data."
            ],
            "metadata": {
                "azdata_cell_guid": "0fb8faef-1f59-44fc-b0dc-0b61e1468b70"
            },
            "attachments": {}
        },
        {
            "cell_type": "code",
            "source": [
                "CREATE MASTER KEY;\r\n",
                "\r\n",
                "CREATE DATABASE SCOPED CREDENTIAL SynapseId\r\n",
                "WITH IDENTITY = 'Managed Identity';\r\n",
                "\r\n",
                "CREATE EXTERNAL DATA SOURCE SqlLogging\r\n",
                "WITH (    LOCATION   = 'https://[youraccount].blob.core.windows.net/[yourcontainer]/',\r\n",
                "          CREDENTIAL = SynapseId\r\n",
                ");"
            ],
            "metadata": {
                "azdata_cell_guid": "c813ff91-708e-442c-91af-c31e7bcbe0cb",
                "language": "sql",
                "tags": []
            },
            "outputs": [],
            "execution_count": null
        },
        {
            "cell_type": "markdown",
            "source": [
                "### Performance View\r\n",
                "This view will give you access to the Sql Performance Data retained from `sys.dm_db_resource_stats`\r\n",
                "\r\n",
                "Make sure to edit the FIELDTERMINATOR to what you used as your LOG_FILE_CSV_SEPARATOR in your function settings."
            ],
            "metadata": {
                "azdata_cell_guid": "d45d987f-124c-4fe6-932e-6a6f8e2ea1ca"
            },
            "attachments": {}
        },
        {
            "cell_type": "code",
            "source": [
                "CREATE OR ALTER VIEW SqlAzurePerformance\r\n",
                "AS\r\n",
                "SELECT CAST(end_time as DATETIME) as end_time, [avg_cpu_percent], [avg_data_io_percent], [avg_log_write_percent], [avg_memory_usage_percent], [xtp_storage_percent], [max_worker_percent], [max_session_percent], [dtu_limit], [avg_login_rate_percent], [avg_instance_cpu_percent], [avg_instance_memory_percent], [cpu_limit], [replica_role], CAST(perf.filepath(1) as DATE) as [file_date] FROM\r\n",
                "    OPENROWSET(\r\n",
                "        BULK 'performance-*.csv',\r\n",
                "        FORMAT = 'CSV', \r\n",
                "        PARSER_VERSION = '2.0',\r\n",
                "        FIELDTERMINATOR ='|',\r\n",
                "        DATA_SOURCE = 'SqlLogging',\r\n",
                "        ROWSET_OPTIONS = '{\"READ_OPTIONS\":[\"ALLOW_INCONSISTENT_READS\"]}'\r\n",
                "    )\r\n",
                "    WITH (\r\n",
                "        [end_time] VARCHAR(25) COLLATE Latin1_General_100_BIN2_UTF8,\r\n",
                "        [avg_cpu_percent] DECIMAL(8,2),\r\n",
                "        [avg_data_io_percent] DECIMAL(8,2),\r\n",
                "        [avg_log_write_percent] DECIMAL(8,2),\r\n",
                "        [avg_memory_usage_percent] DECIMAL(8,2),\r\n",
                "        [xtp_storage_percent] DECIMAL(8,2),\r\n",
                "        [max_worker_percent] DECIMAL(8,2),\r\n",
                "        [max_session_percent] DECIMAL(8,2),\r\n",
                "        [dtu_limit] INT,\r\n",
                "        [avg_login_rate_percent] DECIMAL(8,2),\r\n",
                "        [avg_instance_cpu_percent] DECIMAL(8,2),\r\n",
                "        [avg_instance_memory_percent] DECIMAL(8,2),\r\n",
                "        [cpu_limit] INT,\r\n",
                "        [replica_role] INT\r\n",
                "    ) \r\n",
                "    as [perf]"
            ],
            "metadata": {
                "language": "sql",
                "azdata_cell_guid": "a7091c8e-ce8d-49a6-8403-61298b27e9a8",
                "tags": [
                    "hide_input"
                ]
            },
            "outputs": [
                {
                    "output_type": "display_data",
                    "data": {
                        "text/html": "Commands completed successfully."
                    },
                    "metadata": {}
                },
                {
                    "output_type": "display_data",
                    "data": {
                        "text/html": "Total execution time: 00:00:08.019"
                    },
                    "metadata": {}
                }
            ],
            "execution_count": 29
        },
        {
            "cell_type": "markdown",
            "source": [
                "### Extended Performance Views\r\n",
                "\r\n",
                "If you enabled the extended performance captures, you can use these views to access your extended performance and wait stat information.\r\n",
                "\r\n",
                "Like above, make sure to edit the FIELDTERMINATOR to what you used as your LOG_FILE_CSV_SEPARATOR in your function settings.\r\n",
                ""
            ],
            "metadata": {
                "azdata_cell_guid": "842ce033-7296-4d3e-aa01-add6eeab6c09"
            },
            "attachments": {}
        },
        {
            "cell_type": "code",
            "source": [
                "CREATE OR ALTER VIEW SqlAzureExtendedPerformance\r\n",
                "AS\r\n",
                "SELECT \r\n",
                "        CAST([reading_time] as DATETIME) as [reading_time],\r\n",
                "        [session_id],\r\n",
                "        [request_id],\r\n",
                "        [ecid],\r\n",
                "        [blocking_session_id],\r\n",
                "        [blocking_ecid],\r\n",
                "        [task_state],\r\n",
                "        [wait_type],\r\n",
                "        [wait_duration_ms],\r\n",
                "        [wait_resource],\r\n",
                "        [resource_description],\r\n",
                "        [last_wait_type],\r\n",
                "        [open_trans],\r\n",
                "        [transaction_isolation_level],\r\n",
                "        [is_user_process],\r\n",
                "        [request_cpu_time],\r\n",
                "        [request_logical_reads],\r\n",
                "        [request_reads],\r\n",
                "        [request_writes],\r\n",
                "        [memory_usage],\r\n",
                "        [session_cpu_time],\r\n",
                "        [session_reads],\r\n",
                "        [session_writes],\r\n",
                "        [session_logical_reads],\r\n",
                "        [total_scheduled_time],\r\n",
                "        [total_elapsed_time],\r\n",
                "        CAST([last_request_start_time] as DATETIME) as [last_request_start_time],\r\n",
                "        CAST([last_request_end_time] as DATETIME) as [last_request_end_time],\r\n",
                "        [session_row_count],\r\n",
                "        [prev_error],\r\n",
                "        [open_resultsets],\r\n",
                "        [request_total_elapsed_time],\r\n",
                "        [percent_complete],\r\n",
                "        [est_completion_time],\r\n",
                "        [tran_name],\r\n",
                "        CAST([transaction_begin_time] as DATETIME) as [transaction_begin_time],\r\n",
                "        [tran_type],\r\n",
                "        [tran_state],\r\n",
                "        CAST([request_start_time] as DATETIME) as [request_start_time],\r\n",
                "        [request_status],\r\n",
                "        [command],\r\n",
                "        CONVERT(varbinary(64), [plan_handle], 1) as [plan_handle],\r\n",
                "\t\tCONVERT(varbinary(64), [sql_handle], 1) as [sql_handle],\r\n",
                "        [statement_start_offset],\r\n",
                "        [statement_end_offset],\r\n",
                "        [database_id],\r\n",
                "        [user_id],\r\n",
                "        [executing_managed_code],\r\n",
                "        [pending_io_count],\r\n",
                "        CAST([login_time] as DATETIME) as [login_time],\r\n",
                "        [host_name],\r\n",
                "        [program_name],\r\n",
                "        [host_process_id],\r\n",
                "        [client_version],\r\n",
                "        [client_interface_name],\r\n",
                "        [login_name],\r\n",
                "        [nt_domain],\r\n",
                "        [nt_user_name],\r\n",
                "        [net_packet_size],\r\n",
                "        [client_net_address],\r\n",
                "        CONVERT(varbinary(64), [most_recent_sql_handle], 1) as [most_recent_sql_handle],\r\n",
                "        [session_status],\r\n",
                "        [scheduler_id],\r\n",
                "        [group_id],\r\n",
                "\t\tCONVERT(varbinary(128), [context_info], 1) as [context_info],\r\n",
                "        CAST(perf.filepath(1) as DATE) as [file_date] FROM\r\n",
                "    OPENROWSET(\r\n",
                "        BULK 'extended-performance-*.csv',\r\n",
                "        FORMAT = 'CSV', \r\n",
                "        PARSER_VERSION = '2.0',\r\n",
                "        FIELDTERMINATOR ='|',\r\n",
                "        DATA_SOURCE = 'SqlLogging',\r\n",
                "        ROWSET_OPTIONS = '{\"READ_OPTIONS\":[\"ALLOW_INCONSISTENT_READS\"]}'\r\n",
                "    )\r\n",
                "    WITH (\r\n",
                "        [reading_time] nvarchar(25) COLLATE Latin1_General_100_BIN2_UTF8,\r\n",
                "        [session_id] [smallint],\r\n",
                "        [request_id] [int],\r\n",
                "        [ecid] [int],\r\n",
                "        [blocking_session_id] [smallint],\r\n",
                "        [blocking_ecid] [int] ,\r\n",
                "        [task_state] nvarchar(15) COLLATE Latin1_General_100_BIN2_UTF8,\r\n",
                "        [wait_type] [nvarchar](60) COLLATE Latin1_General_100_BIN2_UTF8,\r\n",
                "        [wait_duration_ms] [bigint],\r\n",
                "        [wait_resource] [nvarchar](40) COLLATE Latin1_General_100_BIN2_UTF8,\r\n",
                "        [resource_description] [nvarchar](140) COLLATE Latin1_General_100_BIN2_UTF8,\r\n",
                "        [last_wait_type] [nvarchar](50) COLLATE Latin1_General_100_BIN2_UTF8,\r\n",
                "        [open_trans] [int],\r\n",
                "        [transaction_isolation_level] [varchar](30) COLLATE Latin1_General_100_BIN2_UTF8,\r\n",
                "        [is_user_process] [bit],\r\n",
                "        [request_cpu_time] [int],\r\n",
                "        [request_logical_reads] [bigint],\r\n",
                "        [request_reads] [bigint],\r\n",
                "        [request_writes] [bigint],\r\n",
                "        [memory_usage] [int],\r\n",
                "        [session_cpu_time] [int],\r\n",
                "        [session_reads] [bigint],\r\n",
                "        [session_writes] [bigint],\r\n",
                "        [session_logical_reads] [bigint],\r\n",
                "        [total_scheduled_time] [int],\r\n",
                "        [total_elapsed_time] [int],\r\n",
                "        [last_request_start_time] nvarchar(25) COLLATE Latin1_General_100_BIN2_UTF8,\r\n",
                "        [last_request_end_time] nvarchar(25) COLLATE Latin1_General_100_BIN2_UTF8,\r\n",
                "        [session_row_count] [bigint],\r\n",
                "        [prev_error] [int],\r\n",
                "        [open_resultsets] [int],\r\n",
                "        [request_total_elapsed_time] [int],\r\n",
                "        [percent_complete] [decimal](5, 2),\r\n",
                "        [est_completion_time] [bigint],\r\n",
                "        [tran_name] [nvarchar](24),\r\n",
                "        [transaction_begin_time] nvarchar(25) COLLATE Latin1_General_100_BIN2_UTF8,\r\n",
                "        [tran_type] [varchar](15) COLLATE Latin1_General_100_BIN2_UTF8,\r\n",
                "        [tran_state] [varchar](15) COLLATE Latin1_General_100_BIN2_UTF8,\r\n",
                "        [request_start_time] nvarchar(25) COLLATE Latin1_General_100_BIN2_UTF8,\r\n",
                "        [request_status] [nvarchar](15) COLLATE Latin1_General_100_BIN2_UTF8,\r\n",
                "        [command] [nvarchar](16) COLLATE Latin1_General_100_BIN2_UTF8,\r\n",
                "        [plan_handle] [varchar](256) COLLATE Latin1_General_100_BIN2_UTF8,\r\n",
                "        [sql_handle] [varchar](256) COLLATE Latin1_General_100_BIN2_UTF8,\r\n",
                "        [statement_start_offset] [int],\r\n",
                "        [statement_end_offset] [int],\r\n",
                "        [database_id] [smallint],\r\n",
                "        [user_id] [int],\r\n",
                "        [executing_managed_code] [bit],\r\n",
                "        [pending_io_count] [int],\r\n",
                "        [login_time] nvarchar(25) COLLATE Latin1_General_100_BIN2_UTF8,\r\n",
                "        [host_name] [nvarchar](20) COLLATE Latin1_General_100_BIN2_UTF8,\r\n",
                "        [program_name] [nvarchar](50) COLLATE Latin1_General_100_BIN2_UTF8,\r\n",
                "        [host_process_id] [int],\r\n",
                "        [client_version] [int],\r\n",
                "        [client_interface_name] [nvarchar](30) COLLATE Latin1_General_100_BIN2_UTF8,\r\n",
                "        [login_name] [nvarchar](30) COLLATE Latin1_General_100_BIN2_UTF8,\r\n",
                "        [nt_domain] [nvarchar](30) COLLATE Latin1_General_100_BIN2_UTF8,\r\n",
                "        [nt_user_name] [nvarchar](20) COLLATE Latin1_General_100_BIN2_UTF8,\r\n",
                "        [net_packet_size] [int],\r\n",
                "        [client_net_address] [varchar](20) COLLATE Latin1_General_100_BIN2_UTF8,\r\n",
                "        [most_recent_sql_handle] [varchar](256)  COLLATE Latin1_General_100_BIN2_UTF8,\r\n",
                "        [session_status] [nvarchar](15) COLLATE Latin1_General_100_BIN2_UTF8,\r\n",
                "        [scheduler_id] [int],\r\n",
                "        [group_id] [int],\r\n",
                "        [context_info] varchar(512) COLLATE Latin1_General_100_BIN2_UTF8\r\n",
                "    ) \r\n",
                "    as [perf]"
            ],
            "metadata": {
                "language": "sql",
                "azdata_cell_guid": "7f3506e8-4e21-4829-93b1-927a56f02c26",
                "tags": [
                    "hide_input"
                ]
            },
            "outputs": [
                {
                    "output_type": "display_data",
                    "data": {
                        "text/html": "Commands completed successfully."
                    },
                    "metadata": {}
                },
                {
                    "output_type": "display_data",
                    "data": {
                        "text/html": "Total execution time: 00:00:07.623"
                    },
                    "metadata": {}
                }
            ],
            "execution_count": 18
        },
        {
            "cell_type": "code",
            "source": [
                "CREATE OR ALTER VIEW SqlWaitStats\r\n",
                "AS\r\n",
                "SELECT CAST(reading_time as DATETIME) as reading_time, \r\n",
                "\t[wait_type], \r\n",
                "\t[waiting_tasks_count], \r\n",
                "\t[wait_time_ms], \r\n",
                "\t[max_wait_time_ms], \r\n",
                "\t[signal_wait_time_ms], \r\n",
                "\tCAST(perf.filepath(1) as DATE) as [file_date] FROM\r\n",
                "    OPENROWSET(\r\n",
                "        BULK 'wait_stats-*.csv',\r\n",
                "        FORMAT = 'CSV', \r\n",
                "        PARSER_VERSION = '2.0',\r\n",
                "        FIELDTERMINATOR ='|',\r\n",
                "        DATA_SOURCE = 'SqlLogging',\r\n",
                "        ROWSET_OPTIONS = '{\"READ_OPTIONS\":[\"ALLOW_INCONSISTENT_READS\"]}'\r\n",
                "    )\r\n",
                "    WITH (\r\n",
                "        [reading_time] VARCHAR(25) COLLATE Latin1_General_100_BIN2_UTF8,\r\n",
                "        [wait_type] NVARCHAR(45),\r\n",
                "        [waiting_tasks_count] bigint,\r\n",
                "\t\t[wait_time_ms] bigint,\r\n",
                "\t\t[max_wait_time_ms] bigint,\r\n",
                "\t\t[signal_wait_time_ms] bigint\r\n",
                "    ) \r\n",
                "    as [perf]"
            ],
            "metadata": {
                "azdata_cell_guid": "0547ccab-2251-4fc7-8259-3542fbfa4aa9",
                "language": "sql",
                "tags": [
                    "hide_input"
                ]
            },
            "outputs": [],
            "execution_count": null
        },
        {
            "cell_type": "markdown",
            "source": [
                "## Example Queries\r\n",
                "Here are some example queries to start using the performance data. \r\n",
                "\r\n",
                "When writing your own queries, make sure to timebox your data using `file_date` as the predicate as this will use partition elimination to improve your query performance."
            ],
            "metadata": {
                "azdata_cell_guid": "1826a4a1-c0a4-4d9a-a999-c0fa1ed8985f"
            },
            "attachments": {}
        },
        {
            "cell_type": "markdown",
            "source": [
                "### Top 5 instances of CPU Usage over the last week"
            ],
            "metadata": {
                "language": "sql",
                "azdata_cell_guid": "1d3344bb-e4ab-4630-9829-1cf4292834c1"
            },
            "attachments": {}
        },
        {
            "cell_type": "code",
            "source": [
                "SELECT TOP 5 end_time, avg_cpu_percent, avg_data_io_percent, avg_log_write_percent, file_date\r\n",
                "FROM SqlAzurePerformance WHERE file_date > DATEADD(day, -7, CURRENT_TIMESTAMP) ORDER BY avg_cpu_percent DESC"
            ],
            "metadata": {
                "azdata_cell_guid": "483ac89d-25a2-4442-aa40-2889c8579d9d",
                "language": "sql"
            },
            "outputs": [
                {
                    "output_type": "display_data",
                    "data": {
                        "text/html": "Statement ID: {8F495E70-A382-4162-A3F8-972B162F3AB8} | Query hash: 0x5EFBE0F2CC9805DD | Distributed request ID: {07AEC349-1F47-4D97-A07C-5219469200F9}. Total size of data scanned is 3 megabytes, total size of data moved is 1 megabytes, total size of data written is 0 megabytes."
                    },
                    "metadata": {}
                },
                {
                    "output_type": "display_data",
                    "data": {
                        "text/html": "(5 rows affected)"
                    },
                    "metadata": {}
                },
                {
                    "output_type": "display_data",
                    "data": {
                        "text/html": "Total execution time: 00:00:20.277"
                    },
                    "metadata": {}
                },
                {
                    "output_type": "execute_result",
                    "metadata": {},
                    "execution_count": 41,
                    "data": {
                        "application/vnd.dataresource+json": {
                            "schema": {
                                "fields": [
                                    {
                                        "name": "end_time"
                                    },
                                    {
                                        "name": "avg_cpu_percent"
                                    },
                                    {
                                        "name": "avg_data_io_percent"
                                    },
                                    {
                                        "name": "avg_log_write_percent"
                                    },
                                    {
                                        "name": "file_date"
                                    }
                                ]
                            },
                            "data": [
                                {
                                    "0": "2022-11-08 20:21:04.000",
                                    "1": "12.95",
                                    "2": "0.62",
                                    "3": "0.00",
                                    "4": "2022-11-08"
                                },
                                {
                                    "0": "2022-11-08 03:46:09.000",
                                    "1": "2.82",
                                    "2": "0.00",
                                    "3": "0.00",
                                    "4": "2022-11-08"
                                },
                                {
                                    "0": "2022-11-08 04:15:14.000",
                                    "1": "2.04",
                                    "2": "0.00",
                                    "3": "0.00",
                                    "4": "2022-11-08"
                                },
                                {
                                    "0": "2022-11-08 03:47:09.000",
                                    "1": "1.88",
                                    "2": "0.00",
                                    "3": "0.00",
                                    "4": "2022-11-08"
                                },
                                {
                                    "0": "2022-11-07 22:07:09.000",
                                    "1": "1.88",
                                    "2": "0.00",
                                    "3": "0.00",
                                    "4": "2022-11-07"
                                }
                            ]
                        },
                        "text/html": [
                            "<table>",
                            "<tr><th>end_time</th><th>avg_cpu_percent</th><th>avg_data_io_percent</th><th>avg_log_write_percent</th><th>file_date</th></tr>",
                            "<tr><td>2022-11-08 20:21:04.000</td><td>12.95</td><td>0.62</td><td>0.00</td><td>2022-11-08</td></tr>",
                            "<tr><td>2022-11-08 03:46:09.000</td><td>2.82</td><td>0.00</td><td>0.00</td><td>2022-11-08</td></tr>",
                            "<tr><td>2022-11-08 04:15:14.000</td><td>2.04</td><td>0.00</td><td>0.00</td><td>2022-11-08</td></tr>",
                            "<tr><td>2022-11-08 03:47:09.000</td><td>1.88</td><td>0.00</td><td>0.00</td><td>2022-11-08</td></tr>",
                            "<tr><td>2022-11-07 22:07:09.000</td><td>1.88</td><td>0.00</td><td>0.00</td><td>2022-11-07</td></tr>",
                            "</table>"
                        ]
                    }
                }
            ],
            "execution_count": 41
        },
        {
            "cell_type": "markdown",
            "source": [
                "### Extended query statistics\n",
                "\n",
                "Based on the results of the query above we see that at 20:21 we have a higher use of CPU. With the extended performance data we can see if anything interesting stands out.\n",
                "\n",
                "Note the reading_time being filtered to the minutes around the end_time shown, also we filter on file_date to only read the file from one day."
            ],
            "metadata": {
                "azdata_cell_guid": "a2708bfc-1f6d-4ec3-b4ef-b1b6ced9647b"
            },
            "attachments": {}
        },
        {
            "cell_type": "code",
            "source": [
                "\tSELECT TOP 10000 reading_time, \r\n",
                "      session_id, request_id, ecid, blocking_session_id, blocking_ecid, task_state, \r\n",
                "      wait_type, wait_duration_ms, wait_resource, resource_description, last_wait_type, \r\n",
                "      open_trans, transaction_isolation_level, is_user_process, \r\n",
                "      request_cpu_time, request_logical_reads, request_reads, request_writes, memory_usage, \r\n",
                "      session_cpu_time, session_reads, session_writes, session_logical_reads, total_scheduled_time, \r\n",
                "      total_elapsed_time, CONVERT (varchar, last_request_start_time, 126) AS last_request_start_time, \r\n",
                "      CONVERT (varchar, last_request_end_time, 126) AS last_request_end_time, session_row_count, \r\n",
                "      prev_error, open_resultsets, request_total_elapsed_time, percent_complete, \r\n",
                "      est_completion_time, tran_name, \r\n",
                "      CONVERT (varchar, transaction_begin_time, 126) AS transaction_begin_time, tran_type, \r\n",
                "      tran_state, CONVERT (varchar, request_start_time, 126) AS request_start_time, request_status, \r\n",
                "      command, statement_start_offset, statement_end_offset, database_id, [user_id], \r\n",
                "      executing_managed_code, pending_io_count, CONVERT (varchar, login_time, 126) AS login_time, \r\n",
                "      [host_name], program_name, host_process_id, client_version, client_interface_name, login_name, \r\n",
                "      nt_domain, nt_user_name, net_packet_size, client_net_address, session_status, \r\n",
                "      scheduler_id,\r\n",
                "      group_id,\r\n",
                "      [context_info]\r\n",
                "    FROM SqlAzureExtendedPerformance r\r\n",
                "    WHERE \r\n",
                "\t\t(reading_time BETWEEN '2022-11-08 20:20:04.000' AND '2022-11-08 20:22:04.000' and file_date = '2022-11-08') AND\r\n",
                "      /* One EC can have multiple waits in sys.dm_os_waiting_tasks (e.g. parent thread waiting on multiple children, for example \r\n",
                "      ** for parallel create index; or mem grant waits for RES_SEM_FOR_QRY_COMPILE).  This will result in the same EC being listed \r\n",
                "      ** multiple times in the request table, which is counterintuitive for most people.  Instead of showing all wait relationships, \r\n",
                "      ** for each EC we will report the wait relationship that has the longest wait time.  (If there are multiple relationships with \r\n",
                "      ** the same wait time, blocker spid/ecid is used to choose one of them.)  If it were not for , we would do this \r\n",
                "      ** exclusion in the previous query to avoid storing data that will ultimately be filtered out. */\r\n",
                "      NOT EXISTS \r\n",
                "        (SELECT * FROM SqlAzureExtendedPerformance r2 \r\n",
                "         WHERE r.session_id = r2.session_id AND r.request_id = r2.request_id AND r.ecid = r2.ecid AND r.wait_type = r2.wait_type \r\n",
                "           AND (r2.wait_duration_ms > r.wait_duration_ms OR (r2.wait_duration_ms = r.wait_duration_ms)))"
            ],
            "metadata": {
                "azdata_cell_guid": "43f8fb2c-89a5-4156-bcb2-7b8bcefb6d6a",
                "language": "sql"
            },
            "outputs": [
                {
                    "output_type": "display_data",
                    "data": {
                        "text/html": "(1 row affected)"
                    },
                    "metadata": {}
                },
                {
                    "output_type": "display_data",
                    "data": {
                        "text/html": "(1 row affected)"
                    },
                    "metadata": {}
                },
                {
                    "output_type": "display_data",
                    "data": {
                        "text/html": "(1 row affected)"
                    },
                    "metadata": {}
                },
                {
                    "output_type": "display_data",
                    "data": {
                        "text/html": "(1 row affected)"
                    },
                    "metadata": {}
                },
                {
                    "output_type": "display_data",
                    "data": {
                        "text/html": "(1 row affected)"
                    },
                    "metadata": {}
                },
                {
                    "output_type": "display_data",
                    "data": {
                        "text/html": "(1 row affected)"
                    },
                    "metadata": {}
                },
                {
                    "output_type": "display_data",
                    "data": {
                        "text/html": "(1 row affected)"
                    },
                    "metadata": {}
                },
                {
                    "output_type": "display_data",
                    "data": {
                        "text/html": "Statement ID: {209DB211-8011-4DAF-AB08-EA9BF8C2363D} | Query hash: 0xF0B92662D7833AE5 | Distributed request ID: {4A34D890-8168-4422-924C-5B36074A7035}. Total size of data scanned is 11 megabytes, total size of data moved is 1 megabytes, total size of data written is 0 megabytes."
                    },
                    "metadata": {}
                },
                {
                    "output_type": "display_data",
                    "data": {
                        "text/html": "(7 rows affected)"
                    },
                    "metadata": {}
                },
                {
                    "output_type": "display_data",
                    "data": {
                        "text/html": "Total execution time: 00:00:21.539"
                    },
                    "metadata": {}
                },
                {
                    "output_type": "execute_result",
                    "metadata": {},
                    "execution_count": 42,
                    "data": {
                        "application/vnd.dataresource+json": {
                            "schema": {
                                "fields": [
                                    {
                                        "name": "reading_time"
                                    },
                                    {
                                        "name": "session_id"
                                    },
                                    {
                                        "name": "request_id"
                                    },
                                    {
                                        "name": "ecid"
                                    },
                                    {
                                        "name": "blocking_session_id"
                                    },
                                    {
                                        "name": "blocking_ecid"
                                    },
                                    {
                                        "name": "task_state"
                                    },
                                    {
                                        "name": "wait_type"
                                    },
                                    {
                                        "name": "wait_duration_ms"
                                    },
                                    {
                                        "name": "wait_resource"
                                    },
                                    {
                                        "name": "resource_description"
                                    },
                                    {
                                        "name": "last_wait_type"
                                    },
                                    {
                                        "name": "open_trans"
                                    },
                                    {
                                        "name": "transaction_isolation_level"
                                    },
                                    {
                                        "name": "is_user_process"
                                    },
                                    {
                                        "name": "request_cpu_time"
                                    },
                                    {
                                        "name": "request_logical_reads"
                                    },
                                    {
                                        "name": "request_reads"
                                    },
                                    {
                                        "name": "request_writes"
                                    },
                                    {
                                        "name": "memory_usage"
                                    },
                                    {
                                        "name": "session_cpu_time"
                                    },
                                    {
                                        "name": "session_reads"
                                    },
                                    {
                                        "name": "session_writes"
                                    },
                                    {
                                        "name": "session_logical_reads"
                                    },
                                    {
                                        "name": "total_scheduled_time"
                                    },
                                    {
                                        "name": "total_elapsed_time"
                                    },
                                    {
                                        "name": "last_request_start_time"
                                    },
                                    {
                                        "name": "last_request_end_time"
                                    },
                                    {
                                        "name": "session_row_count"
                                    },
                                    {
                                        "name": "prev_error"
                                    },
                                    {
                                        "name": "open_resultsets"
                                    },
                                    {
                                        "name": "request_total_elapsed_time"
                                    },
                                    {
                                        "name": "percent_complete"
                                    },
                                    {
                                        "name": "est_completion_time"
                                    },
                                    {
                                        "name": "tran_name"
                                    },
                                    {
                                        "name": "transaction_begin_time"
                                    },
                                    {
                                        "name": "tran_type"
                                    },
                                    {
                                        "name": "tran_state"
                                    },
                                    {
                                        "name": "request_start_time"
                                    },
                                    {
                                        "name": "request_status"
                                    },
                                    {
                                        "name": "command"
                                    },
                                    {
                                        "name": "statement_start_offset"
                                    },
                                    {
                                        "name": "statement_end_offset"
                                    },
                                    {
                                        "name": "database_id"
                                    },
                                    {
                                        "name": "user_id"
                                    },
                                    {
                                        "name": "executing_managed_code"
                                    },
                                    {
                                        "name": "pending_io_count"
                                    },
                                    {
                                        "name": "login_time"
                                    },
                                    {
                                        "name": "host_name"
                                    },
                                    {
                                        "name": "program_name"
                                    },
                                    {
                                        "name": "host_process_id"
                                    },
                                    {
                                        "name": "client_version"
                                    },
                                    {
                                        "name": "client_interface_name"
                                    },
                                    {
                                        "name": "login_name"
                                    },
                                    {
                                        "name": "nt_domain"
                                    },
                                    {
                                        "name": "nt_user_name"
                                    },
                                    {
                                        "name": "net_packet_size"
                                    },
                                    {
                                        "name": "client_net_address"
                                    },
                                    {
                                        "name": "session_status"
                                    },
                                    {
                                        "name": "scheduler_id"
                                    },
                                    {
                                        "name": "group_id"
                                    },
                                    {
                                        "name": "context_info"
                                    }
                                ]
                            },
                            "data": [
                                {
                                    "0": "2022-11-08 20:21:00.000",
                                    "1": "52",
                                    "2": "0",
                                    "3": "NULL",
                                    "4": "0",
                                    "5": "NULL",
                                    "6": "NULL",
                                    "7": "XE_LIVE_TARGET_TVF",
                                    "8": "1095",
                                    "9": "NULL",
                                    "10": "NULL",
                                    "11": "XE_LIVE_TARGET_TVF",
                                    "12": "NULL",
                                    "13": "2-Read Committed",
                                    "14": "1",
                                    "15": "541",
                                    "16": "95",
                                    "17": "24",
                                    "18": "0",
                                    "19": "0",
                                    "20": "0",
                                    "21": "0",
                                    "22": "0",
                                    "23": "0",
                                    "24": "0",
                                    "25": "0",
                                    "26": "2022-10-21T22:07:17",
                                    "27": "2022-10-21T22:07:17",
                                    "28": "0",
                                    "29": "0",
                                    "30": "1",
                                    "31": "1548846716",
                                    "32": "0.00",
                                    "33": "0",
                                    "34": "SELECT",
                                    "35": "2022-10-21T22:07:17",
                                    "36": "2-Read only",
                                    "37": "2-Active",
                                    "38": "2022-10-21T22:07:17",
                                    "39": "suspended",
                                    "40": "SELECT",
                                    "41": "46",
                                    "42": "174",
                                    "43": "1",
                                    "44": "1",
                                    "45": "0",
                                    "46": "NULL",
                                    "47": "2022-10-21T22:07:17",
                                    "48": "DB2",
                                    "49": "TdService",
                                    "50": "12168",
                                    "51": "7",
                                    "52": "Framework Microsoft SqlClient ",
                                    "53": "NT AUTHORITY\\SYSTEM",
                                    "54": "NT AUTHORITY",
                                    "55": "SYSTEM",
                                    "56": "8000",
                                    "57": "<named pipe>",
                                    "58": "running",
                                    "59": "NULL",
                                    "60": "2",
                                    "61": "0x"
                                },
                                {
                                    "0": "2022-11-08 20:21:00.000",
                                    "1": "53",
                                    "2": "0",
                                    "3": "NULL",
                                    "4": "0",
                                    "5": "NULL",
                                    "6": "NULL",
                                    "7": "XE_LIVE_TARGET_TVF",
                                    "8": "59095",
                                    "9": "NULL",
                                    "10": "NULL",
                                    "11": "XE_LIVE_TARGET_TVF",
                                    "12": "NULL",
                                    "13": "2-Read Committed",
                                    "14": "1",
                                    "15": "693",
                                    "16": "0",
                                    "17": "0",
                                    "18": "0",
                                    "19": "0",
                                    "20": "0",
                                    "21": "0",
                                    "22": "0",
                                    "23": "0",
                                    "24": "0",
                                    "25": "0",
                                    "26": "2022-10-21T22:07:17",
                                    "27": "2022-10-21T22:07:17",
                                    "28": "0",
                                    "29": "0",
                                    "30": "1",
                                    "31": "1548846404",
                                    "32": "0.00",
                                    "33": "0",
                                    "34": "SELECT",
                                    "35": "2022-10-21T22:07:17",
                                    "36": "2-Read only",
                                    "37": "2-Active",
                                    "38": "2022-10-21T22:07:17",
                                    "39": "suspended",
                                    "40": "SELECT",
                                    "41": "46",
                                    "42": "174",
                                    "43": "1",
                                    "44": "1",
                                    "45": "0",
                                    "46": "NULL",
                                    "47": "2022-10-21T22:07:17",
                                    "48": "DB2",
                                    "49": "TdService",
                                    "50": "12168",
                                    "51": "7",
                                    "52": "Framework Microsoft SqlClient ",
                                    "53": "NT AUTHORITY\\SYSTEM",
                                    "54": "NT AUTHORITY",
                                    "55": "SYSTEM",
                                    "56": "8000",
                                    "57": "<named pipe>",
                                    "58": "running",
                                    "59": "NULL",
                                    "60": "2",
                                    "61": "0x"
                                },
                                {
                                    "0": "2022-11-08 20:21:00.000",
                                    "1": "56",
                                    "2": "0",
                                    "3": "NULL",
                                    "4": "0",
                                    "5": "NULL",
                                    "6": "NULL",
                                    "7": "NULL",
                                    "8": "0",
                                    "9": "NULL",
                                    "10": "NULL",
                                    "11": "MEMORY_ALLOCATION_EXT",
                                    "12": "NULL",
                                    "13": "2-Read Committed",
                                    "14": "1",
                                    "15": "293",
                                    "16": "17",
                                    "17": "0",
                                    "18": "0",
                                    "19": "4",
                                    "20": "0",
                                    "21": "24",
                                    "22": "0",
                                    "23": "53",
                                    "24": "3",
                                    "25": "165",
                                    "26": "2022-11-08T20:20:59",
                                    "27": "2022-11-08T20:20:59",
                                    "28": "1",
                                    "29": "0",
                                    "30": "1",
                                    "31": "986",
                                    "32": "0.00",
                                    "33": "0",
                                    "34": "SELECT",
                                    "35": "2022-11-08T20:20:59",
                                    "36": "2-Read only",
                                    "37": "2-Active",
                                    "38": "2022-11-08T20:20:59",
                                    "39": "runnable",
                                    "40": "SELECT",
                                    "41": "0",
                                    "42": "280",
                                    "43": "5",
                                    "44": "1",
                                    "45": "0",
                                    "46": "NULL",
                                    "47": "2022-11-08T20:20:59",
                                    "48": "10-30-2-220",
                                    "49": ".Net SqlClient Data Provider",
                                    "50": "8032",
                                    "51": "7",
                                    "52": ".Net SqlClient Data Provider",
                                    "53": "cabattagsa",
                                    "54": "NULL",
                                    "55": "NULL",
                                    "56": "8058",
                                    "57": "52.143.81.61",
                                    "58": "running",
                                    "59": "NULL",
                                    "60": "2000000039",
                                    "61": "0x440034003600320042004100340043002D0038003000350032002D0034004300350032002D0038004600370044002D003200420033003300300046003700310036004100360036"
                                },
                                {
                                    "0": "2022-11-08 20:21:00.000",
                                    "1": "57",
                                    "2": "0",
                                    "3": "NULL",
                                    "4": "0",
                                    "5": "NULL",
                                    "6": "NULL",
                                    "7": "NULL",
                                    "8": "0",
                                    "9": "NULL",
                                    "10": "NULL",
                                    "11": "RESERVED_MEMORY_ALLOCATION_EXT",
                                    "12": "NULL",
                                    "13": "2-Read Committed",
                                    "14": "1",
                                    "15": "14",
                                    "16": "92",
                                    "17": "0",
                                    "18": "0",
                                    "19": "0",
                                    "20": "0",
                                    "21": "0",
                                    "22": "0",
                                    "23": "0",
                                    "24": "0",
                                    "25": "0",
                                    "26": "2022-11-08T20:21:00",
                                    "27": "2022-11-08T20:21:00",
                                    "28": "0",
                                    "29": "0",
                                    "30": "1",
                                    "31": "236",
                                    "32": "0.00",
                                    "33": "0",
                                    "34": "SELECT",
                                    "35": "2022-11-08T20:21:00",
                                    "36": "2-Read only",
                                    "37": "2-Active",
                                    "38": "2022-11-08T20:21:00",
                                    "39": "running",
                                    "40": "SELECT",
                                    "41": "104",
                                    "42": "11418",
                                    "43": "5",
                                    "44": "1",
                                    "45": "0",
                                    "46": "NULL",
                                    "47": "2022-11-08T20:21:00",
                                    "48": "10-30-10-192",
                                    "49": "Core Microsoft SqlClient Data Provider",
                                    "50": "2812",
                                    "51": "7",
                                    "52": "Core Microsoft SqlClient Data ",
                                    "53": "cabattagsa",
                                    "54": "NULL",
                                    "55": "NULL",
                                    "56": "8058",
                                    "57": "52.154.242.237",
                                    "58": "running",
                                    "59": "NULL",
                                    "60": "2000000039",
                                    "61": "0x"
                                },
                                {
                                    "0": "2022-11-08 20:22:00.000",
                                    "1": "52",
                                    "2": "0",
                                    "3": "NULL",
                                    "4": "0",
                                    "5": "NULL",
                                    "6": "NULL",
                                    "7": "XE_LIVE_TARGET_TVF",
                                    "8": "746",
                                    "9": "NULL",
                                    "10": "NULL",
                                    "11": "XE_LIVE_TARGET_TVF",
                                    "12": "NULL",
                                    "13": "2-Read Committed",
                                    "14": "1",
                                    "15": "541",
                                    "16": "95",
                                    "17": "24",
                                    "18": "0",
                                    "19": "0",
                                    "20": "0",
                                    "21": "0",
                                    "22": "0",
                                    "23": "0",
                                    "24": "0",
                                    "25": "0",
                                    "26": "2022-10-21T22:07:17",
                                    "27": "2022-10-21T22:07:17",
                                    "28": "0",
                                    "29": "0",
                                    "30": "1",
                                    "31": "1548906382",
                                    "32": "0.00",
                                    "33": "0",
                                    "34": "SELECT",
                                    "35": "2022-10-21T22:07:17",
                                    "36": "2-Read only",
                                    "37": "2-Active",
                                    "38": "2022-10-21T22:07:17",
                                    "39": "suspended",
                                    "40": "SELECT",
                                    "41": "46",
                                    "42": "174",
                                    "43": "1",
                                    "44": "1",
                                    "45": "0",
                                    "46": "NULL",
                                    "47": "2022-10-21T22:07:17",
                                    "48": "DB2",
                                    "49": "TdService",
                                    "50": "12168",
                                    "51": "7",
                                    "52": "Framework Microsoft SqlClient ",
                                    "53": "NT AUTHORITY\\SYSTEM",
                                    "54": "NT AUTHORITY",
                                    "55": "SYSTEM",
                                    "56": "8000",
                                    "57": "<named pipe>",
                                    "58": "running",
                                    "59": "NULL",
                                    "60": "2",
                                    "61": "0x"
                                },
                                {
                                    "0": "2022-11-08 20:22:00.000",
                                    "1": "53",
                                    "2": "0",
                                    "3": "NULL",
                                    "4": "0",
                                    "5": "NULL",
                                    "6": "NULL",
                                    "7": "XE_LIVE_TARGET_TVF",
                                    "8": "58761",
                                    "9": "NULL",
                                    "10": "NULL",
                                    "11": "XE_LIVE_TARGET_TVF",
                                    "12": "NULL",
                                    "13": "2-Read Committed",
                                    "14": "1",
                                    "15": "693",
                                    "16": "0",
                                    "17": "0",
                                    "18": "0",
                                    "19": "0",
                                    "20": "0",
                                    "21": "0",
                                    "22": "0",
                                    "23": "0",
                                    "24": "0",
                                    "25": "0",
                                    "26": "2022-10-21T22:07:17",
                                    "27": "2022-10-21T22:07:17",
                                    "28": "0",
                                    "29": "0",
                                    "30": "1",
                                    "31": "1548906070",
                                    "32": "0.00",
                                    "33": "0",
                                    "34": "SELECT",
                                    "35": "2022-10-21T22:07:17",
                                    "36": "2-Read only",
                                    "37": "2-Active",
                                    "38": "2022-10-21T22:07:17",
                                    "39": "suspended",
                                    "40": "SELECT",
                                    "41": "46",
                                    "42": "174",
                                    "43": "1",
                                    "44": "1",
                                    "45": "0",
                                    "46": "NULL",
                                    "47": "2022-10-21T22:07:17",
                                    "48": "DB2",
                                    "49": "TdService",
                                    "50": "12168",
                                    "51": "7",
                                    "52": "Framework Microsoft SqlClient ",
                                    "53": "NT AUTHORITY\\SYSTEM",
                                    "54": "NT AUTHORITY",
                                    "55": "SYSTEM",
                                    "56": "8000",
                                    "57": "<named pipe>",
                                    "58": "running",
                                    "59": "NULL",
                                    "60": "2",
                                    "61": "0x"
                                },
                                {
                                    "0": "2022-11-08 20:22:00.000",
                                    "1": "57",
                                    "2": "0",
                                    "3": "NULL",
                                    "4": "0",
                                    "5": "NULL",
                                    "6": "NULL",
                                    "7": "NULL",
                                    "8": "0",
                                    "9": "NULL",
                                    "10": "NULL",
                                    "11": "RESERVED_MEMORY_ALLOCATION_EXT",
                                    "12": "NULL",
                                    "13": "2-Read Committed",
                                    "14": "1",
                                    "15": "10",
                                    "16": "92",
                                    "17": "0",
                                    "18": "0",
                                    "19": "0",
                                    "20": "0",
                                    "21": "0",
                                    "22": "0",
                                    "23": "0",
                                    "24": "0",
                                    "25": "0",
                                    "26": "2022-11-08T20:22:00",
                                    "27": "2022-11-08T20:22:00",
                                    "28": "0",
                                    "29": "0",
                                    "30": "1",
                                    "31": "11",
                                    "32": "0.00",
                                    "33": "0",
                                    "34": "SELECT",
                                    "35": "2022-11-08T20:22:00",
                                    "36": "2-Read only",
                                    "37": "2-Active",
                                    "38": "2022-11-08T20:22:00",
                                    "39": "running",
                                    "40": "SELECT",
                                    "41": "104",
                                    "42": "11418",
                                    "43": "5",
                                    "44": "1",
                                    "45": "0",
                                    "46": "NULL",
                                    "47": "2022-11-08T20:22:00",
                                    "48": "10-30-10-192",
                                    "49": "Core Microsoft SqlClient Data Provider",
                                    "50": "2812",
                                    "51": "7",
                                    "52": "Core Microsoft SqlClient Data ",
                                    "53": "cabattagsa",
                                    "54": "NULL",
                                    "55": "NULL",
                                    "56": "8058",
                                    "57": "52.154.242.237",
                                    "58": "running",
                                    "59": "NULL",
                                    "60": "2000000039",
                                    "61": "0x"
                                }
                            ]
                        },
                        "text/html": [
                            "<table>",
                            "<tr><th>reading_time</th><th>session_id</th><th>request_id</th><th>ecid</th><th>blocking_session_id</th><th>blocking_ecid</th><th>task_state</th><th>wait_type</th><th>wait_duration_ms</th><th>wait_resource</th><th>resource_description</th><th>last_wait_type</th><th>open_trans</th><th>transaction_isolation_level</th><th>is_user_process</th><th>request_cpu_time</th><th>request_logical_reads</th><th>request_reads</th><th>request_writes</th><th>memory_usage</th><th>session_cpu_time</th><th>session_reads</th><th>session_writes</th><th>session_logical_reads</th><th>total_scheduled_time</th><th>total_elapsed_time</th><th>last_request_start_time</th><th>last_request_end_time</th><th>session_row_count</th><th>prev_error</th><th>open_resultsets</th><th>request_total_elapsed_time</th><th>percent_complete</th><th>est_completion_time</th><th>tran_name</th><th>transaction_begin_time</th><th>tran_type</th><th>tran_state</th><th>request_start_time</th><th>request_status</th><th>command</th><th>statement_start_offset</th><th>statement_end_offset</th><th>database_id</th><th>user_id</th><th>executing_managed_code</th><th>pending_io_count</th><th>login_time</th><th>host_name</th><th>program_name</th><th>host_process_id</th><th>client_version</th><th>client_interface_name</th><th>login_name</th><th>nt_domain</th><th>nt_user_name</th><th>net_packet_size</th><th>client_net_address</th><th>session_status</th><th>scheduler_id</th><th>group_id</th><th>context_info</th></tr>",
                            "<tr><td>2022-11-08 20:21:00.000</td><td>52</td><td>0</td><td>NULL</td><td>0</td><td>NULL</td><td>NULL</td><td>XE_LIVE_TARGET_TVF</td><td>1095</td><td>NULL</td><td>NULL</td><td>XE_LIVE_TARGET_TVF</td><td>NULL</td><td>2-Read Committed</td><td>1</td><td>541</td><td>95</td><td>24</td><td>0</td><td>0</td><td>0</td><td>0</td><td>0</td><td>0</td><td>0</td><td>0</td><td>2022-10-21T22:07:17</td><td>2022-10-21T22:07:17</td><td>0</td><td>0</td><td>1</td><td>1548846716</td><td>0.00</td><td>0</td><td>SELECT</td><td>2022-10-21T22:07:17</td><td>2-Read only</td><td>2-Active</td><td>2022-10-21T22:07:17</td><td>suspended</td><td>SELECT</td><td>46</td><td>174</td><td>1</td><td>1</td><td>0</td><td>NULL</td><td>2022-10-21T22:07:17</td><td>DB2</td><td>TdService</td><td>12168</td><td>7</td><td>Framework Microsoft SqlClient </td><td>NT AUTHORITY\\SYSTEM</td><td>NT AUTHORITY</td><td>SYSTEM</td><td>8000</td><td>&lt;named pipe&gt;</td><td>running</td><td>NULL</td><td>2</td><td>0x</td></tr>",
                            "<tr><td>2022-11-08 20:21:00.000</td><td>53</td><td>0</td><td>NULL</td><td>0</td><td>NULL</td><td>NULL</td><td>XE_LIVE_TARGET_TVF</td><td>59095</td><td>NULL</td><td>NULL</td><td>XE_LIVE_TARGET_TVF</td><td>NULL</td><td>2-Read Committed</td><td>1</td><td>693</td><td>0</td><td>0</td><td>0</td><td>0</td><td>0</td><td>0</td><td>0</td><td>0</td><td>0</td><td>0</td><td>2022-10-21T22:07:17</td><td>2022-10-21T22:07:17</td><td>0</td><td>0</td><td>1</td><td>1548846404</td><td>0.00</td><td>0</td><td>SELECT</td><td>2022-10-21T22:07:17</td><td>2-Read only</td><td>2-Active</td><td>2022-10-21T22:07:17</td><td>suspended</td><td>SELECT</td><td>46</td><td>174</td><td>1</td><td>1</td><td>0</td><td>NULL</td><td>2022-10-21T22:07:17</td><td>DB2</td><td>TdService</td><td>12168</td><td>7</td><td>Framework Microsoft SqlClient </td><td>NT AUTHORITY\\SYSTEM</td><td>NT AUTHORITY</td><td>SYSTEM</td><td>8000</td><td>&lt;named pipe&gt;</td><td>running</td><td>NULL</td><td>2</td><td>0x</td></tr>",
                            "<tr><td>2022-11-08 20:21:00.000</td><td>56</td><td>0</td><td>NULL</td><td>0</td><td>NULL</td><td>NULL</td><td>NULL</td><td>0</td><td>NULL</td><td>NULL</td><td>MEMORY_ALLOCATION_EXT</td><td>NULL</td><td>2-Read Committed</td><td>1</td><td>293</td><td>17</td><td>0</td><td>0</td><td>4</td><td>0</td><td>24</td><td>0</td><td>53</td><td>3</td><td>165</td><td>2022-11-08T20:20:59</td><td>2022-11-08T20:20:59</td><td>1</td><td>0</td><td>1</td><td>986</td><td>0.00</td><td>0</td><td>SELECT</td><td>2022-11-08T20:20:59</td><td>2-Read only</td><td>2-Active</td><td>2022-11-08T20:20:59</td><td>runnable</td><td>SELECT</td><td>0</td><td>280</td><td>5</td><td>1</td><td>0</td><td>NULL</td><td>2022-11-08T20:20:59</td><td>10-30-2-220</td><td>.Net SqlClient Data Provider</td><td>8032</td><td>7</td><td>.Net SqlClient Data Provider</td><td>cabattagsa</td><td>NULL</td><td>NULL</td><td>8058</td><td>52.143.81.61</td><td>running</td><td>NULL</td><td>2000000039</td><td>0x440034003600320042004100340043002D0038003000350032002D0034004300350032002D0038004600370044002D003200420033003300300046003700310036004100360036</td></tr>",
                            "<tr><td>2022-11-08 20:21:00.000</td><td>57</td><td>0</td><td>NULL</td><td>0</td><td>NULL</td><td>NULL</td><td>NULL</td><td>0</td><td>NULL</td><td>NULL</td><td>RESERVED_MEMORY_ALLOCATION_EXT</td><td>NULL</td><td>2-Read Committed</td><td>1</td><td>14</td><td>92</td><td>0</td><td>0</td><td>0</td><td>0</td><td>0</td><td>0</td><td>0</td><td>0</td><td>0</td><td>2022-11-08T20:21:00</td><td>2022-11-08T20:21:00</td><td>0</td><td>0</td><td>1</td><td>236</td><td>0.00</td><td>0</td><td>SELECT</td><td>2022-11-08T20:21:00</td><td>2-Read only</td><td>2-Active</td><td>2022-11-08T20:21:00</td><td>running</td><td>SELECT</td><td>104</td><td>11418</td><td>5</td><td>1</td><td>0</td><td>NULL</td><td>2022-11-08T20:21:00</td><td>10-30-10-192</td><td>Core Microsoft SqlClient Data Provider</td><td>2812</td><td>7</td><td>Core Microsoft SqlClient Data </td><td>cabattagsa</td><td>NULL</td><td>NULL</td><td>8058</td><td>52.154.242.237</td><td>running</td><td>NULL</td><td>2000000039</td><td>0x</td></tr>",
                            "<tr><td>2022-11-08 20:22:00.000</td><td>52</td><td>0</td><td>NULL</td><td>0</td><td>NULL</td><td>NULL</td><td>XE_LIVE_TARGET_TVF</td><td>746</td><td>NULL</td><td>NULL</td><td>XE_LIVE_TARGET_TVF</td><td>NULL</td><td>2-Read Committed</td><td>1</td><td>541</td><td>95</td><td>24</td><td>0</td><td>0</td><td>0</td><td>0</td><td>0</td><td>0</td><td>0</td><td>0</td><td>2022-10-21T22:07:17</td><td>2022-10-21T22:07:17</td><td>0</td><td>0</td><td>1</td><td>1548906382</td><td>0.00</td><td>0</td><td>SELECT</td><td>2022-10-21T22:07:17</td><td>2-Read only</td><td>2-Active</td><td>2022-10-21T22:07:17</td><td>suspended</td><td>SELECT</td><td>46</td><td>174</td><td>1</td><td>1</td><td>0</td><td>NULL</td><td>2022-10-21T22:07:17</td><td>DB2</td><td>TdService</td><td>12168</td><td>7</td><td>Framework Microsoft SqlClient </td><td>NT AUTHORITY\\SYSTEM</td><td>NT AUTHORITY</td><td>SYSTEM</td><td>8000</td><td>&lt;named pipe&gt;</td><td>running</td><td>NULL</td><td>2</td><td>0x</td></tr>",
                            "<tr><td>2022-11-08 20:22:00.000</td><td>53</td><td>0</td><td>NULL</td><td>0</td><td>NULL</td><td>NULL</td><td>XE_LIVE_TARGET_TVF</td><td>58761</td><td>NULL</td><td>NULL</td><td>XE_LIVE_TARGET_TVF</td><td>NULL</td><td>2-Read Committed</td><td>1</td><td>693</td><td>0</td><td>0</td><td>0</td><td>0</td><td>0</td><td>0</td><td>0</td><td>0</td><td>0</td><td>0</td><td>2022-10-21T22:07:17</td><td>2022-10-21T22:07:17</td><td>0</td><td>0</td><td>1</td><td>1548906070</td><td>0.00</td><td>0</td><td>SELECT</td><td>2022-10-21T22:07:17</td><td>2-Read only</td><td>2-Active</td><td>2022-10-21T22:07:17</td><td>suspended</td><td>SELECT</td><td>46</td><td>174</td><td>1</td><td>1</td><td>0</td><td>NULL</td><td>2022-10-21T22:07:17</td><td>DB2</td><td>TdService</td><td>12168</td><td>7</td><td>Framework Microsoft SqlClient </td><td>NT AUTHORITY\\SYSTEM</td><td>NT AUTHORITY</td><td>SYSTEM</td><td>8000</td><td>&lt;named pipe&gt;</td><td>running</td><td>NULL</td><td>2</td><td>0x</td></tr>",
                            "<tr><td>2022-11-08 20:22:00.000</td><td>57</td><td>0</td><td>NULL</td><td>0</td><td>NULL</td><td>NULL</td><td>NULL</td><td>0</td><td>NULL</td><td>NULL</td><td>RESERVED_MEMORY_ALLOCATION_EXT</td><td>NULL</td><td>2-Read Committed</td><td>1</td><td>10</td><td>92</td><td>0</td><td>0</td><td>0</td><td>0</td><td>0</td><td>0</td><td>0</td><td>0</td><td>0</td><td>2022-11-08T20:22:00</td><td>2022-11-08T20:22:00</td><td>0</td><td>0</td><td>1</td><td>11</td><td>0.00</td><td>0</td><td>SELECT</td><td>2022-11-08T20:22:00</td><td>2-Read only</td><td>2-Active</td><td>2022-11-08T20:22:00</td><td>running</td><td>SELECT</td><td>104</td><td>11418</td><td>5</td><td>1</td><td>0</td><td>NULL</td><td>2022-11-08T20:22:00</td><td>10-30-10-192</td><td>Core Microsoft SqlClient Data Provider</td><td>2812</td><td>7</td><td>Core Microsoft SqlClient Data </td><td>cabattagsa</td><td>NULL</td><td>NULL</td><td>8058</td><td>52.154.242.237</td><td>running</td><td>NULL</td><td>2000000039</td><td>0x</td></tr>",
                            "</table>"
                        ]
                    }
                }
            ],
            "execution_count": 42
        },
        {
            "cell_type": "markdown",
            "source": [
                "### Wait Statistics\r\n",
                "With that data from above we see there is a query running at 20:21 that seems to use a little more CPU. Let's see what our waits look like during that timeframe. "
            ],
            "metadata": {
                "azdata_cell_guid": "de145c5d-3384-4cde-ae29-ea8994f2302f"
            },
            "attachments": {}
        },
        {
            "cell_type": "code",
            "source": [
                "WITH waits AS\r\n",
                "(\r\n",
                "\tSELECT *,\r\n",
                "\t\twaiting_tasks_count - LAG(waiting_tasks_count) OVER(PARTITION BY wait_type order by reading_time) as waiting_tasks_change,\r\n",
                "\t\twait_time_ms - LAG(wait_time_ms) OVER(PARTITION BY wait_type order by reading_time) as wait_time_change\r\n",
                "\tFROM SqlWaitStats WHERE \r\n",
                "\t(reading_time BETWEEN '2022-11-08 20:19:00.000' AND '2022-11-08 20:24:04.000' and file_date = '2022-11-08')\r\n",
                ")\r\n",
                "SELECT * FROM waits\r\n",
                "WHERE waiting_tasks_change IS NOT NULL\r\n",
                "ORDER BY reading_time, wait_time_change"
            ],
            "metadata": {
                "azdata_cell_guid": "e31ecd0b-39a3-4008-a114-107c84ba9d5c",
                "language": "sql",
                "tags": []
            },
            "outputs": [
                {
                    "output_type": "display_data",
                    "data": {
                        "text/html": "Statement ID: {5421D131-23C7-4268-BDD4-92FDD056B437} | Query hash: 0x65C98D63A803F29 | Distributed request ID: {08D47A18-E288-4C9A-8775-3A93C00B45CA}. Total size of data scanned is 1 megabytes, total size of data moved is 1 megabytes, total size of data written is 0 megabytes."
                    },
                    "metadata": {}
                },
                {
                    "output_type": "display_data",
                    "data": {
                        "text/html": "(68 rows affected)"
                    },
                    "metadata": {}
                },
                {
                    "output_type": "display_data",
                    "data": {
                        "text/html": "Total execution time: 00:00:11.607"
                    },
                    "metadata": {}
                },
                {
                    "output_type": "execute_result",
                    "metadata": {},
                    "execution_count": 44,
                    "data": {
                        "application/vnd.dataresource+json": {
                            "schema": {
                                "fields": [
                                    {
                                        "name": "reading_time"
                                    },
                                    {
                                        "name": "wait_type"
                                    },
                                    {
                                        "name": "waiting_tasks_count"
                                    },
                                    {
                                        "name": "wait_time_ms"
                                    },
                                    {
                                        "name": "max_wait_time_ms"
                                    },
                                    {
                                        "name": "signal_wait_time_ms"
                                    },
                                    {
                                        "name": "file_date"
                                    },
                                    {
                                        "name": "waiting_tasks_change"
                                    },
                                    {
                                        "name": "wait_time_change"
                                    }
                                ]
                            },
                            "data": [
                                {
                                    "0": "2022-11-08 20:20:00.000",
                                    "1": "ASYNC_NETWORK_IO",
                                    "2": "78",
                                    "3": "55",
                                    "4": "14",
                                    "5": "15",
                                    "6": "2022-11-08",
                                    "7": "0",
                                    "8": "0"
                                },
                                {
                                    "0": "2022-11-08 20:20:00.000",
                                    "1": "PREEMPTIVE_XHTTP",
                                    "2": "54",
                                    "3": "711",
                                    "4": "73",
                                    "5": "0",
                                    "6": "2022-11-08",
                                    "7": "0",
                                    "8": "0"
                                },
                                {
                                    "0": "2022-11-08 20:20:00.000",
                                    "1": "PREEMPTIVE_OS_CRYPTOPS",
                                    "2": "36",
                                    "3": "63",
                                    "4": "3",
                                    "5": "0",
                                    "6": "2022-11-08",
                                    "7": "0",
                                    "8": "0"
                                },
                                {
                                    "0": "2022-11-08 20:20:00.000",
                                    "1": "RESERVED_MEMORY_ALLOCATION_EXT",
                                    "2": "65421",
                                    "3": "46",
                                    "4": "0",
                                    "5": "0",
                                    "6": "2022-11-08",
                                    "7": "17",
                                    "8": "0"
                                },
                                {
                                    "0": "2022-11-08 20:20:00.000",
                                    "1": "WRITELOG",
                                    "2": "1221",
                                    "3": "17394",
                                    "4": "198",
                                    "5": "169",
                                    "6": "2022-11-08",
                                    "7": "0",
                                    "8": "0"
                                },
                                {
                                    "0": "2022-11-08 20:20:00.000",
                                    "1": "MEMORY_ALLOCATION_EXT",
                                    "2": "997566",
                                    "3": "603",
                                    "4": "2",
                                    "5": "0",
                                    "6": "2022-11-08",
                                    "7": "585",
                                    "8": "0"
                                },
                                {
                                    "0": "2022-11-08 20:20:00.000",
                                    "1": "PREEMPTIVE_OS_CRYPTACQUIRECONTEXT",
                                    "2": "126",
                                    "3": "39",
                                    "4": "4",
                                    "5": "0",
                                    "6": "2022-11-08",
                                    "7": "0",
                                    "8": "0"
                                },
                                {
                                    "0": "2022-11-08 20:20:00.000",
                                    "1": "PREEMPTIVE_OLEDBOPS",
                                    "2": "36",
                                    "3": "17",
                                    "4": "15",
                                    "5": "0",
                                    "6": "2022-11-08",
                                    "7": "0",
                                    "8": "0"
                                },
                                {
                                    "0": "2022-11-08 20:20:00.000",
                                    "1": "PAGEIOLATCH_EX",
                                    "2": "1",
                                    "3": "124",
                                    "4": "124",
                                    "5": "0",
                                    "6": "2022-11-08",
                                    "7": "0",
                                    "8": "0"
                                },
                                {
                                    "0": "2022-11-08 20:20:00.000",
                                    "1": "SOS_SCHEDULER_YIELD",
                                    "2": "5872",
                                    "3": "18347",
                                    "4": "56",
                                    "5": "18346",
                                    "6": "2022-11-08",
                                    "7": "4",
                                    "8": "0"
                                },
                                {
                                    "0": "2022-11-08 20:20:00.000",
                                    "1": "PREEMPTIVE_HTTP_REQUEST",
                                    "2": "134",
                                    "3": "36",
                                    "4": "28",
                                    "5": "0",
                                    "6": "2022-11-08",
                                    "7": "0",
                                    "8": "0"
                                },
                                {
                                    "0": "2022-11-08 20:20:00.000",
                                    "1": "WAIT_ON_SYNC_STATISTICS_REFRESH",
                                    "2": "5",
                                    "3": "122",
                                    "4": "52",
                                    "5": "0",
                                    "6": "2022-11-08",
                                    "7": "0",
                                    "8": "0"
                                },
                                {
                                    "0": "2022-11-08 20:20:00.000",
                                    "1": "PAGEIOLATCH_SH",
                                    "2": "305",
                                    "3": "11223",
                                    "4": "562",
                                    "5": "172",
                                    "6": "2022-11-08",
                                    "7": "0",
                                    "8": "0"
                                },
                                {
                                    "0": "2022-11-08 20:21:01.000",
                                    "1": "PREEMPTIVE_XHTTP",
                                    "2": "54",
                                    "3": "711",
                                    "4": "73",
                                    "5": "0",
                                    "6": "2022-11-08",
                                    "7": "0",
                                    "8": "0"
                                },
                                {
                                    "0": "2022-11-08 20:21:01.000",
                                    "1": "PREEMPTIVE_OS_CRYPTOPS",
                                    "2": "36",
                                    "3": "63",
                                    "4": "3",
                                    "5": "0",
                                    "6": "2022-11-08",
                                    "7": "0",
                                    "8": "0"
                                },
                                {
                                    "0": "2022-11-08 20:21:01.000",
                                    "1": "RESERVED_MEMORY_ALLOCATION_EXT",
                                    "2": "65438",
                                    "3": "46",
                                    "4": "0",
                                    "5": "0",
                                    "6": "2022-11-08",
                                    "7": "17",
                                    "8": "0"
                                },
                                {
                                    "0": "2022-11-08 20:21:01.000",
                                    "1": "PREEMPTIVE_OS_CRYPTACQUIRECONTEXT",
                                    "2": "126",
                                    "3": "39",
                                    "4": "4",
                                    "5": "0",
                                    "6": "2022-11-08",
                                    "7": "0",
                                    "8": "0"
                                },
                                {
                                    "0": "2022-11-08 20:21:01.000",
                                    "1": "PREEMPTIVE_OLEDBOPS",
                                    "2": "36",
                                    "3": "17",
                                    "4": "15",
                                    "5": "0",
                                    "6": "2022-11-08",
                                    "7": "0",
                                    "8": "0"
                                },
                                {
                                    "0": "2022-11-08 20:21:01.000",
                                    "1": "PREEMPTIVE_HTTP_REQUEST",
                                    "2": "137",
                                    "3": "36",
                                    "4": "28",
                                    "5": "0",
                                    "6": "2022-11-08",
                                    "7": "3",
                                    "8": "0"
                                },
                                {
                                    "0": "2022-11-08 20:21:01.000",
                                    "1": "WAIT_ON_SYNC_STATISTICS_REFRESH",
                                    "2": "5",
                                    "3": "122",
                                    "4": "52",
                                    "5": "0",
                                    "6": "2022-11-08",
                                    "7": "0",
                                    "8": "0"
                                },
                                {
                                    "0": "2022-11-08 20:21:01.000",
                                    "1": "PAGEIOLATCH_EX",
                                    "2": "1",
                                    "3": "124",
                                    "4": "124",
                                    "5": "0",
                                    "6": "2022-11-08",
                                    "7": "0",
                                    "8": "0"
                                },
                                {
                                    "0": "2022-11-08 20:21:01.000",
                                    "1": "WRITELOG",
                                    "2": "1221",
                                    "3": "17394",
                                    "4": "198",
                                    "5": "169",
                                    "6": "2022-11-08",
                                    "7": "0",
                                    "8": "0"
                                },
                                {
                                    "0": "2022-11-08 20:21:01.000",
                                    "1": "ASYNC_NETWORK_IO",
                                    "2": "78",
                                    "3": "55",
                                    "4": "14",
                                    "5": "15",
                                    "6": "2022-11-08",
                                    "7": "0",
                                    "8": "0"
                                },
                                {
                                    "0": "2022-11-08 20:21:01.000",
                                    "1": "MEMORY_ALLOCATION_EXT",
                                    "2": "998832",
                                    "3": "604",
                                    "4": "2",
                                    "5": "0",
                                    "6": "2022-11-08",
                                    "7": "1266",
                                    "8": "1"
                                },
                                {
                                    "0": "2022-11-08 20:21:01.000",
                                    "1": "PAGEIOLATCH_SH",
                                    "2": "308",
                                    "3": "11385",
                                    "4": "562",
                                    "5": "172",
                                    "6": "2022-11-08",
                                    "7": "3",
                                    "8": "162"
                                },
                                {
                                    "0": "2022-11-08 20:21:01.000",
                                    "1": "SOS_SCHEDULER_YIELD",
                                    "2": "5877",
                                    "3": "18734",
                                    "4": "105",
                                    "5": "18732",
                                    "6": "2022-11-08",
                                    "7": "5",
                                    "8": "387"
                                },
                                {
                                    "0": "2022-11-08 20:22:00.000",
                                    "1": "PAGEIOLATCH_SH",
                                    "2": "308",
                                    "3": "11385",
                                    "4": "562",
                                    "5": "172",
                                    "6": "2022-11-08",
                                    "7": "0",
                                    "8": "0"
                                },
                                {
                                    "0": "2022-11-08 20:22:00.000",
                                    "1": "PAGEIOLATCH_EX",
                                    "2": "1",
                                    "3": "124",
                                    "4": "124",
                                    "5": "0",
                                    "6": "2022-11-08",
                                    "7": "0",
                                    "8": "0"
                                },
                                {
                                    "0": "2022-11-08 20:22:00.000",
                                    "1": "PREEMPTIVE_HTTP_REQUEST",
                                    "2": "137",
                                    "3": "36",
                                    "4": "28",
                                    "5": "0",
                                    "6": "2022-11-08",
                                    "7": "0",
                                    "8": "0"
                                },
                                {
                                    "0": "2022-11-08 20:22:00.000",
                                    "1": "WAIT_ON_SYNC_STATISTICS_REFRESH",
                                    "2": "5",
                                    "3": "122",
                                    "4": "52",
                                    "5": "0",
                                    "6": "2022-11-08",
                                    "7": "0",
                                    "8": "0"
                                },
                                {
                                    "0": "2022-11-08 20:22:00.000",
                                    "1": "PREEMPTIVE_OLEDBOPS",
                                    "2": "36",
                                    "3": "17",
                                    "4": "15",
                                    "5": "0",
                                    "6": "2022-11-08",
                                    "7": "0",
                                    "8": "0"
                                },
                                {
                                    "0": "2022-11-08 20:22:00.000",
                                    "1": "RESERVED_MEMORY_ALLOCATION_EXT",
                                    "2": "65455",
                                    "3": "46",
                                    "4": "0",
                                    "5": "0",
                                    "6": "2022-11-08",
                                    "7": "17",
                                    "8": "0"
                                },
                                {
                                    "0": "2022-11-08 20:22:00.000",
                                    "1": "MEMORY_ALLOCATION_EXT",
                                    "2": "999466",
                                    "3": "604",
                                    "4": "2",
                                    "5": "0",
                                    "6": "2022-11-08",
                                    "7": "634",
                                    "8": "0"
                                },
                                {
                                    "0": "2022-11-08 20:22:00.000",
                                    "1": "PREEMPTIVE_OS_CRYPTACQUIRECONTEXT",
                                    "2": "126",
                                    "3": "39",
                                    "4": "4",
                                    "5": "0",
                                    "6": "2022-11-08",
                                    "7": "0",
                                    "8": "0"
                                },
                                {
                                    "0": "2022-11-08 20:22:00.000",
                                    "1": "CLR_MANUAL_EVENT",
                                    "2": "1",
                                    "3": "0",
                                    "4": "0",
                                    "5": "0",
                                    "6": "2022-11-08",
                                    "7": "0",
                                    "8": "0"
                                },
                                {
                                    "0": "2022-11-08 20:22:00.000",
                                    "1": "WRITELOG",
                                    "2": "1221",
                                    "3": "17394",
                                    "4": "198",
                                    "5": "169",
                                    "6": "2022-11-08",
                                    "7": "0",
                                    "8": "0"
                                },
                                {
                                    "0": "2022-11-08 20:22:00.000",
                                    "1": "PREEMPTIVE_OS_CRYPTOPS",
                                    "2": "36",
                                    "3": "63",
                                    "4": "3",
                                    "5": "0",
                                    "6": "2022-11-08",
                                    "7": "0",
                                    "8": "0"
                                },
                                {
                                    "0": "2022-11-08 20:22:00.000",
                                    "1": "PREEMPTIVE_XHTTP",
                                    "2": "54",
                                    "3": "711",
                                    "4": "73",
                                    "5": "0",
                                    "6": "2022-11-08",
                                    "7": "0",
                                    "8": "0"
                                },
                                {
                                    "0": "2022-11-08 20:22:00.000",
                                    "1": "ASYNC_NETWORK_IO",
                                    "2": "78",
                                    "3": "55",
                                    "4": "14",
                                    "5": "15",
                                    "6": "2022-11-08",
                                    "7": "0",
                                    "8": "0"
                                },
                                {
                                    "0": "2022-11-08 20:22:00.000",
                                    "1": "SOS_SCHEDULER_YIELD",
                                    "2": "5882",
                                    "3": "18784",
                                    "4": "105",
                                    "5": "18783",
                                    "6": "2022-11-08",
                                    "7": "5",
                                    "8": "50"
                                },
                                {
                                    "0": "2022-11-08 20:23:00.000",
                                    "1": "SOS_SCHEDULER_YIELD",
                                    "2": "5885",
                                    "3": "18784",
                                    "4": "105",
                                    "5": "18783",
                                    "6": "2022-11-08",
                                    "7": "3",
                                    "8": "0"
                                },
                                {
                                    "0": "2022-11-08 20:23:00.000",
                                    "1": "WAIT_ON_SYNC_STATISTICS_REFRESH",
                                    "2": "5",
                                    "3": "122",
                                    "4": "52",
                                    "5": "0",
                                    "6": "2022-11-08",
                                    "7": "0",
                                    "8": "0"
                                },
                                {
                                    "0": "2022-11-08 20:23:00.000",
                                    "1": "RESERVED_MEMORY_ALLOCATION_EXT",
                                    "2": "65472",
                                    "3": "46",
                                    "4": "0",
                                    "5": "0",
                                    "6": "2022-11-08",
                                    "7": "17",
                                    "8": "0"
                                },
                                {
                                    "0": "2022-11-08 20:23:00.000",
                                    "1": "WRITELOG",
                                    "2": "1221",
                                    "3": "17394",
                                    "4": "198",
                                    "5": "169",
                                    "6": "2022-11-08",
                                    "7": "0",
                                    "8": "0"
                                },
                                {
                                    "0": "2022-11-08 20:23:00.000",
                                    "1": "PREEMPTIVE_XHTTP",
                                    "2": "54",
                                    "3": "711",
                                    "4": "73",
                                    "5": "0",
                                    "6": "2022-11-08",
                                    "7": "0",
                                    "8": "0"
                                },
                                {
                                    "0": "2022-11-08 20:23:00.000",
                                    "1": "PREEMPTIVE_OS_CRYPTOPS",
                                    "2": "36",
                                    "3": "63",
                                    "4": "3",
                                    "5": "0",
                                    "6": "2022-11-08",
                                    "7": "0",
                                    "8": "0"
                                },
                                {
                                    "0": "2022-11-08 20:23:00.000",
                                    "1": "PREEMPTIVE_OS_CRYPTACQUIRECONTEXT",
                                    "2": "126",
                                    "3": "39",
                                    "4": "4",
                                    "5": "0",
                                    "6": "2022-11-08",
                                    "7": "0",
                                    "8": "0"
                                },
                                {
                                    "0": "2022-11-08 20:23:00.000",
                                    "1": "PREEMPTIVE_OLEDBOPS",
                                    "2": "36",
                                    "3": "17",
                                    "4": "15",
                                    "5": "0",
                                    "6": "2022-11-08",
                                    "7": "0",
                                    "8": "0"
                                },
                                {
                                    "0": "2022-11-08 20:23:00.000",
                                    "1": "PREEMPTIVE_HTTP_REQUEST",
                                    "2": "137",
                                    "3": "36",
                                    "4": "28",
                                    "5": "0",
                                    "6": "2022-11-08",
                                    "7": "0",
                                    "8": "0"
                                },
                                {
                                    "0": "2022-11-08 20:23:00.000",
                                    "1": "PAGEIOLATCH_SH",
                                    "2": "308",
                                    "3": "11385",
                                    "4": "562",
                                    "5": "172",
                                    "6": "2022-11-08",
                                    "7": "0",
                                    "8": "0"
                                },
                                {
                                    "0": "2022-11-08 20:23:00.000",
                                    "1": "PAGEIOLATCH_EX",
                                    "2": "1",
                                    "3": "124",
                                    "4": "124",
                                    "5": "0",
                                    "6": "2022-11-08",
                                    "7": "0",
                                    "8": "0"
                                },
                                {
                                    "0": "2022-11-08 20:23:00.000",
                                    "1": "CLR_MANUAL_EVENT",
                                    "2": "1",
                                    "3": "0",
                                    "4": "0",
                                    "5": "0",
                                    "6": "2022-11-08",
                                    "7": "0",
                                    "8": "0"
                                },
                                {
                                    "0": "2022-11-08 20:23:00.000",
                                    "1": "ASYNC_NETWORK_IO",
                                    "2": "78",
                                    "3": "55",
                                    "4": "14",
                                    "5": "15",
                                    "6": "2022-11-08",
                                    "7": "0",
                                    "8": "0"
                                },
                                {
                                    "0": "2022-11-08 20:23:00.000",
                                    "1": "MEMORY_ALLOCATION_EXT",
                                    "2": "1000051",
                                    "3": "605",
                                    "4": "2",
                                    "5": "0",
                                    "6": "2022-11-08",
                                    "7": "585",
                                    "8": "1"
                                },
                                {
                                    "0": "2022-11-08 20:24:00.000",
                                    "1": "PREEMPTIVE_OS_CRYPTOPS",
                                    "2": "36",
                                    "3": "63",
                                    "4": "3",
                                    "5": "0",
                                    "6": "2022-11-08",
                                    "7": "0",
                                    "8": "0"
                                },
                                {
                                    "0": "2022-11-08 20:24:00.000",
                                    "1": "PREEMPTIVE_XHTTP",
                                    "2": "54",
                                    "3": "711",
                                    "4": "73",
                                    "5": "0",
                                    "6": "2022-11-08",
                                    "7": "0",
                                    "8": "0"
                                },
                                {
                                    "0": "2022-11-08 20:24:00.000",
                                    "1": "PREEMPTIVE_OS_CRYPTACQUIRECONTEXT",
                                    "2": "126",
                                    "3": "39",
                                    "4": "4",
                                    "5": "0",
                                    "6": "2022-11-08",
                                    "7": "0",
                                    "8": "0"
                                },
                                {
                                    "0": "2022-11-08 20:24:00.000",
                                    "1": "PREEMPTIVE_OLEDBOPS",
                                    "2": "36",
                                    "3": "17",
                                    "4": "15",
                                    "5": "0",
                                    "6": "2022-11-08",
                                    "7": "0",
                                    "8": "0"
                                },
                                {
                                    "0": "2022-11-08 20:24:00.000",
                                    "1": "RESERVED_MEMORY_ALLOCATION_EXT",
                                    "2": "65489",
                                    "3": "46",
                                    "4": "0",
                                    "5": "0",
                                    "6": "2022-11-08",
                                    "7": "17",
                                    "8": "0"
                                },
                                {
                                    "0": "2022-11-08 20:24:00.000",
                                    "1": "PREEMPTIVE_HTTP_REQUEST",
                                    "2": "137",
                                    "3": "36",
                                    "4": "28",
                                    "5": "0",
                                    "6": "2022-11-08",
                                    "7": "0",
                                    "8": "0"
                                },
                                {
                                    "0": "2022-11-08 20:24:00.000",
                                    "1": "PAGEIOLATCH_SH",
                                    "2": "308",
                                    "3": "11385",
                                    "4": "562",
                                    "5": "172",
                                    "6": "2022-11-08",
                                    "7": "0",
                                    "8": "0"
                                },
                                {
                                    "0": "2022-11-08 20:24:00.000",
                                    "1": "SOS_SCHEDULER_YIELD",
                                    "2": "5889",
                                    "3": "18784",
                                    "4": "105",
                                    "5": "18783",
                                    "6": "2022-11-08",
                                    "7": "4",
                                    "8": "0"
                                },
                                {
                                    "0": "2022-11-08 20:24:00.000",
                                    "1": "PAGEIOLATCH_EX",
                                    "2": "1",
                                    "3": "124",
                                    "4": "124",
                                    "5": "0",
                                    "6": "2022-11-08",
                                    "7": "0",
                                    "8": "0"
                                },
                                {
                                    "0": "2022-11-08 20:24:00.000",
                                    "1": "MEMORY_ALLOCATION_EXT",
                                    "2": "1000636",
                                    "3": "605",
                                    "4": "2",
                                    "5": "0",
                                    "6": "2022-11-08",
                                    "7": "585",
                                    "8": "0"
                                },
                                {
                                    "0": "2022-11-08 20:24:00.000",
                                    "1": "WAIT_ON_SYNC_STATISTICS_REFRESH",
                                    "2": "5",
                                    "3": "122",
                                    "4": "52",
                                    "5": "0",
                                    "6": "2022-11-08",
                                    "7": "0",
                                    "8": "0"
                                },
                                {
                                    "0": "2022-11-08 20:24:00.000",
                                    "1": "CLR_MANUAL_EVENT",
                                    "2": "1",
                                    "3": "0",
                                    "4": "0",
                                    "5": "0",
                                    "6": "2022-11-08",
                                    "7": "0",
                                    "8": "0"
                                },
                                {
                                    "0": "2022-11-08 20:24:00.000",
                                    "1": "ASYNC_NETWORK_IO",
                                    "2": "78",
                                    "3": "55",
                                    "4": "14",
                                    "5": "15",
                                    "6": "2022-11-08",
                                    "7": "0",
                                    "8": "0"
                                },
                                {
                                    "0": "2022-11-08 20:24:00.000",
                                    "1": "WRITELOG",
                                    "2": "1221",
                                    "3": "17394",
                                    "4": "198",
                                    "5": "169",
                                    "6": "2022-11-08",
                                    "7": "0",
                                    "8": "0"
                                }
                            ]
                        },
                        "text/html": [
                            "<table>",
                            "<tr><th>reading_time</th><th>wait_type</th><th>waiting_tasks_count</th><th>wait_time_ms</th><th>max_wait_time_ms</th><th>signal_wait_time_ms</th><th>file_date</th><th>waiting_tasks_change</th><th>wait_time_change</th></tr>",
                            "<tr><td>2022-11-08 20:20:00.000</td><td>ASYNC_NETWORK_IO</td><td>78</td><td>55</td><td>14</td><td>15</td><td>2022-11-08</td><td>0</td><td>0</td></tr>",
                            "<tr><td>2022-11-08 20:20:00.000</td><td>PREEMPTIVE_XHTTP</td><td>54</td><td>711</td><td>73</td><td>0</td><td>2022-11-08</td><td>0</td><td>0</td></tr>",
                            "<tr><td>2022-11-08 20:20:00.000</td><td>PREEMPTIVE_OS_CRYPTOPS</td><td>36</td><td>63</td><td>3</td><td>0</td><td>2022-11-08</td><td>0</td><td>0</td></tr>",
                            "<tr><td>2022-11-08 20:20:00.000</td><td>RESERVED_MEMORY_ALLOCATION_EXT</td><td>65421</td><td>46</td><td>0</td><td>0</td><td>2022-11-08</td><td>17</td><td>0</td></tr>",
                            "<tr><td>2022-11-08 20:20:00.000</td><td>WRITELOG</td><td>1221</td><td>17394</td><td>198</td><td>169</td><td>2022-11-08</td><td>0</td><td>0</td></tr>",
                            "<tr><td>2022-11-08 20:20:00.000</td><td>MEMORY_ALLOCATION_EXT</td><td>997566</td><td>603</td><td>2</td><td>0</td><td>2022-11-08</td><td>585</td><td>0</td></tr>",
                            "<tr><td>2022-11-08 20:20:00.000</td><td>PREEMPTIVE_OS_CRYPTACQUIRECONTEXT</td><td>126</td><td>39</td><td>4</td><td>0</td><td>2022-11-08</td><td>0</td><td>0</td></tr>",
                            "<tr><td>2022-11-08 20:20:00.000</td><td>PREEMPTIVE_OLEDBOPS</td><td>36</td><td>17</td><td>15</td><td>0</td><td>2022-11-08</td><td>0</td><td>0</td></tr>",
                            "<tr><td>2022-11-08 20:20:00.000</td><td>PAGEIOLATCH_EX</td><td>1</td><td>124</td><td>124</td><td>0</td><td>2022-11-08</td><td>0</td><td>0</td></tr>",
                            "<tr><td>2022-11-08 20:20:00.000</td><td>SOS_SCHEDULER_YIELD</td><td>5872</td><td>18347</td><td>56</td><td>18346</td><td>2022-11-08</td><td>4</td><td>0</td></tr>",
                            "<tr><td>2022-11-08 20:20:00.000</td><td>PREEMPTIVE_HTTP_REQUEST</td><td>134</td><td>36</td><td>28</td><td>0</td><td>2022-11-08</td><td>0</td><td>0</td></tr>",
                            "<tr><td>2022-11-08 20:20:00.000</td><td>WAIT_ON_SYNC_STATISTICS_REFRESH</td><td>5</td><td>122</td><td>52</td><td>0</td><td>2022-11-08</td><td>0</td><td>0</td></tr>",
                            "<tr><td>2022-11-08 20:20:00.000</td><td>PAGEIOLATCH_SH</td><td>305</td><td>11223</td><td>562</td><td>172</td><td>2022-11-08</td><td>0</td><td>0</td></tr>",
                            "<tr><td>2022-11-08 20:21:01.000</td><td>PREEMPTIVE_XHTTP</td><td>54</td><td>711</td><td>73</td><td>0</td><td>2022-11-08</td><td>0</td><td>0</td></tr>",
                            "<tr><td>2022-11-08 20:21:01.000</td><td>PREEMPTIVE_OS_CRYPTOPS</td><td>36</td><td>63</td><td>3</td><td>0</td><td>2022-11-08</td><td>0</td><td>0</td></tr>",
                            "<tr><td>2022-11-08 20:21:01.000</td><td>RESERVED_MEMORY_ALLOCATION_EXT</td><td>65438</td><td>46</td><td>0</td><td>0</td><td>2022-11-08</td><td>17</td><td>0</td></tr>",
                            "<tr><td>2022-11-08 20:21:01.000</td><td>PREEMPTIVE_OS_CRYPTACQUIRECONTEXT</td><td>126</td><td>39</td><td>4</td><td>0</td><td>2022-11-08</td><td>0</td><td>0</td></tr>",
                            "<tr><td>2022-11-08 20:21:01.000</td><td>PREEMPTIVE_OLEDBOPS</td><td>36</td><td>17</td><td>15</td><td>0</td><td>2022-11-08</td><td>0</td><td>0</td></tr>",
                            "<tr><td>2022-11-08 20:21:01.000</td><td>PREEMPTIVE_HTTP_REQUEST</td><td>137</td><td>36</td><td>28</td><td>0</td><td>2022-11-08</td><td>3</td><td>0</td></tr>",
                            "<tr><td>2022-11-08 20:21:01.000</td><td>WAIT_ON_SYNC_STATISTICS_REFRESH</td><td>5</td><td>122</td><td>52</td><td>0</td><td>2022-11-08</td><td>0</td><td>0</td></tr>",
                            "<tr><td>2022-11-08 20:21:01.000</td><td>PAGEIOLATCH_EX</td><td>1</td><td>124</td><td>124</td><td>0</td><td>2022-11-08</td><td>0</td><td>0</td></tr>",
                            "<tr><td>2022-11-08 20:21:01.000</td><td>WRITELOG</td><td>1221</td><td>17394</td><td>198</td><td>169</td><td>2022-11-08</td><td>0</td><td>0</td></tr>",
                            "<tr><td>2022-11-08 20:21:01.000</td><td>ASYNC_NETWORK_IO</td><td>78</td><td>55</td><td>14</td><td>15</td><td>2022-11-08</td><td>0</td><td>0</td></tr>",
                            "<tr><td>2022-11-08 20:21:01.000</td><td>MEMORY_ALLOCATION_EXT</td><td>998832</td><td>604</td><td>2</td><td>0</td><td>2022-11-08</td><td>1266</td><td>1</td></tr>",
                            "<tr><td>2022-11-08 20:21:01.000</td><td>PAGEIOLATCH_SH</td><td>308</td><td>11385</td><td>562</td><td>172</td><td>2022-11-08</td><td>3</td><td>162</td></tr>",
                            "<tr><td>2022-11-08 20:21:01.000</td><td>SOS_SCHEDULER_YIELD</td><td>5877</td><td>18734</td><td>105</td><td>18732</td><td>2022-11-08</td><td>5</td><td>387</td></tr>",
                            "<tr><td>2022-11-08 20:22:00.000</td><td>PAGEIOLATCH_SH</td><td>308</td><td>11385</td><td>562</td><td>172</td><td>2022-11-08</td><td>0</td><td>0</td></tr>",
                            "<tr><td>2022-11-08 20:22:00.000</td><td>PAGEIOLATCH_EX</td><td>1</td><td>124</td><td>124</td><td>0</td><td>2022-11-08</td><td>0</td><td>0</td></tr>",
                            "<tr><td>2022-11-08 20:22:00.000</td><td>PREEMPTIVE_HTTP_REQUEST</td><td>137</td><td>36</td><td>28</td><td>0</td><td>2022-11-08</td><td>0</td><td>0</td></tr>",
                            "<tr><td>2022-11-08 20:22:00.000</td><td>WAIT_ON_SYNC_STATISTICS_REFRESH</td><td>5</td><td>122</td><td>52</td><td>0</td><td>2022-11-08</td><td>0</td><td>0</td></tr>",
                            "<tr><td>2022-11-08 20:22:00.000</td><td>PREEMPTIVE_OLEDBOPS</td><td>36</td><td>17</td><td>15</td><td>0</td><td>2022-11-08</td><td>0</td><td>0</td></tr>",
                            "<tr><td>2022-11-08 20:22:00.000</td><td>RESERVED_MEMORY_ALLOCATION_EXT</td><td>65455</td><td>46</td><td>0</td><td>0</td><td>2022-11-08</td><td>17</td><td>0</td></tr>",
                            "<tr><td>2022-11-08 20:22:00.000</td><td>MEMORY_ALLOCATION_EXT</td><td>999466</td><td>604</td><td>2</td><td>0</td><td>2022-11-08</td><td>634</td><td>0</td></tr>",
                            "<tr><td>2022-11-08 20:22:00.000</td><td>PREEMPTIVE_OS_CRYPTACQUIRECONTEXT</td><td>126</td><td>39</td><td>4</td><td>0</td><td>2022-11-08</td><td>0</td><td>0</td></tr>",
                            "<tr><td>2022-11-08 20:22:00.000</td><td>CLR_MANUAL_EVENT</td><td>1</td><td>0</td><td>0</td><td>0</td><td>2022-11-08</td><td>0</td><td>0</td></tr>",
                            "<tr><td>2022-11-08 20:22:00.000</td><td>WRITELOG</td><td>1221</td><td>17394</td><td>198</td><td>169</td><td>2022-11-08</td><td>0</td><td>0</td></tr>",
                            "<tr><td>2022-11-08 20:22:00.000</td><td>PREEMPTIVE_OS_CRYPTOPS</td><td>36</td><td>63</td><td>3</td><td>0</td><td>2022-11-08</td><td>0</td><td>0</td></tr>",
                            "<tr><td>2022-11-08 20:22:00.000</td><td>PREEMPTIVE_XHTTP</td><td>54</td><td>711</td><td>73</td><td>0</td><td>2022-11-08</td><td>0</td><td>0</td></tr>",
                            "<tr><td>2022-11-08 20:22:00.000</td><td>ASYNC_NETWORK_IO</td><td>78</td><td>55</td><td>14</td><td>15</td><td>2022-11-08</td><td>0</td><td>0</td></tr>",
                            "<tr><td>2022-11-08 20:22:00.000</td><td>SOS_SCHEDULER_YIELD</td><td>5882</td><td>18784</td><td>105</td><td>18783</td><td>2022-11-08</td><td>5</td><td>50</td></tr>",
                            "<tr><td>2022-11-08 20:23:00.000</td><td>SOS_SCHEDULER_YIELD</td><td>5885</td><td>18784</td><td>105</td><td>18783</td><td>2022-11-08</td><td>3</td><td>0</td></tr>",
                            "<tr><td>2022-11-08 20:23:00.000</td><td>WAIT_ON_SYNC_STATISTICS_REFRESH</td><td>5</td><td>122</td><td>52</td><td>0</td><td>2022-11-08</td><td>0</td><td>0</td></tr>",
                            "<tr><td>2022-11-08 20:23:00.000</td><td>RESERVED_MEMORY_ALLOCATION_EXT</td><td>65472</td><td>46</td><td>0</td><td>0</td><td>2022-11-08</td><td>17</td><td>0</td></tr>",
                            "<tr><td>2022-11-08 20:23:00.000</td><td>WRITELOG</td><td>1221</td><td>17394</td><td>198</td><td>169</td><td>2022-11-08</td><td>0</td><td>0</td></tr>",
                            "<tr><td>2022-11-08 20:23:00.000</td><td>PREEMPTIVE_XHTTP</td><td>54</td><td>711</td><td>73</td><td>0</td><td>2022-11-08</td><td>0</td><td>0</td></tr>",
                            "<tr><td>2022-11-08 20:23:00.000</td><td>PREEMPTIVE_OS_CRYPTOPS</td><td>36</td><td>63</td><td>3</td><td>0</td><td>2022-11-08</td><td>0</td><td>0</td></tr>",
                            "<tr><td>2022-11-08 20:23:00.000</td><td>PREEMPTIVE_OS_CRYPTACQUIRECONTEXT</td><td>126</td><td>39</td><td>4</td><td>0</td><td>2022-11-08</td><td>0</td><td>0</td></tr>",
                            "<tr><td>2022-11-08 20:23:00.000</td><td>PREEMPTIVE_OLEDBOPS</td><td>36</td><td>17</td><td>15</td><td>0</td><td>2022-11-08</td><td>0</td><td>0</td></tr>",
                            "<tr><td>2022-11-08 20:23:00.000</td><td>PREEMPTIVE_HTTP_REQUEST</td><td>137</td><td>36</td><td>28</td><td>0</td><td>2022-11-08</td><td>0</td><td>0</td></tr>",
                            "<tr><td>2022-11-08 20:23:00.000</td><td>PAGEIOLATCH_SH</td><td>308</td><td>11385</td><td>562</td><td>172</td><td>2022-11-08</td><td>0</td><td>0</td></tr>",
                            "<tr><td>2022-11-08 20:23:00.000</td><td>PAGEIOLATCH_EX</td><td>1</td><td>124</td><td>124</td><td>0</td><td>2022-11-08</td><td>0</td><td>0</td></tr>",
                            "<tr><td>2022-11-08 20:23:00.000</td><td>CLR_MANUAL_EVENT</td><td>1</td><td>0</td><td>0</td><td>0</td><td>2022-11-08</td><td>0</td><td>0</td></tr>",
                            "<tr><td>2022-11-08 20:23:00.000</td><td>ASYNC_NETWORK_IO</td><td>78</td><td>55</td><td>14</td><td>15</td><td>2022-11-08</td><td>0</td><td>0</td></tr>",
                            "<tr><td>2022-11-08 20:23:00.000</td><td>MEMORY_ALLOCATION_EXT</td><td>1000051</td><td>605</td><td>2</td><td>0</td><td>2022-11-08</td><td>585</td><td>1</td></tr>",
                            "<tr><td>2022-11-08 20:24:00.000</td><td>PREEMPTIVE_OS_CRYPTOPS</td><td>36</td><td>63</td><td>3</td><td>0</td><td>2022-11-08</td><td>0</td><td>0</td></tr>",
                            "<tr><td>2022-11-08 20:24:00.000</td><td>PREEMPTIVE_XHTTP</td><td>54</td><td>711</td><td>73</td><td>0</td><td>2022-11-08</td><td>0</td><td>0</td></tr>",
                            "<tr><td>2022-11-08 20:24:00.000</td><td>PREEMPTIVE_OS_CRYPTACQUIRECONTEXT</td><td>126</td><td>39</td><td>4</td><td>0</td><td>2022-11-08</td><td>0</td><td>0</td></tr>",
                            "<tr><td>2022-11-08 20:24:00.000</td><td>PREEMPTIVE_OLEDBOPS</td><td>36</td><td>17</td><td>15</td><td>0</td><td>2022-11-08</td><td>0</td><td>0</td></tr>",
                            "<tr><td>2022-11-08 20:24:00.000</td><td>RESERVED_MEMORY_ALLOCATION_EXT</td><td>65489</td><td>46</td><td>0</td><td>0</td><td>2022-11-08</td><td>17</td><td>0</td></tr>",
                            "<tr><td>2022-11-08 20:24:00.000</td><td>PREEMPTIVE_HTTP_REQUEST</td><td>137</td><td>36</td><td>28</td><td>0</td><td>2022-11-08</td><td>0</td><td>0</td></tr>",
                            "<tr><td>2022-11-08 20:24:00.000</td><td>PAGEIOLATCH_SH</td><td>308</td><td>11385</td><td>562</td><td>172</td><td>2022-11-08</td><td>0</td><td>0</td></tr>",
                            "<tr><td>2022-11-08 20:24:00.000</td><td>SOS_SCHEDULER_YIELD</td><td>5889</td><td>18784</td><td>105</td><td>18783</td><td>2022-11-08</td><td>4</td><td>0</td></tr>",
                            "<tr><td>2022-11-08 20:24:00.000</td><td>PAGEIOLATCH_EX</td><td>1</td><td>124</td><td>124</td><td>0</td><td>2022-11-08</td><td>0</td><td>0</td></tr>",
                            "<tr><td>2022-11-08 20:24:00.000</td><td>MEMORY_ALLOCATION_EXT</td><td>1000636</td><td>605</td><td>2</td><td>0</td><td>2022-11-08</td><td>585</td><td>0</td></tr>",
                            "<tr><td>2022-11-08 20:24:00.000</td><td>WAIT_ON_SYNC_STATISTICS_REFRESH</td><td>5</td><td>122</td><td>52</td><td>0</td><td>2022-11-08</td><td>0</td><td>0</td></tr>",
                            "<tr><td>2022-11-08 20:24:00.000</td><td>CLR_MANUAL_EVENT</td><td>1</td><td>0</td><td>0</td><td>0</td><td>2022-11-08</td><td>0</td><td>0</td></tr>",
                            "<tr><td>2022-11-08 20:24:00.000</td><td>ASYNC_NETWORK_IO</td><td>78</td><td>55</td><td>14</td><td>15</td><td>2022-11-08</td><td>0</td><td>0</td></tr>",
                            "<tr><td>2022-11-08 20:24:00.000</td><td>WRITELOG</td><td>1221</td><td>17394</td><td>198</td><td>169</td><td>2022-11-08</td><td>0</td><td>0</td></tr>",
                            "</table>"
                        ]
                    }
                }
            ],
            "execution_count": 44
        },
        {
            "cell_type": "markdown",
            "source": [
                "### Wait Charts\r\n",
                "With Azure Data Studio and this data set we can also do some interesting things around charting wait times over timeframes. Such as out first example query which shows SOS_SCHEDULER_YIELD waits over time and if there are spikes along that time frame. You can see there is a query that runs approximately every 15 minutes that has to wait 100 ms for CPU. "
            ],
            "metadata": {
                "azdata_cell_guid": "26f33c28-1743-4290-839e-0de990c0c286"
            },
            "attachments": {}
        },
        {
            "cell_type": "code",
            "source": [
                "WITH waits AS\r\n",
                "(\r\n",
                "\tSELECT reading_time, \r\n",
                "\t\twait_time_ms - LAG(wait_time_ms) OVER(PARTITION BY wait_type order by reading_time) as wait_time_change\r\n",
                "\tFROM SqlWaitStats WHERE \r\n",
                "\t(reading_time BETWEEN '2022-11-08 17:00:04.000' AND '2022-11-08 20:00:04.000' and file_date = '2022-11-08')\r\n",
                "    and wait_type = 'SOS_SCHEDULER_YIELD'\r\n",
                ")\r\n",
                "SELECT * FROM waits\r\n",
                "WHERE wait_time_change IS NOT NULL\r\n",
                "ORDER BY reading_time, wait_time_change"
            ],
            "metadata": {
                "azdata_cell_guid": "5cb01313-bf9d-4b1a-9c14-e3c1840c7b52",
                "language": "sql"
            },
            "outputs": [
                {
                    "output_type": "display_data",
                    "data": {
                        "text/html": "Statement ID: {3E671E82-6387-4A1A-B928-4EF2C51F05D3} | Query hash: 0x86D411F69B6BA45 | Distributed request ID: {C2713888-C0E5-479C-9130-2EFCDA553222}. Total size of data scanned is 2 megabytes, total size of data moved is 1 megabytes, total size of data written is 0 megabytes."
                    },
                    "metadata": {}
                },
                {
                    "output_type": "display_data",
                    "data": {
                        "text/html": "(479 rows affected)"
                    },
                    "metadata": {}
                },
                {
                    "output_type": "display_data",
                    "data": {
                        "text/html": "Total execution time: 00:00:16.120"
                    },
                    "metadata": {}
                },
                {
                    "output_type": "execute_result",
                    "metadata": {
                        "azdata_chartOptions": {
                            "type": "line",
                            "dataDirection": "vertical",
                            "columnsAsLabels": false,
                            "labelFirstColumn": false,
                            "legendPosition": "top",
                            "yAxisLabel": "wait time (ms)",
                            "xAxisLabel": "reading_time",
                            "dataType": "number"
                        }
                    },
                    "execution_count": 48,
                    "data": {
                        "application/vnd.dataresource+json": {
                            "schema": {
                                "fields": [
                                    {
                                        "name": "reading_time"
                                    },
                                    {
                                        "name": "wait_time_change"
                                    }
                                ]
                            },
                            "data": [
                                {
                                    "0": "2022-11-08 12:02:00.000",
                                    "1": "0"
                                },
                                {
                                    "0": "2022-11-08 12:03:00.000",
                                    "1": "0"
                                },
                                {
                                    "0": "2022-11-08 12:04:00.000",
                                    "1": "0"
                                },
                                {
                                    "0": "2022-11-08 12:05:00.000",
                                    "1": "0"
                                },
                                {
                                    "0": "2022-11-08 12:06:00.000",
                                    "1": "0"
                                },
                                {
                                    "0": "2022-11-08 12:07:00.000",
                                    "1": "0"
                                },
                                {
                                    "0": "2022-11-08 12:08:00.000",
                                    "1": "0"
                                },
                                {
                                    "0": "2022-11-08 12:09:00.000",
                                    "1": "0"
                                },
                                {
                                    "0": "2022-11-08 12:10:00.000",
                                    "1": "100"
                                },
                                {
                                    "0": "2022-11-08 12:11:00.000",
                                    "1": "44"
                                },
                                {
                                    "0": "2022-11-08 12:12:00.000",
                                    "1": "0"
                                },
                                {
                                    "0": "2022-11-08 12:13:00.000",
                                    "1": "0"
                                },
                                {
                                    "0": "2022-11-08 12:14:00.000",
                                    "1": "0"
                                },
                                {
                                    "0": "2022-11-08 12:15:00.000",
                                    "1": "0"
                                },
                                {
                                    "0": "2022-11-08 12:16:00.000",
                                    "1": "0"
                                },
                                {
                                    "0": "2022-11-08 12:17:00.000",
                                    "1": "0"
                                },
                                {
                                    "0": "2022-11-08 12:18:00.000",
                                    "1": "0"
                                },
                                {
                                    "0": "2022-11-08 12:19:00.000",
                                    "1": "0"
                                },
                                {
                                    "0": "2022-11-08 12:20:00.000",
                                    "1": "0"
                                },
                                {
                                    "0": "2022-11-08 12:21:00.000",
                                    "1": "0"
                                },
                                {
                                    "0": "2022-11-08 12:22:00.000",
                                    "1": "84"
                                },
                                {
                                    "0": "2022-11-08 12:23:00.000",
                                    "1": "0"
                                },
                                {
                                    "0": "2022-11-08 12:24:00.000",
                                    "1": "0"
                                },
                                {
                                    "0": "2022-11-08 12:25:00.000",
                                    "1": "0"
                                },
                                {
                                    "0": "2022-11-08 12:26:00.000",
                                    "1": "0"
                                },
                                {
                                    "0": "2022-11-08 12:27:00.000",
                                    "1": "0"
                                },
                                {
                                    "0": "2022-11-08 12:28:00.000",
                                    "1": "0"
                                },
                                {
                                    "0": "2022-11-08 12:29:00.000",
                                    "1": "0"
                                },
                                {
                                    "0": "2022-11-08 12:30:00.000",
                                    "1": "0"
                                },
                                {
                                    "0": "2022-11-08 12:31:00.000",
                                    "1": "0"
                                },
                                {
                                    "0": "2022-11-08 12:32:00.000",
                                    "1": "0"
                                },
                                {
                                    "0": "2022-11-08 12:33:00.000",
                                    "1": "0"
                                },
                                {
                                    "0": "2022-11-08 12:34:00.000",
                                    "1": "0"
                                },
                                {
                                    "0": "2022-11-08 12:35:00.000",
                                    "1": "49"
                                },
                                {
                                    "0": "2022-11-08 12:36:00.000",
                                    "1": "0"
                                },
                                {
                                    "0": "2022-11-08 12:37:00.000",
                                    "1": "0"
                                },
                                {
                                    "0": "2022-11-08 12:38:00.000",
                                    "1": "0"
                                },
                                {
                                    "0": "2022-11-08 12:39:00.000",
                                    "1": "0"
                                },
                                {
                                    "0": "2022-11-08 12:40:00.000",
                                    "1": "0"
                                },
                                {
                                    "0": "2022-11-08 12:41:00.000",
                                    "1": "0"
                                },
                                {
                                    "0": "2022-11-08 12:42:00.000",
                                    "1": "0"
                                },
                                {
                                    "0": "2022-11-08 12:43:00.000",
                                    "1": "0"
                                },
                                {
                                    "0": "2022-11-08 12:44:00.000",
                                    "1": "0"
                                },
                                {
                                    "0": "2022-11-08 12:45:00.000",
                                    "1": "95"
                                },
                                {
                                    "0": "2022-11-08 12:46:00.000",
                                    "1": "0"
                                },
                                {
                                    "0": "2022-11-08 12:47:00.000",
                                    "1": "97"
                                },
                                {
                                    "0": "2022-11-08 12:48:00.000",
                                    "1": "20"
                                },
                                {
                                    "0": "2022-11-08 12:49:00.000",
                                    "1": "0"
                                },
                                {
                                    "0": "2022-11-08 12:50:00.000",
                                    "1": "0"
                                },
                                {
                                    "0": "2022-11-08 12:51:00.000",
                                    "1": "0"
                                },
                                {
                                    "0": "2022-11-08 12:52:00.000",
                                    "1": "0"
                                },
                                {
                                    "0": "2022-11-08 12:53:00.000",
                                    "1": "0"
                                },
                                {
                                    "0": "2022-11-08 12:54:00.000",
                                    "1": "0"
                                },
                                {
                                    "0": "2022-11-08 12:55:00.000",
                                    "1": "0"
                                },
                                {
                                    "0": "2022-11-08 12:56:20.000",
                                    "1": "0"
                                },
                                {
                                    "0": "2022-11-08 12:57:00.000",
                                    "1": "0"
                                },
                                {
                                    "0": "2022-11-08 12:58:00.000",
                                    "1": "0"
                                },
                                {
                                    "0": "2022-11-08 12:59:00.000",
                                    "1": "39"
                                },
                                {
                                    "0": "2022-11-08 13:00:00.000",
                                    "1": "0"
                                },
                                {
                                    "0": "2022-11-08 13:01:00.000",
                                    "1": "0"
                                },
                                {
                                    "0": "2022-11-08 13:02:00.000",
                                    "1": "0"
                                },
                                {
                                    "0": "2022-11-08 13:03:00.000",
                                    "1": "0"
                                },
                                {
                                    "0": "2022-11-08 13:04:00.000",
                                    "1": "0"
                                },
                                {
                                    "0": "2022-11-08 13:05:00.000",
                                    "1": "0"
                                },
                                {
                                    "0": "2022-11-08 13:06:00.000",
                                    "1": "0"
                                },
                                {
                                    "0": "2022-11-08 13:07:00.000",
                                    "1": "0"
                                },
                                {
                                    "0": "2022-11-08 13:08:00.000",
                                    "1": "0"
                                },
                                {
                                    "0": "2022-11-08 13:09:00.000",
                                    "1": "0"
                                },
                                {
                                    "0": "2022-11-08 13:10:00.000",
                                    "1": "81"
                                },
                                {
                                    "0": "2022-11-08 13:11:00.000",
                                    "1": "0"
                                },
                                {
                                    "0": "2022-11-08 13:12:00.000",
                                    "1": "0"
                                },
                                {
                                    "0": "2022-11-08 13:13:00.000",
                                    "1": "0"
                                },
                                {
                                    "0": "2022-11-08 13:14:00.000",
                                    "1": "0"
                                },
                                {
                                    "0": "2022-11-08 13:15:00.000",
                                    "1": "0"
                                },
                                {
                                    "0": "2022-11-08 13:16:00.000",
                                    "1": "0"
                                },
                                {
                                    "0": "2022-11-08 13:17:00.000",
                                    "1": "0"
                                },
                                {
                                    "0": "2022-11-08 13:18:00.000",
                                    "1": "0"
                                },
                                {
                                    "0": "2022-11-08 13:19:00.000",
                                    "1": "0"
                                },
                                {
                                    "0": "2022-11-08 13:20:20.000",
                                    "1": "0"
                                },
                                {
                                    "0": "2022-11-08 13:21:00.000",
                                    "1": "0"
                                },
                                {
                                    "0": "2022-11-08 13:22:00.000",
                                    "1": "70"
                                },
                                {
                                    "0": "2022-11-08 13:23:00.000",
                                    "1": "0"
                                },
                                {
                                    "0": "2022-11-08 13:24:00.000",
                                    "1": "0"
                                },
                                {
                                    "0": "2022-11-08 13:25:00.000",
                                    "1": "0"
                                },
                                {
                                    "0": "2022-11-08 13:26:00.000",
                                    "1": "0"
                                },
                                {
                                    "0": "2022-11-08 13:27:00.000",
                                    "1": "0"
                                },
                                {
                                    "0": "2022-11-08 13:28:00.000",
                                    "1": "0"
                                },
                                {
                                    "0": "2022-11-08 13:29:00.000",
                                    "1": "0"
                                },
                                {
                                    "0": "2022-11-08 13:30:00.000",
                                    "1": "0"
                                },
                                {
                                    "0": "2022-11-08 13:31:00.000",
                                    "1": "0"
                                },
                                {
                                    "0": "2022-11-08 13:32:00.000",
                                    "1": "0"
                                },
                                {
                                    "0": "2022-11-08 13:33:00.000",
                                    "1": "124"
                                },
                                {
                                    "0": "2022-11-08 13:34:00.000",
                                    "1": "34"
                                },
                                {
                                    "0": "2022-11-08 13:35:00.000",
                                    "1": "0"
                                },
                                {
                                    "0": "2022-11-08 13:36:00.000",
                                    "1": "0"
                                },
                                {
                                    "0": "2022-11-08 13:37:00.000",
                                    "1": "0"
                                },
                                {
                                    "0": "2022-11-08 13:38:00.000",
                                    "1": "0"
                                },
                                {
                                    "0": "2022-11-08 13:39:00.000",
                                    "1": "0"
                                },
                                {
                                    "0": "2022-11-08 13:40:00.000",
                                    "1": "0"
                                },
                                {
                                    "0": "2022-11-08 13:41:00.000",
                                    "1": "0"
                                },
                                {
                                    "0": "2022-11-08 13:42:00.000",
                                    "1": "0"
                                },
                                {
                                    "0": "2022-11-08 13:43:00.000",
                                    "1": "0"
                                },
                                {
                                    "0": "2022-11-08 13:44:00.000",
                                    "1": "0"
                                },
                                {
                                    "0": "2022-11-08 13:45:00.000",
                                    "1": "94"
                                },
                                {
                                    "0": "2022-11-08 13:46:00.000",
                                    "1": "0"
                                },
                                {
                                    "0": "2022-11-08 13:47:00.000",
                                    "1": "0"
                                },
                                {
                                    "0": "2022-11-08 13:48:00.000",
                                    "1": "0"
                                },
                                {
                                    "0": "2022-11-08 13:49:00.000",
                                    "1": "0"
                                },
                                {
                                    "0": "2022-11-08 13:50:00.000",
                                    "1": "0"
                                },
                                {
                                    "0": "2022-11-08 13:51:00.000",
                                    "1": "0"
                                },
                                {
                                    "0": "2022-11-08 13:52:00.000",
                                    "1": "0"
                                },
                                {
                                    "0": "2022-11-08 13:53:00.000",
                                    "1": "0"
                                },
                                {
                                    "0": "2022-11-08 13:54:00.000",
                                    "1": "0"
                                },
                                {
                                    "0": "2022-11-08 13:55:00.000",
                                    "1": "0"
                                },
                                {
                                    "0": "2022-11-08 13:56:00.000",
                                    "1": "0"
                                },
                                {
                                    "0": "2022-11-08 13:57:00.000",
                                    "1": "0"
                                },
                                {
                                    "0": "2022-11-08 13:58:00.000",
                                    "1": "47"
                                },
                                {
                                    "0": "2022-11-08 13:59:00.000",
                                    "1": "0"
                                },
                                {
                                    "0": "2022-11-08 14:00:00.000",
                                    "1": "0"
                                },
                                {
                                    "0": "2022-11-08 14:01:00.000",
                                    "1": "0"
                                },
                                {
                                    "0": "2022-11-08 14:02:00.000",
                                    "1": "0"
                                },
                                {
                                    "0": "2022-11-08 14:03:00.000",
                                    "1": "0"
                                },
                                {
                                    "0": "2022-11-08 14:04:00.000",
                                    "1": "0"
                                },
                                {
                                    "0": "2022-11-08 14:05:00.000",
                                    "1": "0"
                                },
                                {
                                    "0": "2022-11-08 14:06:00.000",
                                    "1": "0"
                                },
                                {
                                    "0": "2022-11-08 14:07:00.000",
                                    "1": "0"
                                },
                                {
                                    "0": "2022-11-08 14:08:00.000",
                                    "1": "0"
                                },
                                {
                                    "0": "2022-11-08 14:09:00.000",
                                    "1": "0"
                                },
                                {
                                    "0": "2022-11-08 14:10:00.000",
                                    "1": "0"
                                },
                                {
                                    "0": "2022-11-08 14:11:00.000",
                                    "1": "0"
                                },
                                {
                                    "0": "2022-11-08 14:12:00.000",
                                    "1": "0"
                                },
                                {
                                    "0": "2022-11-08 14:13:00.000",
                                    "1": "0"
                                },
                                {
                                    "0": "2022-11-08 14:14:00.000",
                                    "1": "0"
                                },
                                {
                                    "0": "2022-11-08 14:15:00.000",
                                    "1": "0"
                                },
                                {
                                    "0": "2022-11-08 14:16:00.000",
                                    "1": "0"
                                },
                                {
                                    "0": "2022-11-08 14:17:00.000",
                                    "1": "0"
                                },
                                {
                                    "0": "2022-11-08 14:18:00.000",
                                    "1": "108"
                                },
                                {
                                    "0": "2022-11-08 14:19:00.000",
                                    "1": "0"
                                },
                                {
                                    "0": "2022-11-08 14:20:00.000",
                                    "1": "66"
                                },
                                {
                                    "0": "2022-11-08 14:21:00.000",
                                    "1": "0"
                                },
                                {
                                    "0": "2022-11-08 14:22:00.000",
                                    "1": "0"
                                },
                                {
                                    "0": "2022-11-08 14:23:00.000",
                                    "1": "0"
                                },
                                {
                                    "0": "2022-11-08 14:24:00.000",
                                    "1": "0"
                                },
                                {
                                    "0": "2022-11-08 14:25:00.000",
                                    "1": "0"
                                },
                                {
                                    "0": "2022-11-08 14:26:00.000",
                                    "1": "0"
                                },
                                {
                                    "0": "2022-11-08 14:27:00.000",
                                    "1": "0"
                                },
                                {
                                    "0": "2022-11-08 14:28:00.000",
                                    "1": "0"
                                },
                                {
                                    "0": "2022-11-08 14:29:00.000",
                                    "1": "0"
                                },
                                {
                                    "0": "2022-11-08 14:30:00.000",
                                    "1": "0"
                                },
                                {
                                    "0": "2022-11-08 14:31:00.000",
                                    "1": "124"
                                },
                                {
                                    "0": "2022-11-08 14:32:00.000",
                                    "1": "22"
                                },
                                {
                                    "0": "2022-11-08 14:33:00.000",
                                    "1": "0"
                                },
                                {
                                    "0": "2022-11-08 14:34:00.000",
                                    "1": "0"
                                },
                                {
                                    "0": "2022-11-08 14:35:00.000",
                                    "1": "0"
                                },
                                {
                                    "0": "2022-11-08 14:36:00.000",
                                    "1": "0"
                                },
                                {
                                    "0": "2022-11-08 14:37:00.000",
                                    "1": "0"
                                },
                                {
                                    "0": "2022-11-08 14:38:00.000",
                                    "1": "0"
                                },
                                {
                                    "0": "2022-11-08 14:39:00.000",
                                    "1": "0"
                                },
                                {
                                    "0": "2022-11-08 14:40:00.000",
                                    "1": "0"
                                },
                                {
                                    "0": "2022-11-08 14:41:00.000",
                                    "1": "0"
                                },
                                {
                                    "0": "2022-11-08 14:42:00.000",
                                    "1": "0"
                                },
                                {
                                    "0": "2022-11-08 14:43:00.000",
                                    "1": "40"
                                },
                                {
                                    "0": "2022-11-08 14:44:00.000",
                                    "1": "63"
                                },
                                {
                                    "0": "2022-11-08 14:45:00.000",
                                    "1": "0"
                                },
                                {
                                    "0": "2022-11-08 14:46:00.000",
                                    "1": "0"
                                },
                                {
                                    "0": "2022-11-08 14:47:00.000",
                                    "1": "0"
                                },
                                {
                                    "0": "2022-11-08 14:48:00.000",
                                    "1": "0"
                                },
                                {
                                    "0": "2022-11-08 14:49:00.000",
                                    "1": "0"
                                },
                                {
                                    "0": "2022-11-08 14:50:00.000",
                                    "1": "0"
                                },
                                {
                                    "0": "2022-11-08 14:51:00.000",
                                    "1": "0"
                                },
                                {
                                    "0": "2022-11-08 14:52:00.000",
                                    "1": "0"
                                },
                                {
                                    "0": "2022-11-08 14:53:00.000",
                                    "1": "0"
                                },
                                {
                                    "0": "2022-11-08 14:54:00.000",
                                    "1": "0"
                                },
                                {
                                    "0": "2022-11-08 14:55:00.000",
                                    "1": "0"
                                },
                                {
                                    "0": "2022-11-08 14:56:00.000",
                                    "1": "44"
                                },
                                {
                                    "0": "2022-11-08 14:57:00.000",
                                    "1": "0"
                                },
                                {
                                    "0": "2022-11-08 14:58:00.000",
                                    "1": "0"
                                },
                                {
                                    "0": "2022-11-08 14:59:00.000",
                                    "1": "0"
                                },
                                {
                                    "0": "2022-11-08 15:00:00.000",
                                    "1": "0"
                                },
                                {
                                    "0": "2022-11-08 15:01:00.000",
                                    "1": "0"
                                },
                                {
                                    "0": "2022-11-08 15:02:00.000",
                                    "1": "0"
                                },
                                {
                                    "0": "2022-11-08 15:03:00.000",
                                    "1": "0"
                                },
                                {
                                    "0": "2022-11-08 15:04:00.000",
                                    "1": "0"
                                },
                                {
                                    "0": "2022-11-08 15:05:00.000",
                                    "1": "0"
                                },
                                {
                                    "0": "2022-11-08 15:06:00.000",
                                    "1": "123"
                                },
                                {
                                    "0": "2022-11-08 15:07:00.000",
                                    "1": "35"
                                },
                                {
                                    "0": "2022-11-08 15:08:00.000",
                                    "1": "0"
                                },
                                {
                                    "0": "2022-11-08 15:09:00.000",
                                    "1": "0"
                                },
                                {
                                    "0": "2022-11-08 15:10:00.000",
                                    "1": "0"
                                },
                                {
                                    "0": "2022-11-08 15:11:00.000",
                                    "1": "0"
                                },
                                {
                                    "0": "2022-11-08 15:12:00.000",
                                    "1": "0"
                                },
                                {
                                    "0": "2022-11-08 15:13:00.000",
                                    "1": "0"
                                },
                                {
                                    "0": "2022-11-08 15:14:00.000",
                                    "1": "0"
                                },
                                {
                                    "0": "2022-11-08 15:15:00.000",
                                    "1": "0"
                                },
                                {
                                    "0": "2022-11-08 15:16:00.000",
                                    "1": "0"
                                },
                                {
                                    "0": "2022-11-08 15:17:00.000",
                                    "1": "0"
                                },
                                {
                                    "0": "2022-11-08 15:18:00.000",
                                    "1": "11"
                                },
                                {
                                    "0": "2022-11-08 15:19:00.000",
                                    "1": "63"
                                },
                                {
                                    "0": "2022-11-08 15:20:00.000",
                                    "1": "0"
                                },
                                {
                                    "0": "2022-11-08 15:21:00.000",
                                    "1": "0"
                                },
                                {
                                    "0": "2022-11-08 15:22:00.000",
                                    "1": "0"
                                },
                                {
                                    "0": "2022-11-08 15:23:00.000",
                                    "1": "0"
                                },
                                {
                                    "0": "2022-11-08 15:24:00.000",
                                    "1": "0"
                                },
                                {
                                    "0": "2022-11-08 15:25:00.000",
                                    "1": "0"
                                },
                                {
                                    "0": "2022-11-08 15:26:00.000",
                                    "1": "0"
                                },
                                {
                                    "0": "2022-11-08 15:27:00.000",
                                    "1": "0"
                                },
                                {
                                    "0": "2022-11-08 15:28:00.000",
                                    "1": "0"
                                },
                                {
                                    "0": "2022-11-08 15:29:00.000",
                                    "1": "0"
                                },
                                {
                                    "0": "2022-11-08 15:30:00.000",
                                    "1": "106"
                                },
                                {
                                    "0": "2022-11-08 15:31:00.000",
                                    "1": "78"
                                },
                                {
                                    "0": "2022-11-08 15:32:00.000",
                                    "1": "0"
                                },
                                {
                                    "0": "2022-11-08 15:33:00.000",
                                    "1": "0"
                                },
                                {
                                    "0": "2022-11-08 15:34:00.000",
                                    "1": "0"
                                },
                                {
                                    "0": "2022-11-08 15:35:00.000",
                                    "1": "0"
                                },
                                {
                                    "0": "2022-11-08 15:36:00.000",
                                    "1": "0"
                                },
                                {
                                    "0": "2022-11-08 15:37:00.000",
                                    "1": "1"
                                },
                                {
                                    "0": "2022-11-08 15:38:00.000",
                                    "1": "0"
                                },
                                {
                                    "0": "2022-11-08 15:39:00.000",
                                    "1": "0"
                                },
                                {
                                    "0": "2022-11-08 15:40:00.000",
                                    "1": "0"
                                },
                                {
                                    "0": "2022-11-08 15:41:00.000",
                                    "1": "0"
                                },
                                {
                                    "0": "2022-11-08 15:42:00.000",
                                    "1": "0"
                                },
                                {
                                    "0": "2022-11-08 15:43:00.000",
                                    "1": "54"
                                },
                                {
                                    "0": "2022-11-08 15:44:00.000",
                                    "1": "0"
                                },
                                {
                                    "0": "2022-11-08 15:45:00.000",
                                    "1": "0"
                                },
                                {
                                    "0": "2022-11-08 15:46:00.000",
                                    "1": "0"
                                },
                                {
                                    "0": "2022-11-08 15:47:00.000",
                                    "1": "0"
                                },
                                {
                                    "0": "2022-11-08 15:48:00.000",
                                    "1": "0"
                                },
                                {
                                    "0": "2022-11-08 15:49:00.000",
                                    "1": "0"
                                },
                                {
                                    "0": "2022-11-08 15:50:00.000",
                                    "1": "0"
                                },
                                {
                                    "0": "2022-11-08 15:51:00.000",
                                    "1": "0"
                                },
                                {
                                    "0": "2022-11-08 15:52:12.000",
                                    "1": "0"
                                },
                                {
                                    "0": "2022-11-08 15:53:00.000",
                                    "1": "0"
                                },
                                {
                                    "0": "2022-11-08 15:54:20.000",
                                    "1": "0"
                                },
                                {
                                    "0": "2022-11-08 15:55:00.000",
                                    "1": "66"
                                },
                                {
                                    "0": "2022-11-08 15:56:00.000",
                                    "1": "0"
                                },
                                {
                                    "0": "2022-11-08 15:57:00.000",
                                    "1": "0"
                                },
                                {
                                    "0": "2022-11-08 15:58:00.000",
                                    "1": "0"
                                },
                                {
                                    "0": "2022-11-08 15:59:00.000",
                                    "1": "0"
                                },
                                {
                                    "0": "2022-11-08 16:00:00.000",
                                    "1": "0"
                                },
                                {
                                    "0": "2022-11-08 16:01:00.000",
                                    "1": "0"
                                },
                                {
                                    "0": "2022-11-08 16:02:00.000",
                                    "1": "0"
                                },
                                {
                                    "0": "2022-11-08 16:03:00.000",
                                    "1": "0"
                                },
                                {
                                    "0": "2022-11-08 16:04:00.000",
                                    "1": "0"
                                },
                                {
                                    "0": "2022-11-08 16:05:00.000",
                                    "1": "66"
                                },
                                {
                                    "0": "2022-11-08 16:06:00.000",
                                    "1": "55"
                                },
                                {
                                    "0": "2022-11-08 16:07:00.000",
                                    "1": "0"
                                },
                                {
                                    "0": "2022-11-08 16:08:00.000",
                                    "1": "0"
                                },
                                {
                                    "0": "2022-11-08 16:09:00.000",
                                    "1": "0"
                                },
                                {
                                    "0": "2022-11-08 16:10:00.000",
                                    "1": "0"
                                },
                                {
                                    "0": "2022-11-08 16:11:00.000",
                                    "1": "0"
                                },
                                {
                                    "0": "2022-11-08 16:12:00.000",
                                    "1": "0"
                                },
                                {
                                    "0": "2022-11-08 16:13:00.000",
                                    "1": "0"
                                },
                                {
                                    "0": "2022-11-08 16:14:00.000",
                                    "1": "0"
                                },
                                {
                                    "0": "2022-11-08 16:15:00.000",
                                    "1": "1"
                                },
                                {
                                    "0": "2022-11-08 16:16:00.000",
                                    "1": "0"
                                },
                                {
                                    "0": "2022-11-08 16:17:00.000",
                                    "1": "0"
                                },
                                {
                                    "0": "2022-11-08 16:18:00.000",
                                    "1": "97"
                                },
                                {
                                    "0": "2022-11-08 16:19:00.000",
                                    "1": "15"
                                },
                                {
                                    "0": "2022-11-08 16:20:00.000",
                                    "1": "0"
                                },
                                {
                                    "0": "2022-11-08 16:21:00.000",
                                    "1": "0"
                                },
                                {
                                    "0": "2022-11-08 16:22:00.000",
                                    "1": "0"
                                },
                                {
                                    "0": "2022-11-08 16:23:00.000",
                                    "1": "0"
                                },
                                {
                                    "0": "2022-11-08 16:24:00.000",
                                    "1": "0"
                                },
                                {
                                    "0": "2022-11-08 16:25:00.000",
                                    "1": "1"
                                },
                                {
                                    "0": "2022-11-08 16:26:00.000",
                                    "1": "0"
                                },
                                {
                                    "0": "2022-11-08 16:27:00.000",
                                    "1": "0"
                                },
                                {
                                    "0": "2022-11-08 16:28:00.000",
                                    "1": "0"
                                },
                                {
                                    "0": "2022-11-08 16:29:00.000",
                                    "1": "0"
                                },
                                {
                                    "0": "2022-11-08 16:30:00.000",
                                    "1": "103"
                                },
                                {
                                    "0": "2022-11-08 16:31:00.000",
                                    "1": "0"
                                },
                                {
                                    "0": "2022-11-08 16:32:00.000",
                                    "1": "0"
                                },
                                {
                                    "0": "2022-11-08 16:33:00.000",
                                    "1": "0"
                                },
                                {
                                    "0": "2022-11-08 16:34:00.000",
                                    "1": "0"
                                },
                                {
                                    "0": "2022-11-08 16:35:00.000",
                                    "1": "0"
                                },
                                {
                                    "0": "2022-11-08 16:36:00.000",
                                    "1": "0"
                                },
                                {
                                    "0": "2022-11-08 16:37:00.000",
                                    "1": "0"
                                },
                                {
                                    "0": "2022-11-08 16:38:00.000",
                                    "1": "0"
                                },
                                {
                                    "0": "2022-11-08 16:39:00.000",
                                    "1": "0"
                                },
                                {
                                    "0": "2022-11-08 16:40:00.000",
                                    "1": "0"
                                },
                                {
                                    "0": "2022-11-08 16:41:00.000",
                                    "1": "0"
                                },
                                {
                                    "0": "2022-11-08 16:42:00.000",
                                    "1": "0"
                                },
                                {
                                    "0": "2022-11-08 16:43:00.000",
                                    "1": "42"
                                },
                                {
                                    "0": "2022-11-08 16:44:00.000",
                                    "1": "0"
                                },
                                {
                                    "0": "2022-11-08 16:45:00.000",
                                    "1": "0"
                                },
                                {
                                    "0": "2022-11-08 16:46:00.000",
                                    "1": "0"
                                },
                                {
                                    "0": "2022-11-08 16:47:00.000",
                                    "1": "0"
                                },
                                {
                                    "0": "2022-11-08 16:48:00.000",
                                    "1": "0"
                                },
                                {
                                    "0": "2022-11-08 16:49:00.000",
                                    "1": "0"
                                },
                                {
                                    "0": "2022-11-08 16:50:00.000",
                                    "1": "0"
                                },
                                {
                                    "0": "2022-11-08 16:51:00.000",
                                    "1": "0"
                                },
                                {
                                    "0": "2022-11-08 16:52:00.000",
                                    "1": "0"
                                },
                                {
                                    "0": "2022-11-08 16:53:00.000",
                                    "1": "0"
                                },
                                {
                                    "0": "2022-11-08 16:54:00.000",
                                    "1": "124"
                                },
                                {
                                    "0": "2022-11-08 16:55:00.000",
                                    "1": "0"
                                },
                                {
                                    "0": "2022-11-08 16:56:00.000",
                                    "1": "0"
                                },
                                {
                                    "0": "2022-11-08 16:57:00.000",
                                    "1": "0"
                                },
                                {
                                    "0": "2022-11-08 16:58:00.000",
                                    "1": "0"
                                },
                                {
                                    "0": "2022-11-08 16:59:00.000",
                                    "1": "0"
                                },
                                {
                                    "0": "2022-11-08 17:00:00.000",
                                    "1": "0"
                                },
                                {
                                    "0": "2022-11-08 17:01:00.000",
                                    "1": "1"
                                },
                                {
                                    "0": "2022-11-08 17:02:00.000",
                                    "1": "0"
                                },
                                {
                                    "0": "2022-11-08 17:03:00.000",
                                    "1": "0"
                                },
                                {
                                    "0": "2022-11-08 17:04:00.000",
                                    "1": "0"
                                },
                                {
                                    "0": "2022-11-08 17:05:00.000",
                                    "1": "94"
                                },
                                {
                                    "0": "2022-11-08 17:06:00.000",
                                    "1": "0"
                                },
                                {
                                    "0": "2022-11-08 17:07:00.000",
                                    "1": "0"
                                },
                                {
                                    "0": "2022-11-08 17:08:00.000",
                                    "1": "0"
                                },
                                {
                                    "0": "2022-11-08 17:09:00.000",
                                    "1": "0"
                                },
                                {
                                    "0": "2022-11-08 17:10:00.000",
                                    "1": "0"
                                },
                                {
                                    "0": "2022-11-08 17:11:00.000",
                                    "1": "0"
                                },
                                {
                                    "0": "2022-11-08 17:12:00.000",
                                    "1": "0"
                                },
                                {
                                    "0": "2022-11-08 17:13:00.000",
                                    "1": "0"
                                },
                                {
                                    "0": "2022-11-08 17:14:00.000",
                                    "1": "0"
                                },
                                {
                                    "0": "2022-11-08 17:15:00.000",
                                    "1": "0"
                                },
                                {
                                    "0": "2022-11-08 17:16:00.000",
                                    "1": "0"
                                },
                                {
                                    "0": "2022-11-08 17:17:00.000",
                                    "1": "64"
                                },
                                {
                                    "0": "2022-11-08 17:18:00.000",
                                    "1": "17"
                                },
                                {
                                    "0": "2022-11-08 17:19:00.000",
                                    "1": "0"
                                },
                                {
                                    "0": "2022-11-08 17:20:00.000",
                                    "1": "0"
                                },
                                {
                                    "0": "2022-11-08 17:21:00.000",
                                    "1": "0"
                                },
                                {
                                    "0": "2022-11-08 17:22:00.000",
                                    "1": "0"
                                },
                                {
                                    "0": "2022-11-08 17:23:00.000",
                                    "1": "0"
                                },
                                {
                                    "0": "2022-11-08 17:24:00.000",
                                    "1": "0"
                                },
                                {
                                    "0": "2022-11-08 17:25:00.000",
                                    "1": "0"
                                },
                                {
                                    "0": "2022-11-08 17:26:00.000",
                                    "1": "0"
                                },
                                {
                                    "0": "2022-11-08 17:27:00.000",
                                    "1": "0"
                                },
                                {
                                    "0": "2022-11-08 17:28:00.000",
                                    "1": "0"
                                },
                                {
                                    "0": "2022-11-08 17:29:00.000",
                                    "1": "0"
                                },
                                {
                                    "0": "2022-11-08 17:30:00.000",
                                    "1": "28"
                                },
                                {
                                    "0": "2022-11-08 17:31:00.000",
                                    "1": "0"
                                },
                                {
                                    "0": "2022-11-08 17:32:00.000",
                                    "1": "0"
                                },
                                {
                                    "0": "2022-11-08 17:33:00.000",
                                    "1": "0"
                                },
                                {
                                    "0": "2022-11-08 17:34:00.000",
                                    "1": "0"
                                },
                                {
                                    "0": "2022-11-08 17:35:00.000",
                                    "1": "0"
                                },
                                {
                                    "0": "2022-11-08 17:36:00.000",
                                    "1": "0"
                                },
                                {
                                    "0": "2022-11-08 17:37:00.000",
                                    "1": "0"
                                },
                                {
                                    "0": "2022-11-08 17:38:00.000",
                                    "1": "0"
                                },
                                {
                                    "0": "2022-11-08 17:39:00.000",
                                    "1": "0"
                                },
                                {
                                    "0": "2022-11-08 17:40:00.000",
                                    "1": "108"
                                },
                                {
                                    "0": "2022-11-08 17:41:00.000",
                                    "1": "96"
                                },
                                {
                                    "0": "2022-11-08 17:42:20.000",
                                    "1": "0"
                                },
                                {
                                    "0": "2022-11-08 17:43:00.000",
                                    "1": "0"
                                },
                                {
                                    "0": "2022-11-08 17:44:00.000",
                                    "1": "0"
                                },
                                {
                                    "0": "2022-11-08 17:45:00.000",
                                    "1": "0"
                                },
                                {
                                    "0": "2022-11-08 17:46:00.000",
                                    "1": "0"
                                },
                                {
                                    "0": "2022-11-08 17:47:00.000",
                                    "1": "0"
                                },
                                {
                                    "0": "2022-11-08 17:48:00.000",
                                    "1": "0"
                                },
                                {
                                    "0": "2022-11-08 17:49:00.000",
                                    "1": "0"
                                },
                                {
                                    "0": "2022-11-08 17:50:00.000",
                                    "1": "0"
                                },
                                {
                                    "0": "2022-11-08 17:51:00.000",
                                    "1": "0"
                                },
                                {
                                    "0": "2022-11-08 17:52:00.000",
                                    "1": "0"
                                },
                                {
                                    "0": "2022-11-08 17:53:00.000",
                                    "1": "0"
                                },
                                {
                                    "0": "2022-11-08 17:54:20.000",
                                    "1": "16"
                                },
                                {
                                    "0": "2022-11-08 17:55:00.000",
                                    "1": "0"
                                },
                                {
                                    "0": "2022-11-08 17:56:11.000",
                                    "1": "0"
                                },
                                {
                                    "0": "2022-11-08 17:57:00.000",
                                    "1": "0"
                                },
                                {
                                    "0": "2022-11-08 17:58:00.000",
                                    "1": "0"
                                },
                                {
                                    "0": "2022-11-08 17:59:00.000",
                                    "1": "1"
                                },
                                {
                                    "0": "2022-11-08 18:00:01.000",
                                    "1": "0"
                                },
                                {
                                    "0": "2022-11-08 18:01:01.000",
                                    "1": "127"
                                },
                                {
                                    "0": "2022-11-08 18:02:00.000",
                                    "1": "96"
                                },
                                {
                                    "0": "2022-11-08 18:03:20.000",
                                    "1": "0"
                                },
                                {
                                    "0": "2022-11-08 18:04:00.000",
                                    "1": "92"
                                },
                                {
                                    "0": "2022-11-08 18:05:00.000",
                                    "1": "0"
                                },
                                {
                                    "0": "2022-11-08 18:06:00.000",
                                    "1": "0"
                                },
                                {
                                    "0": "2022-11-08 18:07:00.000",
                                    "1": "0"
                                },
                                {
                                    "0": "2022-11-08 18:08:00.000",
                                    "1": "0"
                                },
                                {
                                    "0": "2022-11-08 18:09:00.000",
                                    "1": "0"
                                },
                                {
                                    "0": "2022-11-08 18:10:00.000",
                                    "1": "0"
                                },
                                {
                                    "0": "2022-11-08 18:11:00.000",
                                    "1": "0"
                                },
                                {
                                    "0": "2022-11-08 18:12:00.000",
                                    "1": "0"
                                },
                                {
                                    "0": "2022-11-08 18:13:00.000",
                                    "1": "0"
                                },
                                {
                                    "0": "2022-11-08 18:14:00.000",
                                    "1": "85"
                                },
                                {
                                    "0": "2022-11-08 18:15:00.000",
                                    "1": "109"
                                },
                                {
                                    "0": "2022-11-08 18:16:00.000",
                                    "1": "0"
                                },
                                {
                                    "0": "2022-11-08 18:17:00.000",
                                    "1": "0"
                                },
                                {
                                    "0": "2022-11-08 18:18:00.000",
                                    "1": "0"
                                },
                                {
                                    "0": "2022-11-08 18:19:00.000",
                                    "1": "0"
                                },
                                {
                                    "0": "2022-11-08 18:20:00.000",
                                    "1": "0"
                                },
                                {
                                    "0": "2022-11-08 18:21:00.000",
                                    "1": "0"
                                },
                                {
                                    "0": "2022-11-08 18:22:00.000",
                                    "1": "1"
                                },
                                {
                                    "0": "2022-11-08 18:23:00.000",
                                    "1": "0"
                                },
                                {
                                    "0": "2022-11-08 18:24:00.000",
                                    "1": "0"
                                },
                                {
                                    "0": "2022-11-08 18:25:00.000",
                                    "1": "0"
                                },
                                {
                                    "0": "2022-11-08 18:26:00.000",
                                    "1": "0"
                                },
                                {
                                    "0": "2022-11-08 18:27:00.000",
                                    "1": "92"
                                },
                                {
                                    "0": "2022-11-08 18:28:00.000",
                                    "1": "0"
                                },
                                {
                                    "0": "2022-11-08 18:29:00.000",
                                    "1": "0"
                                },
                                {
                                    "0": "2022-11-08 18:30:00.000",
                                    "1": "0"
                                },
                                {
                                    "0": "2022-11-08 18:31:00.000",
                                    "1": "0"
                                },
                                {
                                    "0": "2022-11-08 18:32:00.000",
                                    "1": "0"
                                },
                                {
                                    "0": "2022-11-08 18:33:00.000",
                                    "1": "0"
                                },
                                {
                                    "0": "2022-11-08 18:34:00.000",
                                    "1": "0"
                                },
                                {
                                    "0": "2022-11-08 18:35:00.000",
                                    "1": "0"
                                },
                                {
                                    "0": "2022-11-08 18:36:00.000",
                                    "1": "0"
                                },
                                {
                                    "0": "2022-11-08 18:37:00.000",
                                    "1": "1"
                                },
                                {
                                    "0": "2022-11-08 18:38:00.000",
                                    "1": "124"
                                },
                                {
                                    "0": "2022-11-08 18:39:00.000",
                                    "1": "53"
                                },
                                {
                                    "0": "2022-11-08 18:40:00.000",
                                    "1": "0"
                                },
                                {
                                    "0": "2022-11-08 18:41:00.000",
                                    "1": "0"
                                },
                                {
                                    "0": "2022-11-08 18:42:00.000",
                                    "1": "0"
                                },
                                {
                                    "0": "2022-11-08 18:43:00.000",
                                    "1": "0"
                                },
                                {
                                    "0": "2022-11-08 18:44:00.000",
                                    "1": "0"
                                },
                                {
                                    "0": "2022-11-08 18:45:00.000",
                                    "1": "0"
                                },
                                {
                                    "0": "2022-11-08 18:46:00.000",
                                    "1": "0"
                                },
                                {
                                    "0": "2022-11-08 18:47:00.000",
                                    "1": "0"
                                },
                                {
                                    "0": "2022-11-08 18:48:00.000",
                                    "1": "0"
                                },
                                {
                                    "0": "2022-11-08 18:49:00.000",
                                    "1": "0"
                                },
                                {
                                    "0": "2022-11-08 18:50:00.000",
                                    "1": "110"
                                },
                                {
                                    "0": "2022-11-08 18:51:00.000",
                                    "1": "29"
                                },
                                {
                                    "0": "2022-11-08 18:52:00.000",
                                    "1": "0"
                                },
                                {
                                    "0": "2022-11-08 18:53:00.000",
                                    "1": "0"
                                },
                                {
                                    "0": "2022-11-08 18:54:00.000",
                                    "1": "0"
                                },
                                {
                                    "0": "2022-11-08 18:55:00.000",
                                    "1": "0"
                                },
                                {
                                    "0": "2022-11-08 18:56:00.000",
                                    "1": "0"
                                },
                                {
                                    "0": "2022-11-08 18:57:00.000",
                                    "1": "0"
                                },
                                {
                                    "0": "2022-11-08 18:58:00.000",
                                    "1": "0"
                                },
                                {
                                    "0": "2022-11-08 18:59:00.000",
                                    "1": "0"
                                },
                                {
                                    "0": "2022-11-08 19:00:00.000",
                                    "1": "0"
                                },
                                {
                                    "0": "2022-11-08 19:01:00.000",
                                    "1": "121"
                                },
                                {
                                    "0": "2022-11-08 19:02:00.000",
                                    "1": "90"
                                },
                                {
                                    "0": "2022-11-08 19:03:00.000",
                                    "1": "0"
                                },
                                {
                                    "0": "2022-11-08 19:04:00.000",
                                    "1": "0"
                                },
                                {
                                    "0": "2022-11-08 19:05:00.000",
                                    "1": "0"
                                },
                                {
                                    "0": "2022-11-08 19:06:00.000",
                                    "1": "0"
                                },
                                {
                                    "0": "2022-11-08 19:07:00.000",
                                    "1": "0"
                                },
                                {
                                    "0": "2022-11-08 19:08:00.000",
                                    "1": "0"
                                },
                                {
                                    "0": "2022-11-08 19:09:00.000",
                                    "1": "0"
                                },
                                {
                                    "0": "2022-11-08 19:10:00.000",
                                    "1": "0"
                                },
                                {
                                    "0": "2022-11-08 19:11:00.000",
                                    "1": "0"
                                },
                                {
                                    "0": "2022-11-08 19:12:00.000",
                                    "1": "0"
                                },
                                {
                                    "0": "2022-11-08 19:13:00.000",
                                    "1": "67"
                                },
                                {
                                    "0": "2022-11-08 19:14:00.000",
                                    "1": "0"
                                },
                                {
                                    "0": "2022-11-08 19:15:00.000",
                                    "1": "0"
                                },
                                {
                                    "0": "2022-11-08 19:16:00.000",
                                    "1": "0"
                                },
                                {
                                    "0": "2022-11-08 19:17:00.000",
                                    "1": "0"
                                },
                                {
                                    "0": "2022-11-08 19:18:00.000",
                                    "1": "0"
                                },
                                {
                                    "0": "2022-11-08 19:19:00.000",
                                    "1": "0"
                                },
                                {
                                    "0": "2022-11-08 19:20:00.000",
                                    "1": "0"
                                },
                                {
                                    "0": "2022-11-08 19:21:00.000",
                                    "1": "0"
                                },
                                {
                                    "0": "2022-11-08 19:22:00.000",
                                    "1": "0"
                                },
                                {
                                    "0": "2022-11-08 19:23:00.000",
                                    "1": "0"
                                },
                                {
                                    "0": "2022-11-08 19:24:00.000",
                                    "1": "0"
                                },
                                {
                                    "0": "2022-11-08 19:25:00.000",
                                    "1": "83"
                                },
                                {
                                    "0": "2022-11-08 19:26:00.000",
                                    "1": "0"
                                },
                                {
                                    "0": "2022-11-08 19:27:00.000",
                                    "1": "0"
                                },
                                {
                                    "0": "2022-11-08 19:28:00.000",
                                    "1": "0"
                                },
                                {
                                    "0": "2022-11-08 19:29:00.000",
                                    "1": "0"
                                },
                                {
                                    "0": "2022-11-08 19:30:00.000",
                                    "1": "0"
                                },
                                {
                                    "0": "2022-11-08 19:31:00.000",
                                    "1": "0"
                                },
                                {
                                    "0": "2022-11-08 19:32:00.000",
                                    "1": "0"
                                },
                                {
                                    "0": "2022-11-08 19:33:00.000",
                                    "1": "0"
                                },
                                {
                                    "0": "2022-11-08 19:34:00.000",
                                    "1": "0"
                                },
                                {
                                    "0": "2022-11-08 19:35:00.000",
                                    "1": "0"
                                },
                                {
                                    "0": "2022-11-08 19:36:00.000",
                                    "1": "0"
                                },
                                {
                                    "0": "2022-11-08 19:37:00.000",
                                    "1": "124"
                                },
                                {
                                    "0": "2022-11-08 19:38:00.000",
                                    "1": "0"
                                },
                                {
                                    "0": "2022-11-08 19:39:00.000",
                                    "1": "0"
                                },
                                {
                                    "0": "2022-11-08 19:40:00.000",
                                    "1": "0"
                                },
                                {
                                    "0": "2022-11-08 19:41:00.000",
                                    "1": "0"
                                },
                                {
                                    "0": "2022-11-08 19:42:00.000",
                                    "1": "0"
                                },
                                {
                                    "0": "2022-11-08 19:43:00.000",
                                    "1": "0"
                                },
                                {
                                    "0": "2022-11-08 19:44:00.000",
                                    "1": "0"
                                },
                                {
                                    "0": "2022-11-08 19:45:00.000",
                                    "1": "0"
                                },
                                {
                                    "0": "2022-11-08 19:46:00.000",
                                    "1": "0"
                                },
                                {
                                    "0": "2022-11-08 19:47:00.000",
                                    "1": "0"
                                },
                                {
                                    "0": "2022-11-08 19:48:00.000",
                                    "1": "0"
                                },
                                {
                                    "0": "2022-11-08 19:49:00.000",
                                    "1": "36"
                                },
                                {
                                    "0": "2022-11-08 19:50:00.000",
                                    "1": "0"
                                },
                                {
                                    "0": "2022-11-08 19:51:00.000",
                                    "1": "0"
                                },
                                {
                                    "0": "2022-11-08 19:52:00.000",
                                    "1": "0"
                                },
                                {
                                    "0": "2022-11-08 19:53:00.000",
                                    "1": "0"
                                },
                                {
                                    "0": "2022-11-08 19:54:00.000",
                                    "1": "0"
                                },
                                {
                                    "0": "2022-11-08 19:55:00.000",
                                    "1": "0"
                                },
                                {
                                    "0": "2022-11-08 19:56:00.000",
                                    "1": "0"
                                },
                                {
                                    "0": "2022-11-08 19:57:00.000",
                                    "1": "0"
                                },
                                {
                                    "0": "2022-11-08 19:58:00.000",
                                    "1": "0"
                                },
                                {
                                    "0": "2022-11-08 19:59:00.000",
                                    "1": "0"
                                },
                                {
                                    "0": "2022-11-08 20:00:00.000",
                                    "1": "90"
                                }
                            ]
                        },
                        "text/html": [
                            "<table>",
                            "<tr><th>reading_time</th><th>wait_time_change</th></tr>",
                            "<tr><td>2022-11-08 12:02:00.000</td><td>0</td></tr>",
                            "<tr><td>2022-11-08 12:03:00.000</td><td>0</td></tr>",
                            "<tr><td>2022-11-08 12:04:00.000</td><td>0</td></tr>",
                            "<tr><td>2022-11-08 12:05:00.000</td><td>0</td></tr>",
                            "<tr><td>2022-11-08 12:06:00.000</td><td>0</td></tr>",
                            "<tr><td>2022-11-08 12:07:00.000</td><td>0</td></tr>",
                            "<tr><td>2022-11-08 12:08:00.000</td><td>0</td></tr>",
                            "<tr><td>2022-11-08 12:09:00.000</td><td>0</td></tr>",
                            "<tr><td>2022-11-08 12:10:00.000</td><td>100</td></tr>",
                            "<tr><td>2022-11-08 12:11:00.000</td><td>44</td></tr>",
                            "<tr><td>2022-11-08 12:12:00.000</td><td>0</td></tr>",
                            "<tr><td>2022-11-08 12:13:00.000</td><td>0</td></tr>",
                            "<tr><td>2022-11-08 12:14:00.000</td><td>0</td></tr>",
                            "<tr><td>2022-11-08 12:15:00.000</td><td>0</td></tr>",
                            "<tr><td>2022-11-08 12:16:00.000</td><td>0</td></tr>",
                            "<tr><td>2022-11-08 12:17:00.000</td><td>0</td></tr>",
                            "<tr><td>2022-11-08 12:18:00.000</td><td>0</td></tr>",
                            "<tr><td>2022-11-08 12:19:00.000</td><td>0</td></tr>",
                            "<tr><td>2022-11-08 12:20:00.000</td><td>0</td></tr>",
                            "<tr><td>2022-11-08 12:21:00.000</td><td>0</td></tr>",
                            "<tr><td>2022-11-08 12:22:00.000</td><td>84</td></tr>",
                            "<tr><td>2022-11-08 12:23:00.000</td><td>0</td></tr>",
                            "<tr><td>2022-11-08 12:24:00.000</td><td>0</td></tr>",
                            "<tr><td>2022-11-08 12:25:00.000</td><td>0</td></tr>",
                            "<tr><td>2022-11-08 12:26:00.000</td><td>0</td></tr>",
                            "<tr><td>2022-11-08 12:27:00.000</td><td>0</td></tr>",
                            "<tr><td>2022-11-08 12:28:00.000</td><td>0</td></tr>",
                            "<tr><td>2022-11-08 12:29:00.000</td><td>0</td></tr>",
                            "<tr><td>2022-11-08 12:30:00.000</td><td>0</td></tr>",
                            "<tr><td>2022-11-08 12:31:00.000</td><td>0</td></tr>",
                            "<tr><td>2022-11-08 12:32:00.000</td><td>0</td></tr>",
                            "<tr><td>2022-11-08 12:33:00.000</td><td>0</td></tr>",
                            "<tr><td>2022-11-08 12:34:00.000</td><td>0</td></tr>",
                            "<tr><td>2022-11-08 12:35:00.000</td><td>49</td></tr>",
                            "<tr><td>2022-11-08 12:36:00.000</td><td>0</td></tr>",
                            "<tr><td>2022-11-08 12:37:00.000</td><td>0</td></tr>",
                            "<tr><td>2022-11-08 12:38:00.000</td><td>0</td></tr>",
                            "<tr><td>2022-11-08 12:39:00.000</td><td>0</td></tr>",
                            "<tr><td>2022-11-08 12:40:00.000</td><td>0</td></tr>",
                            "<tr><td>2022-11-08 12:41:00.000</td><td>0</td></tr>",
                            "<tr><td>2022-11-08 12:42:00.000</td><td>0</td></tr>",
                            "<tr><td>2022-11-08 12:43:00.000</td><td>0</td></tr>",
                            "<tr><td>2022-11-08 12:44:00.000</td><td>0</td></tr>",
                            "<tr><td>2022-11-08 12:45:00.000</td><td>95</td></tr>",
                            "<tr><td>2022-11-08 12:46:00.000</td><td>0</td></tr>",
                            "<tr><td>2022-11-08 12:47:00.000</td><td>97</td></tr>",
                            "<tr><td>2022-11-08 12:48:00.000</td><td>20</td></tr>",
                            "<tr><td>2022-11-08 12:49:00.000</td><td>0</td></tr>",
                            "<tr><td>2022-11-08 12:50:00.000</td><td>0</td></tr>",
                            "<tr><td>2022-11-08 12:51:00.000</td><td>0</td></tr>",
                            "<tr><td>2022-11-08 12:52:00.000</td><td>0</td></tr>",
                            "<tr><td>2022-11-08 12:53:00.000</td><td>0</td></tr>",
                            "<tr><td>2022-11-08 12:54:00.000</td><td>0</td></tr>",
                            "<tr><td>2022-11-08 12:55:00.000</td><td>0</td></tr>",
                            "<tr><td>2022-11-08 12:56:20.000</td><td>0</td></tr>",
                            "<tr><td>2022-11-08 12:57:00.000</td><td>0</td></tr>",
                            "<tr><td>2022-11-08 12:58:00.000</td><td>0</td></tr>",
                            "<tr><td>2022-11-08 12:59:00.000</td><td>39</td></tr>",
                            "<tr><td>2022-11-08 13:00:00.000</td><td>0</td></tr>",
                            "<tr><td>2022-11-08 13:01:00.000</td><td>0</td></tr>",
                            "<tr><td>2022-11-08 13:02:00.000</td><td>0</td></tr>",
                            "<tr><td>2022-11-08 13:03:00.000</td><td>0</td></tr>",
                            "<tr><td>2022-11-08 13:04:00.000</td><td>0</td></tr>",
                            "<tr><td>2022-11-08 13:05:00.000</td><td>0</td></tr>",
                            "<tr><td>2022-11-08 13:06:00.000</td><td>0</td></tr>",
                            "<tr><td>2022-11-08 13:07:00.000</td><td>0</td></tr>",
                            "<tr><td>2022-11-08 13:08:00.000</td><td>0</td></tr>",
                            "<tr><td>2022-11-08 13:09:00.000</td><td>0</td></tr>",
                            "<tr><td>2022-11-08 13:10:00.000</td><td>81</td></tr>",
                            "<tr><td>2022-11-08 13:11:00.000</td><td>0</td></tr>",
                            "<tr><td>2022-11-08 13:12:00.000</td><td>0</td></tr>",
                            "<tr><td>2022-11-08 13:13:00.000</td><td>0</td></tr>",
                            "<tr><td>2022-11-08 13:14:00.000</td><td>0</td></tr>",
                            "<tr><td>2022-11-08 13:15:00.000</td><td>0</td></tr>",
                            "<tr><td>2022-11-08 13:16:00.000</td><td>0</td></tr>",
                            "<tr><td>2022-11-08 13:17:00.000</td><td>0</td></tr>",
                            "<tr><td>2022-11-08 13:18:00.000</td><td>0</td></tr>",
                            "<tr><td>2022-11-08 13:19:00.000</td><td>0</td></tr>",
                            "<tr><td>2022-11-08 13:20:20.000</td><td>0</td></tr>",
                            "<tr><td>2022-11-08 13:21:00.000</td><td>0</td></tr>",
                            "<tr><td>2022-11-08 13:22:00.000</td><td>70</td></tr>",
                            "<tr><td>2022-11-08 13:23:00.000</td><td>0</td></tr>",
                            "<tr><td>2022-11-08 13:24:00.000</td><td>0</td></tr>",
                            "<tr><td>2022-11-08 13:25:00.000</td><td>0</td></tr>",
                            "<tr><td>2022-11-08 13:26:00.000</td><td>0</td></tr>",
                            "<tr><td>2022-11-08 13:27:00.000</td><td>0</td></tr>",
                            "<tr><td>2022-11-08 13:28:00.000</td><td>0</td></tr>",
                            "<tr><td>2022-11-08 13:29:00.000</td><td>0</td></tr>",
                            "<tr><td>2022-11-08 13:30:00.000</td><td>0</td></tr>",
                            "<tr><td>2022-11-08 13:31:00.000</td><td>0</td></tr>",
                            "<tr><td>2022-11-08 13:32:00.000</td><td>0</td></tr>",
                            "<tr><td>2022-11-08 13:33:00.000</td><td>124</td></tr>",
                            "<tr><td>2022-11-08 13:34:00.000</td><td>34</td></tr>",
                            "<tr><td>2022-11-08 13:35:00.000</td><td>0</td></tr>",
                            "<tr><td>2022-11-08 13:36:00.000</td><td>0</td></tr>",
                            "<tr><td>2022-11-08 13:37:00.000</td><td>0</td></tr>",
                            "<tr><td>2022-11-08 13:38:00.000</td><td>0</td></tr>",
                            "<tr><td>2022-11-08 13:39:00.000</td><td>0</td></tr>",
                            "<tr><td>2022-11-08 13:40:00.000</td><td>0</td></tr>",
                            "<tr><td>2022-11-08 13:41:00.000</td><td>0</td></tr>",
                            "<tr><td>2022-11-08 13:42:00.000</td><td>0</td></tr>",
                            "<tr><td>2022-11-08 13:43:00.000</td><td>0</td></tr>",
                            "<tr><td>2022-11-08 13:44:00.000</td><td>0</td></tr>",
                            "<tr><td>2022-11-08 13:45:00.000</td><td>94</td></tr>",
                            "<tr><td>2022-11-08 13:46:00.000</td><td>0</td></tr>",
                            "<tr><td>2022-11-08 13:47:00.000</td><td>0</td></tr>",
                            "<tr><td>2022-11-08 13:48:00.000</td><td>0</td></tr>",
                            "<tr><td>2022-11-08 13:49:00.000</td><td>0</td></tr>",
                            "<tr><td>2022-11-08 13:50:00.000</td><td>0</td></tr>",
                            "<tr><td>2022-11-08 13:51:00.000</td><td>0</td></tr>",
                            "<tr><td>2022-11-08 13:52:00.000</td><td>0</td></tr>",
                            "<tr><td>2022-11-08 13:53:00.000</td><td>0</td></tr>",
                            "<tr><td>2022-11-08 13:54:00.000</td><td>0</td></tr>",
                            "<tr><td>2022-11-08 13:55:00.000</td><td>0</td></tr>",
                            "<tr><td>2022-11-08 13:56:00.000</td><td>0</td></tr>",
                            "<tr><td>2022-11-08 13:57:00.000</td><td>0</td></tr>",
                            "<tr><td>2022-11-08 13:58:00.000</td><td>47</td></tr>",
                            "<tr><td>2022-11-08 13:59:00.000</td><td>0</td></tr>",
                            "<tr><td>2022-11-08 14:00:00.000</td><td>0</td></tr>",
                            "<tr><td>2022-11-08 14:01:00.000</td><td>0</td></tr>",
                            "<tr><td>2022-11-08 14:02:00.000</td><td>0</td></tr>",
                            "<tr><td>2022-11-08 14:03:00.000</td><td>0</td></tr>",
                            "<tr><td>2022-11-08 14:04:00.000</td><td>0</td></tr>",
                            "<tr><td>2022-11-08 14:05:00.000</td><td>0</td></tr>",
                            "<tr><td>2022-11-08 14:06:00.000</td><td>0</td></tr>",
                            "<tr><td>2022-11-08 14:07:00.000</td><td>0</td></tr>",
                            "<tr><td>2022-11-08 14:08:00.000</td><td>0</td></tr>",
                            "<tr><td>2022-11-08 14:09:00.000</td><td>0</td></tr>",
                            "<tr><td>2022-11-08 14:10:00.000</td><td>0</td></tr>",
                            "<tr><td>2022-11-08 14:11:00.000</td><td>0</td></tr>",
                            "<tr><td>2022-11-08 14:12:00.000</td><td>0</td></tr>",
                            "<tr><td>2022-11-08 14:13:00.000</td><td>0</td></tr>",
                            "<tr><td>2022-11-08 14:14:00.000</td><td>0</td></tr>",
                            "<tr><td>2022-11-08 14:15:00.000</td><td>0</td></tr>",
                            "<tr><td>2022-11-08 14:16:00.000</td><td>0</td></tr>",
                            "<tr><td>2022-11-08 14:17:00.000</td><td>0</td></tr>",
                            "<tr><td>2022-11-08 14:18:00.000</td><td>108</td></tr>",
                            "<tr><td>2022-11-08 14:19:00.000</td><td>0</td></tr>",
                            "<tr><td>2022-11-08 14:20:00.000</td><td>66</td></tr>",
                            "<tr><td>2022-11-08 14:21:00.000</td><td>0</td></tr>",
                            "<tr><td>2022-11-08 14:22:00.000</td><td>0</td></tr>",
                            "<tr><td>2022-11-08 14:23:00.000</td><td>0</td></tr>",
                            "<tr><td>2022-11-08 14:24:00.000</td><td>0</td></tr>",
                            "<tr><td>2022-11-08 14:25:00.000</td><td>0</td></tr>",
                            "<tr><td>2022-11-08 14:26:00.000</td><td>0</td></tr>",
                            "<tr><td>2022-11-08 14:27:00.000</td><td>0</td></tr>",
                            "<tr><td>2022-11-08 14:28:00.000</td><td>0</td></tr>",
                            "<tr><td>2022-11-08 14:29:00.000</td><td>0</td></tr>",
                            "<tr><td>2022-11-08 14:30:00.000</td><td>0</td></tr>",
                            "<tr><td>2022-11-08 14:31:00.000</td><td>124</td></tr>",
                            "<tr><td>2022-11-08 14:32:00.000</td><td>22</td></tr>",
                            "<tr><td>2022-11-08 14:33:00.000</td><td>0</td></tr>",
                            "<tr><td>2022-11-08 14:34:00.000</td><td>0</td></tr>",
                            "<tr><td>2022-11-08 14:35:00.000</td><td>0</td></tr>",
                            "<tr><td>2022-11-08 14:36:00.000</td><td>0</td></tr>",
                            "<tr><td>2022-11-08 14:37:00.000</td><td>0</td></tr>",
                            "<tr><td>2022-11-08 14:38:00.000</td><td>0</td></tr>",
                            "<tr><td>2022-11-08 14:39:00.000</td><td>0</td></tr>",
                            "<tr><td>2022-11-08 14:40:00.000</td><td>0</td></tr>",
                            "<tr><td>2022-11-08 14:41:00.000</td><td>0</td></tr>",
                            "<tr><td>2022-11-08 14:42:00.000</td><td>0</td></tr>",
                            "<tr><td>2022-11-08 14:43:00.000</td><td>40</td></tr>",
                            "<tr><td>2022-11-08 14:44:00.000</td><td>63</td></tr>",
                            "<tr><td>2022-11-08 14:45:00.000</td><td>0</td></tr>",
                            "<tr><td>2022-11-08 14:46:00.000</td><td>0</td></tr>",
                            "<tr><td>2022-11-08 14:47:00.000</td><td>0</td></tr>",
                            "<tr><td>2022-11-08 14:48:00.000</td><td>0</td></tr>",
                            "<tr><td>2022-11-08 14:49:00.000</td><td>0</td></tr>",
                            "<tr><td>2022-11-08 14:50:00.000</td><td>0</td></tr>",
                            "<tr><td>2022-11-08 14:51:00.000</td><td>0</td></tr>",
                            "<tr><td>2022-11-08 14:52:00.000</td><td>0</td></tr>",
                            "<tr><td>2022-11-08 14:53:00.000</td><td>0</td></tr>",
                            "<tr><td>2022-11-08 14:54:00.000</td><td>0</td></tr>",
                            "<tr><td>2022-11-08 14:55:00.000</td><td>0</td></tr>",
                            "<tr><td>2022-11-08 14:56:00.000</td><td>44</td></tr>",
                            "<tr><td>2022-11-08 14:57:00.000</td><td>0</td></tr>",
                            "<tr><td>2022-11-08 14:58:00.000</td><td>0</td></tr>",
                            "<tr><td>2022-11-08 14:59:00.000</td><td>0</td></tr>",
                            "<tr><td>2022-11-08 15:00:00.000</td><td>0</td></tr>",
                            "<tr><td>2022-11-08 15:01:00.000</td><td>0</td></tr>",
                            "<tr><td>2022-11-08 15:02:00.000</td><td>0</td></tr>",
                            "<tr><td>2022-11-08 15:03:00.000</td><td>0</td></tr>",
                            "<tr><td>2022-11-08 15:04:00.000</td><td>0</td></tr>",
                            "<tr><td>2022-11-08 15:05:00.000</td><td>0</td></tr>",
                            "<tr><td>2022-11-08 15:06:00.000</td><td>123</td></tr>",
                            "<tr><td>2022-11-08 15:07:00.000</td><td>35</td></tr>",
                            "<tr><td>2022-11-08 15:08:00.000</td><td>0</td></tr>",
                            "<tr><td>2022-11-08 15:09:00.000</td><td>0</td></tr>",
                            "<tr><td>2022-11-08 15:10:00.000</td><td>0</td></tr>",
                            "<tr><td>2022-11-08 15:11:00.000</td><td>0</td></tr>",
                            "<tr><td>2022-11-08 15:12:00.000</td><td>0</td></tr>",
                            "<tr><td>2022-11-08 15:13:00.000</td><td>0</td></tr>",
                            "<tr><td>2022-11-08 15:14:00.000</td><td>0</td></tr>",
                            "<tr><td>2022-11-08 15:15:00.000</td><td>0</td></tr>",
                            "<tr><td>2022-11-08 15:16:00.000</td><td>0</td></tr>",
                            "<tr><td>2022-11-08 15:17:00.000</td><td>0</td></tr>",
                            "<tr><td>2022-11-08 15:18:00.000</td><td>11</td></tr>",
                            "<tr><td>2022-11-08 15:19:00.000</td><td>63</td></tr>",
                            "<tr><td>2022-11-08 15:20:00.000</td><td>0</td></tr>",
                            "<tr><td>2022-11-08 15:21:00.000</td><td>0</td></tr>",
                            "<tr><td>2022-11-08 15:22:00.000</td><td>0</td></tr>",
                            "<tr><td>2022-11-08 15:23:00.000</td><td>0</td></tr>",
                            "<tr><td>2022-11-08 15:24:00.000</td><td>0</td></tr>",
                            "<tr><td>2022-11-08 15:25:00.000</td><td>0</td></tr>",
                            "<tr><td>2022-11-08 15:26:00.000</td><td>0</td></tr>",
                            "<tr><td>2022-11-08 15:27:00.000</td><td>0</td></tr>",
                            "<tr><td>2022-11-08 15:28:00.000</td><td>0</td></tr>",
                            "<tr><td>2022-11-08 15:29:00.000</td><td>0</td></tr>",
                            "<tr><td>2022-11-08 15:30:00.000</td><td>106</td></tr>",
                            "<tr><td>2022-11-08 15:31:00.000</td><td>78</td></tr>",
                            "<tr><td>2022-11-08 15:32:00.000</td><td>0</td></tr>",
                            "<tr><td>2022-11-08 15:33:00.000</td><td>0</td></tr>",
                            "<tr><td>2022-11-08 15:34:00.000</td><td>0</td></tr>",
                            "<tr><td>2022-11-08 15:35:00.000</td><td>0</td></tr>",
                            "<tr><td>2022-11-08 15:36:00.000</td><td>0</td></tr>",
                            "<tr><td>2022-11-08 15:37:00.000</td><td>1</td></tr>",
                            "<tr><td>2022-11-08 15:38:00.000</td><td>0</td></tr>",
                            "<tr><td>2022-11-08 15:39:00.000</td><td>0</td></tr>",
                            "<tr><td>2022-11-08 15:40:00.000</td><td>0</td></tr>",
                            "<tr><td>2022-11-08 15:41:00.000</td><td>0</td></tr>",
                            "<tr><td>2022-11-08 15:42:00.000</td><td>0</td></tr>",
                            "<tr><td>2022-11-08 15:43:00.000</td><td>54</td></tr>",
                            "<tr><td>2022-11-08 15:44:00.000</td><td>0</td></tr>",
                            "<tr><td>2022-11-08 15:45:00.000</td><td>0</td></tr>",
                            "<tr><td>2022-11-08 15:46:00.000</td><td>0</td></tr>",
                            "<tr><td>2022-11-08 15:47:00.000</td><td>0</td></tr>",
                            "<tr><td>2022-11-08 15:48:00.000</td><td>0</td></tr>",
                            "<tr><td>2022-11-08 15:49:00.000</td><td>0</td></tr>",
                            "<tr><td>2022-11-08 15:50:00.000</td><td>0</td></tr>",
                            "<tr><td>2022-11-08 15:51:00.000</td><td>0</td></tr>",
                            "<tr><td>2022-11-08 15:52:12.000</td><td>0</td></tr>",
                            "<tr><td>2022-11-08 15:53:00.000</td><td>0</td></tr>",
                            "<tr><td>2022-11-08 15:54:20.000</td><td>0</td></tr>",
                            "<tr><td>2022-11-08 15:55:00.000</td><td>66</td></tr>",
                            "<tr><td>2022-11-08 15:56:00.000</td><td>0</td></tr>",
                            "<tr><td>2022-11-08 15:57:00.000</td><td>0</td></tr>",
                            "<tr><td>2022-11-08 15:58:00.000</td><td>0</td></tr>",
                            "<tr><td>2022-11-08 15:59:00.000</td><td>0</td></tr>",
                            "<tr><td>2022-11-08 16:00:00.000</td><td>0</td></tr>",
                            "<tr><td>2022-11-08 16:01:00.000</td><td>0</td></tr>",
                            "<tr><td>2022-11-08 16:02:00.000</td><td>0</td></tr>",
                            "<tr><td>2022-11-08 16:03:00.000</td><td>0</td></tr>",
                            "<tr><td>2022-11-08 16:04:00.000</td><td>0</td></tr>",
                            "<tr><td>2022-11-08 16:05:00.000</td><td>66</td></tr>",
                            "<tr><td>2022-11-08 16:06:00.000</td><td>55</td></tr>",
                            "<tr><td>2022-11-08 16:07:00.000</td><td>0</td></tr>",
                            "<tr><td>2022-11-08 16:08:00.000</td><td>0</td></tr>",
                            "<tr><td>2022-11-08 16:09:00.000</td><td>0</td></tr>",
                            "<tr><td>2022-11-08 16:10:00.000</td><td>0</td></tr>",
                            "<tr><td>2022-11-08 16:11:00.000</td><td>0</td></tr>",
                            "<tr><td>2022-11-08 16:12:00.000</td><td>0</td></tr>",
                            "<tr><td>2022-11-08 16:13:00.000</td><td>0</td></tr>",
                            "<tr><td>2022-11-08 16:14:00.000</td><td>0</td></tr>",
                            "<tr><td>2022-11-08 16:15:00.000</td><td>1</td></tr>",
                            "<tr><td>2022-11-08 16:16:00.000</td><td>0</td></tr>",
                            "<tr><td>2022-11-08 16:17:00.000</td><td>0</td></tr>",
                            "<tr><td>2022-11-08 16:18:00.000</td><td>97</td></tr>",
                            "<tr><td>2022-11-08 16:19:00.000</td><td>15</td></tr>",
                            "<tr><td>2022-11-08 16:20:00.000</td><td>0</td></tr>",
                            "<tr><td>2022-11-08 16:21:00.000</td><td>0</td></tr>",
                            "<tr><td>2022-11-08 16:22:00.000</td><td>0</td></tr>",
                            "<tr><td>2022-11-08 16:23:00.000</td><td>0</td></tr>",
                            "<tr><td>2022-11-08 16:24:00.000</td><td>0</td></tr>",
                            "<tr><td>2022-11-08 16:25:00.000</td><td>1</td></tr>",
                            "<tr><td>2022-11-08 16:26:00.000</td><td>0</td></tr>",
                            "<tr><td>2022-11-08 16:27:00.000</td><td>0</td></tr>",
                            "<tr><td>2022-11-08 16:28:00.000</td><td>0</td></tr>",
                            "<tr><td>2022-11-08 16:29:00.000</td><td>0</td></tr>",
                            "<tr><td>2022-11-08 16:30:00.000</td><td>103</td></tr>",
                            "<tr><td>2022-11-08 16:31:00.000</td><td>0</td></tr>",
                            "<tr><td>2022-11-08 16:32:00.000</td><td>0</td></tr>",
                            "<tr><td>2022-11-08 16:33:00.000</td><td>0</td></tr>",
                            "<tr><td>2022-11-08 16:34:00.000</td><td>0</td></tr>",
                            "<tr><td>2022-11-08 16:35:00.000</td><td>0</td></tr>",
                            "<tr><td>2022-11-08 16:36:00.000</td><td>0</td></tr>",
                            "<tr><td>2022-11-08 16:37:00.000</td><td>0</td></tr>",
                            "<tr><td>2022-11-08 16:38:00.000</td><td>0</td></tr>",
                            "<tr><td>2022-11-08 16:39:00.000</td><td>0</td></tr>",
                            "<tr><td>2022-11-08 16:40:00.000</td><td>0</td></tr>",
                            "<tr><td>2022-11-08 16:41:00.000</td><td>0</td></tr>",
                            "<tr><td>2022-11-08 16:42:00.000</td><td>0</td></tr>",
                            "<tr><td>2022-11-08 16:43:00.000</td><td>42</td></tr>",
                            "<tr><td>2022-11-08 16:44:00.000</td><td>0</td></tr>",
                            "<tr><td>2022-11-08 16:45:00.000</td><td>0</td></tr>",
                            "<tr><td>2022-11-08 16:46:00.000</td><td>0</td></tr>",
                            "<tr><td>2022-11-08 16:47:00.000</td><td>0</td></tr>",
                            "<tr><td>2022-11-08 16:48:00.000</td><td>0</td></tr>",
                            "<tr><td>2022-11-08 16:49:00.000</td><td>0</td></tr>",
                            "<tr><td>2022-11-08 16:50:00.000</td><td>0</td></tr>",
                            "<tr><td>2022-11-08 16:51:00.000</td><td>0</td></tr>",
                            "<tr><td>2022-11-08 16:52:00.000</td><td>0</td></tr>",
                            "<tr><td>2022-11-08 16:53:00.000</td><td>0</td></tr>",
                            "<tr><td>2022-11-08 16:54:00.000</td><td>124</td></tr>",
                            "<tr><td>2022-11-08 16:55:00.000</td><td>0</td></tr>",
                            "<tr><td>2022-11-08 16:56:00.000</td><td>0</td></tr>",
                            "<tr><td>2022-11-08 16:57:00.000</td><td>0</td></tr>",
                            "<tr><td>2022-11-08 16:58:00.000</td><td>0</td></tr>",
                            "<tr><td>2022-11-08 16:59:00.000</td><td>0</td></tr>",
                            "<tr><td>2022-11-08 17:00:00.000</td><td>0</td></tr>",
                            "<tr><td>2022-11-08 17:01:00.000</td><td>1</td></tr>",
                            "<tr><td>2022-11-08 17:02:00.000</td><td>0</td></tr>",
                            "<tr><td>2022-11-08 17:03:00.000</td><td>0</td></tr>",
                            "<tr><td>2022-11-08 17:04:00.000</td><td>0</td></tr>",
                            "<tr><td>2022-11-08 17:05:00.000</td><td>94</td></tr>",
                            "<tr><td>2022-11-08 17:06:00.000</td><td>0</td></tr>",
                            "<tr><td>2022-11-08 17:07:00.000</td><td>0</td></tr>",
                            "<tr><td>2022-11-08 17:08:00.000</td><td>0</td></tr>",
                            "<tr><td>2022-11-08 17:09:00.000</td><td>0</td></tr>",
                            "<tr><td>2022-11-08 17:10:00.000</td><td>0</td></tr>",
                            "<tr><td>2022-11-08 17:11:00.000</td><td>0</td></tr>",
                            "<tr><td>2022-11-08 17:12:00.000</td><td>0</td></tr>",
                            "<tr><td>2022-11-08 17:13:00.000</td><td>0</td></tr>",
                            "<tr><td>2022-11-08 17:14:00.000</td><td>0</td></tr>",
                            "<tr><td>2022-11-08 17:15:00.000</td><td>0</td></tr>",
                            "<tr><td>2022-11-08 17:16:00.000</td><td>0</td></tr>",
                            "<tr><td>2022-11-08 17:17:00.000</td><td>64</td></tr>",
                            "<tr><td>2022-11-08 17:18:00.000</td><td>17</td></tr>",
                            "<tr><td>2022-11-08 17:19:00.000</td><td>0</td></tr>",
                            "<tr><td>2022-11-08 17:20:00.000</td><td>0</td></tr>",
                            "<tr><td>2022-11-08 17:21:00.000</td><td>0</td></tr>",
                            "<tr><td>2022-11-08 17:22:00.000</td><td>0</td></tr>",
                            "<tr><td>2022-11-08 17:23:00.000</td><td>0</td></tr>",
                            "<tr><td>2022-11-08 17:24:00.000</td><td>0</td></tr>",
                            "<tr><td>2022-11-08 17:25:00.000</td><td>0</td></tr>",
                            "<tr><td>2022-11-08 17:26:00.000</td><td>0</td></tr>",
                            "<tr><td>2022-11-08 17:27:00.000</td><td>0</td></tr>",
                            "<tr><td>2022-11-08 17:28:00.000</td><td>0</td></tr>",
                            "<tr><td>2022-11-08 17:29:00.000</td><td>0</td></tr>",
                            "<tr><td>2022-11-08 17:30:00.000</td><td>28</td></tr>",
                            "<tr><td>2022-11-08 17:31:00.000</td><td>0</td></tr>",
                            "<tr><td>2022-11-08 17:32:00.000</td><td>0</td></tr>",
                            "<tr><td>2022-11-08 17:33:00.000</td><td>0</td></tr>",
                            "<tr><td>2022-11-08 17:34:00.000</td><td>0</td></tr>",
                            "<tr><td>2022-11-08 17:35:00.000</td><td>0</td></tr>",
                            "<tr><td>2022-11-08 17:36:00.000</td><td>0</td></tr>",
                            "<tr><td>2022-11-08 17:37:00.000</td><td>0</td></tr>",
                            "<tr><td>2022-11-08 17:38:00.000</td><td>0</td></tr>",
                            "<tr><td>2022-11-08 17:39:00.000</td><td>0</td></tr>",
                            "<tr><td>2022-11-08 17:40:00.000</td><td>108</td></tr>",
                            "<tr><td>2022-11-08 17:41:00.000</td><td>96</td></tr>",
                            "<tr><td>2022-11-08 17:42:20.000</td><td>0</td></tr>",
                            "<tr><td>2022-11-08 17:43:00.000</td><td>0</td></tr>",
                            "<tr><td>2022-11-08 17:44:00.000</td><td>0</td></tr>",
                            "<tr><td>2022-11-08 17:45:00.000</td><td>0</td></tr>",
                            "<tr><td>2022-11-08 17:46:00.000</td><td>0</td></tr>",
                            "<tr><td>2022-11-08 17:47:00.000</td><td>0</td></tr>",
                            "<tr><td>2022-11-08 17:48:00.000</td><td>0</td></tr>",
                            "<tr><td>2022-11-08 17:49:00.000</td><td>0</td></tr>",
                            "<tr><td>2022-11-08 17:50:00.000</td><td>0</td></tr>",
                            "<tr><td>2022-11-08 17:51:00.000</td><td>0</td></tr>",
                            "<tr><td>2022-11-08 17:52:00.000</td><td>0</td></tr>",
                            "<tr><td>2022-11-08 17:53:00.000</td><td>0</td></tr>",
                            "<tr><td>2022-11-08 17:54:20.000</td><td>16</td></tr>",
                            "<tr><td>2022-11-08 17:55:00.000</td><td>0</td></tr>",
                            "<tr><td>2022-11-08 17:56:11.000</td><td>0</td></tr>",
                            "<tr><td>2022-11-08 17:57:00.000</td><td>0</td></tr>",
                            "<tr><td>2022-11-08 17:58:00.000</td><td>0</td></tr>",
                            "<tr><td>2022-11-08 17:59:00.000</td><td>1</td></tr>",
                            "<tr><td>2022-11-08 18:00:01.000</td><td>0</td></tr>",
                            "<tr><td>2022-11-08 18:01:01.000</td><td>127</td></tr>",
                            "<tr><td>2022-11-08 18:02:00.000</td><td>96</td></tr>",
                            "<tr><td>2022-11-08 18:03:20.000</td><td>0</td></tr>",
                            "<tr><td>2022-11-08 18:04:00.000</td><td>92</td></tr>",
                            "<tr><td>2022-11-08 18:05:00.000</td><td>0</td></tr>",
                            "<tr><td>2022-11-08 18:06:00.000</td><td>0</td></tr>",
                            "<tr><td>2022-11-08 18:07:00.000</td><td>0</td></tr>",
                            "<tr><td>2022-11-08 18:08:00.000</td><td>0</td></tr>",
                            "<tr><td>2022-11-08 18:09:00.000</td><td>0</td></tr>",
                            "<tr><td>2022-11-08 18:10:00.000</td><td>0</td></tr>",
                            "<tr><td>2022-11-08 18:11:00.000</td><td>0</td></tr>",
                            "<tr><td>2022-11-08 18:12:00.000</td><td>0</td></tr>",
                            "<tr><td>2022-11-08 18:13:00.000</td><td>0</td></tr>",
                            "<tr><td>2022-11-08 18:14:00.000</td><td>85</td></tr>",
                            "<tr><td>2022-11-08 18:15:00.000</td><td>109</td></tr>",
                            "<tr><td>2022-11-08 18:16:00.000</td><td>0</td></tr>",
                            "<tr><td>2022-11-08 18:17:00.000</td><td>0</td></tr>",
                            "<tr><td>2022-11-08 18:18:00.000</td><td>0</td></tr>",
                            "<tr><td>2022-11-08 18:19:00.000</td><td>0</td></tr>",
                            "<tr><td>2022-11-08 18:20:00.000</td><td>0</td></tr>",
                            "<tr><td>2022-11-08 18:21:00.000</td><td>0</td></tr>",
                            "<tr><td>2022-11-08 18:22:00.000</td><td>1</td></tr>",
                            "<tr><td>2022-11-08 18:23:00.000</td><td>0</td></tr>",
                            "<tr><td>2022-11-08 18:24:00.000</td><td>0</td></tr>",
                            "<tr><td>2022-11-08 18:25:00.000</td><td>0</td></tr>",
                            "<tr><td>2022-11-08 18:26:00.000</td><td>0</td></tr>",
                            "<tr><td>2022-11-08 18:27:00.000</td><td>92</td></tr>",
                            "<tr><td>2022-11-08 18:28:00.000</td><td>0</td></tr>",
                            "<tr><td>2022-11-08 18:29:00.000</td><td>0</td></tr>",
                            "<tr><td>2022-11-08 18:30:00.000</td><td>0</td></tr>",
                            "<tr><td>2022-11-08 18:31:00.000</td><td>0</td></tr>",
                            "<tr><td>2022-11-08 18:32:00.000</td><td>0</td></tr>",
                            "<tr><td>2022-11-08 18:33:00.000</td><td>0</td></tr>",
                            "<tr><td>2022-11-08 18:34:00.000</td><td>0</td></tr>",
                            "<tr><td>2022-11-08 18:35:00.000</td><td>0</td></tr>",
                            "<tr><td>2022-11-08 18:36:00.000</td><td>0</td></tr>",
                            "<tr><td>2022-11-08 18:37:00.000</td><td>1</td></tr>",
                            "<tr><td>2022-11-08 18:38:00.000</td><td>124</td></tr>",
                            "<tr><td>2022-11-08 18:39:00.000</td><td>53</td></tr>",
                            "<tr><td>2022-11-08 18:40:00.000</td><td>0</td></tr>",
                            "<tr><td>2022-11-08 18:41:00.000</td><td>0</td></tr>",
                            "<tr><td>2022-11-08 18:42:00.000</td><td>0</td></tr>",
                            "<tr><td>2022-11-08 18:43:00.000</td><td>0</td></tr>",
                            "<tr><td>2022-11-08 18:44:00.000</td><td>0</td></tr>",
                            "<tr><td>2022-11-08 18:45:00.000</td><td>0</td></tr>",
                            "<tr><td>2022-11-08 18:46:00.000</td><td>0</td></tr>",
                            "<tr><td>2022-11-08 18:47:00.000</td><td>0</td></tr>",
                            "<tr><td>2022-11-08 18:48:00.000</td><td>0</td></tr>",
                            "<tr><td>2022-11-08 18:49:00.000</td><td>0</td></tr>",
                            "<tr><td>2022-11-08 18:50:00.000</td><td>110</td></tr>",
                            "<tr><td>2022-11-08 18:51:00.000</td><td>29</td></tr>",
                            "<tr><td>2022-11-08 18:52:00.000</td><td>0</td></tr>",
                            "<tr><td>2022-11-08 18:53:00.000</td><td>0</td></tr>",
                            "<tr><td>2022-11-08 18:54:00.000</td><td>0</td></tr>",
                            "<tr><td>2022-11-08 18:55:00.000</td><td>0</td></tr>",
                            "<tr><td>2022-11-08 18:56:00.000</td><td>0</td></tr>",
                            "<tr><td>2022-11-08 18:57:00.000</td><td>0</td></tr>",
                            "<tr><td>2022-11-08 18:58:00.000</td><td>0</td></tr>",
                            "<tr><td>2022-11-08 18:59:00.000</td><td>0</td></tr>",
                            "<tr><td>2022-11-08 19:00:00.000</td><td>0</td></tr>",
                            "<tr><td>2022-11-08 19:01:00.000</td><td>121</td></tr>",
                            "<tr><td>2022-11-08 19:02:00.000</td><td>90</td></tr>",
                            "<tr><td>2022-11-08 19:03:00.000</td><td>0</td></tr>",
                            "<tr><td>2022-11-08 19:04:00.000</td><td>0</td></tr>",
                            "<tr><td>2022-11-08 19:05:00.000</td><td>0</td></tr>",
                            "<tr><td>2022-11-08 19:06:00.000</td><td>0</td></tr>",
                            "<tr><td>2022-11-08 19:07:00.000</td><td>0</td></tr>",
                            "<tr><td>2022-11-08 19:08:00.000</td><td>0</td></tr>",
                            "<tr><td>2022-11-08 19:09:00.000</td><td>0</td></tr>",
                            "<tr><td>2022-11-08 19:10:00.000</td><td>0</td></tr>",
                            "<tr><td>2022-11-08 19:11:00.000</td><td>0</td></tr>",
                            "<tr><td>2022-11-08 19:12:00.000</td><td>0</td></tr>",
                            "<tr><td>2022-11-08 19:13:00.000</td><td>67</td></tr>",
                            "<tr><td>2022-11-08 19:14:00.000</td><td>0</td></tr>",
                            "<tr><td>2022-11-08 19:15:00.000</td><td>0</td></tr>",
                            "<tr><td>2022-11-08 19:16:00.000</td><td>0</td></tr>",
                            "<tr><td>2022-11-08 19:17:00.000</td><td>0</td></tr>",
                            "<tr><td>2022-11-08 19:18:00.000</td><td>0</td></tr>",
                            "<tr><td>2022-11-08 19:19:00.000</td><td>0</td></tr>",
                            "<tr><td>2022-11-08 19:20:00.000</td><td>0</td></tr>",
                            "<tr><td>2022-11-08 19:21:00.000</td><td>0</td></tr>",
                            "<tr><td>2022-11-08 19:22:00.000</td><td>0</td></tr>",
                            "<tr><td>2022-11-08 19:23:00.000</td><td>0</td></tr>",
                            "<tr><td>2022-11-08 19:24:00.000</td><td>0</td></tr>",
                            "<tr><td>2022-11-08 19:25:00.000</td><td>83</td></tr>",
                            "<tr><td>2022-11-08 19:26:00.000</td><td>0</td></tr>",
                            "<tr><td>2022-11-08 19:27:00.000</td><td>0</td></tr>",
                            "<tr><td>2022-11-08 19:28:00.000</td><td>0</td></tr>",
                            "<tr><td>2022-11-08 19:29:00.000</td><td>0</td></tr>",
                            "<tr><td>2022-11-08 19:30:00.000</td><td>0</td></tr>",
                            "<tr><td>2022-11-08 19:31:00.000</td><td>0</td></tr>",
                            "<tr><td>2022-11-08 19:32:00.000</td><td>0</td></tr>",
                            "<tr><td>2022-11-08 19:33:00.000</td><td>0</td></tr>",
                            "<tr><td>2022-11-08 19:34:00.000</td><td>0</td></tr>",
                            "<tr><td>2022-11-08 19:35:00.000</td><td>0</td></tr>",
                            "<tr><td>2022-11-08 19:36:00.000</td><td>0</td></tr>",
                            "<tr><td>2022-11-08 19:37:00.000</td><td>124</td></tr>",
                            "<tr><td>2022-11-08 19:38:00.000</td><td>0</td></tr>",
                            "<tr><td>2022-11-08 19:39:00.000</td><td>0</td></tr>",
                            "<tr><td>2022-11-08 19:40:00.000</td><td>0</td></tr>",
                            "<tr><td>2022-11-08 19:41:00.000</td><td>0</td></tr>",
                            "<tr><td>2022-11-08 19:42:00.000</td><td>0</td></tr>",
                            "<tr><td>2022-11-08 19:43:00.000</td><td>0</td></tr>",
                            "<tr><td>2022-11-08 19:44:00.000</td><td>0</td></tr>",
                            "<tr><td>2022-11-08 19:45:00.000</td><td>0</td></tr>",
                            "<tr><td>2022-11-08 19:46:00.000</td><td>0</td></tr>",
                            "<tr><td>2022-11-08 19:47:00.000</td><td>0</td></tr>",
                            "<tr><td>2022-11-08 19:48:00.000</td><td>0</td></tr>",
                            "<tr><td>2022-11-08 19:49:00.000</td><td>36</td></tr>",
                            "<tr><td>2022-11-08 19:50:00.000</td><td>0</td></tr>",
                            "<tr><td>2022-11-08 19:51:00.000</td><td>0</td></tr>",
                            "<tr><td>2022-11-08 19:52:00.000</td><td>0</td></tr>",
                            "<tr><td>2022-11-08 19:53:00.000</td><td>0</td></tr>",
                            "<tr><td>2022-11-08 19:54:00.000</td><td>0</td></tr>",
                            "<tr><td>2022-11-08 19:55:00.000</td><td>0</td></tr>",
                            "<tr><td>2022-11-08 19:56:00.000</td><td>0</td></tr>",
                            "<tr><td>2022-11-08 19:57:00.000</td><td>0</td></tr>",
                            "<tr><td>2022-11-08 19:58:00.000</td><td>0</td></tr>",
                            "<tr><td>2022-11-08 19:59:00.000</td><td>0</td></tr>",
                            "<tr><td>2022-11-08 20:00:00.000</td><td>90</td></tr>",
                            "</table>"
                        ]
                    }
                }
            ],
            "execution_count": 48
        },
        {
            "cell_type": "markdown",
            "source": [
                "With this second query you can get a proportion of waits within our database. You can see in this situation we mostly wait for CPU, T-Log, and reading from disk."
            ],
            "metadata": {
                "azdata_cell_guid": "878202ff-07ee-46ce-b76e-09c9362da395"
            },
            "attachments": {}
        },
        {
            "cell_type": "code",
            "source": [
                "select wait_type, wait_time_ms from SqlWaitStats WHERE reading_time in (SELECT MAX(reading_time) from SqlWaitStats) "
            ],
            "metadata": {
                "azdata_cell_guid": "55cea0cc-f10e-4d24-9934-dd385e9807e9",
                "language": "sql"
            },
            "outputs": [
                {
                    "output_type": "display_data",
                    "data": {
                        "text/html": "Statement ID: {C1A1AE0A-571E-4822-83A7-3982664CD3ED} | Query hash: 0x616C46EB9CDF4DF6 | Distributed request ID: {B247B628-1947-4786-AD6F-0524C2FDD5E2}. Total size of data scanned is 3 megabytes, total size of data moved is 1 megabytes, total size of data written is 0 megabytes."
                    },
                    "metadata": {}
                },
                {
                    "output_type": "display_data",
                    "data": {
                        "text/html": "(14 rows affected)"
                    },
                    "metadata": {}
                },
                {
                    "output_type": "display_data",
                    "data": {
                        "text/html": "Total execution time: 00:00:16.811"
                    },
                    "metadata": {}
                },
                {
                    "output_type": "execute_result",
                    "metadata": {
                        "azdata_chartOptions": {
                            "type": "pie",
                            "dataDirection": "vertical",
                            "columnsAsLabels": true,
                            "labelFirstColumn": false,
                            "legendPosition": "top"
                        }
                    },
                    "execution_count": 49,
                    "data": {
                        "application/vnd.dataresource+json": {
                            "schema": {
                                "fields": [
                                    {
                                        "name": "wait_type"
                                    },
                                    {
                                        "name": "wait_time_ms"
                                    }
                                ]
                            },
                            "data": [
                                {
                                    "0": "SOS_SCHEDULER_YIELD",
                                    "1": "23719"
                                },
                                {
                                    "0": "WRITELOG",
                                    "1": "17663"
                                },
                                {
                                    "0": "PAGEIOLATCH_SH",
                                    "1": "11385"
                                },
                                {
                                    "0": "MEMORY_ALLOCATION_EXT",
                                    "1": "726"
                                },
                                {
                                    "0": "PREEMPTIVE_XHTTP",
                                    "1": "711"
                                },
                                {
                                    "0": "PAGEIOLATCH_EX",
                                    "1": "124"
                                },
                                {
                                    "0": "WAIT_ON_SYNC_STATISTICS_REFRESH",
                                    "1": "122"
                                },
                                {
                                    "0": "PREEMPTIVE_OS_CRYPTOPS",
                                    "1": "63"
                                },
                                {
                                    "0": "ASYNC_NETWORK_IO",
                                    "1": "55"
                                },
                                {
                                    "0": "RESERVED_MEMORY_ALLOCATION_EXT",
                                    "1": "50"
                                },
                                {
                                    "0": "PREEMPTIVE_OS_CRYPTACQUIRECONTEXT",
                                    "1": "39"
                                },
                                {
                                    "0": "PREEMPTIVE_HTTP_REQUEST",
                                    "1": "36"
                                },
                                {
                                    "0": "PREEMPTIVE_OLEDBOPS",
                                    "1": "17"
                                },
                                {
                                    "0": "CLR_MANUAL_EVENT",
                                    "1": "0"
                                }
                            ]
                        },
                        "text/html": [
                            "<table>",
                            "<tr><th>wait_type</th><th>wait_time_ms</th></tr>",
                            "<tr><td>SOS_SCHEDULER_YIELD</td><td>23719</td></tr>",
                            "<tr><td>WRITELOG</td><td>17663</td></tr>",
                            "<tr><td>PAGEIOLATCH_SH</td><td>11385</td></tr>",
                            "<tr><td>MEMORY_ALLOCATION_EXT</td><td>726</td></tr>",
                            "<tr><td>PREEMPTIVE_XHTTP</td><td>711</td></tr>",
                            "<tr><td>PAGEIOLATCH_EX</td><td>124</td></tr>",
                            "<tr><td>WAIT_ON_SYNC_STATISTICS_REFRESH</td><td>122</td></tr>",
                            "<tr><td>PREEMPTIVE_OS_CRYPTOPS</td><td>63</td></tr>",
                            "<tr><td>ASYNC_NETWORK_IO</td><td>55</td></tr>",
                            "<tr><td>RESERVED_MEMORY_ALLOCATION_EXT</td><td>50</td></tr>",
                            "<tr><td>PREEMPTIVE_OS_CRYPTACQUIRECONTEXT</td><td>39</td></tr>",
                            "<tr><td>PREEMPTIVE_HTTP_REQUEST</td><td>36</td></tr>",
                            "<tr><td>PREEMPTIVE_OLEDBOPS</td><td>17</td></tr>",
                            "<tr><td>CLR_MANUAL_EVENT</td><td>0</td></tr>",
                            "</table>"
                        ]
                    }
                }
            ],
            "execution_count": 49
        }
    ]
}