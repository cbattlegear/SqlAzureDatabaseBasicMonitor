{
    "metadata": {
        "kernelspec": {
            "name": "SQL",
            "display_name": "SQL",
            "language": "sql"
        },
        "language_info": {
            "name": "sql",
            "version": ""
        }
    },
    "nbformat_minor": 2,
    "nbformat": 4,
    "cells": [
        {
            "cell_type": "markdown",
            "source": [
                "# SQL Azure Database Basic Monitor - Serverless Aggregation Queries\r\n",
                "\r\n",
                "Basic monitoring queries to get information about your SQL Azure Database performance.\r\n",
                "\r\n",
                "## Prerequisites\r\n",
                "\r\n",
                "1. An Azure Synapse Workspace with a Synapse SQL Serverless Pool\r\n",
                "2. Permission provided to the Serverless Pool Managed Identity to access the storage account\r\n",
                "3. Data feeding into the storage account"
            ],
            "metadata": {
                "azdata_cell_guid": "568ad8d7-39f0-4c37-882b-22bdb192f1f2"
            },
            "attachments": {}
        },
        {
            "cell_type": "markdown",
            "source": [
                "## Initial Setup\r\n",
                "These scripts are run to set up your initial views/access to the CSV files. These assume you have the proper permissions set up from your serverless pool to access your blob storage account."
            ],
            "metadata": {
                "azdata_cell_guid": "037b279f-f3bb-417c-93ef-abcc122d73ed"
            },
            "attachments": {}
        },
        {
            "cell_type": "markdown",
            "source": [
                "### Credentials\r\n",
                "These are the credentials and data source to access the CSV files, make sure to change the location to your storage account and container.\r\n",
                "Comment these lines out if you have already created your sql credentials to access the data."
            ],
            "metadata": {
                "azdata_cell_guid": "0fb8faef-1f59-44fc-b0dc-0b61e1468b70"
            },
            "attachments": {}
        },
        {
            "cell_type": "code",
            "source": [
                "CREATE MASTER KEY;\r\n",
                "\r\n",
                "CREATE DATABASE SCOPED CREDENTIAL SynapseId\r\n",
                "WITH IDENTITY = 'Managed Identity';\r\n",
                "\r\n",
                "CREATE EXTERNAL DATA SOURCE SqlLogging\r\n",
                "WITH (    LOCATION   = 'https://[youraccount].blob.core.windows.net/[yourcontainer]/',\r\n",
                "          CREDENTIAL = SynapseId\r\n",
                ");"
            ],
            "metadata": {
                "azdata_cell_guid": "c813ff91-708e-442c-91af-c31e7bcbe0cb",
                "language": "sql",
                "tags": []
            },
            "outputs": [],
            "execution_count": null
        },
        {
            "cell_type": "markdown",
            "source": [
                "### Performance View\r\n",
                "This view will give you access to the Sql Performance Data retained from `sys.dm_db_resource_stats`\r\n",
                "\r\n",
                "Make sure to edit the FIELDTERMINATOR to what you used as your LOG_FILE_CSV_SEPARATOR in your function settings."
            ],
            "metadata": {
                "azdata_cell_guid": "d45d987f-124c-4fe6-932e-6a6f8e2ea1ca"
            },
            "attachments": {}
        },
        {
            "cell_type": "code",
            "source": [
                "CREATE OR ALTER VIEW SqlAzurePerformance\r\n",
                "AS\r\n",
                "SELECT CAST(end_time as DATETIME) as end_time, [avg_cpu_percent], [avg_data_io_percent], [avg_log_write_percent], [avg_memory_usage_percent], [xtp_storage_percent], [max_worker_percent], [max_session_percent], [dtu_limit], [avg_login_rate_percent], [avg_instance_cpu_percent], [avg_instance_memory_percent], [cpu_limit], [replica_role], CAST(perf.filepath(1) as DATE) as [file_date] FROM\r\n",
                "    OPENROWSET(\r\n",
                "        BULK 'performance-*.csv',\r\n",
                "        FORMAT = 'CSV', \r\n",
                "        PARSER_VERSION = '2.0',\r\n",
                "        FIELDTERMINATOR ='|',\r\n",
                "        DATA_SOURCE = 'SqlLogging',\r\n",
                "        ROWSET_OPTIONS = '{\"READ_OPTIONS\":[\"ALLOW_INCONSISTENT_READS\"]}'\r\n",
                "    )\r\n",
                "    WITH (\r\n",
                "        [end_time] VARCHAR(25) COLLATE Latin1_General_100_BIN2_UTF8,\r\n",
                "        [avg_cpu_percent] DECIMAL(8,2),\r\n",
                "        [avg_data_io_percent] DECIMAL(8,2),\r\n",
                "        [avg_log_write_percent] DECIMAL(8,2),\r\n",
                "        [avg_memory_usage_percent] DECIMAL(8,2),\r\n",
                "        [xtp_storage_percent] DECIMAL(8,2),\r\n",
                "        [max_worker_percent] DECIMAL(8,2),\r\n",
                "        [max_session_percent] DECIMAL(8,2),\r\n",
                "        [dtu_limit] INT,\r\n",
                "        [avg_login_rate_percent] DECIMAL(8,2),\r\n",
                "        [avg_instance_cpu_percent] DECIMAL(8,2),\r\n",
                "        [avg_instance_memory_percent] DECIMAL(8,2),\r\n",
                "        [cpu_limit] INT,\r\n",
                "        [replica_role] INT\r\n",
                "    ) \r\n",
                "    as [perf]"
            ],
            "metadata": {
                "language": "sql",
                "azdata_cell_guid": "a7091c8e-ce8d-49a6-8403-61298b27e9a8",
                "tags": []
            },
            "outputs": [
                {
                    "output_type": "display_data",
                    "data": {
                        "text/html": "Commands completed successfully."
                    },
                    "metadata": {}
                },
                {
                    "output_type": "display_data",
                    "data": {
                        "text/html": "Total execution time: 00:00:08.019"
                    },
                    "metadata": {}
                }
            ],
            "execution_count": 29
        },
        {
            "cell_type": "markdown",
            "source": [
                "### Errors View\r\n",
                "This view will give you access to the client errors logged by the monitoring function. It currently retains the exception message thrown by the SQL Client.\r\n",
                "\r\n",
                "Make sure to edit the FIELDTERMINATOR to what you used as your LOG_FILE_CSV_SEPARATOR in your function settings."
            ],
            "metadata": {
                "azdata_cell_guid": "3b278e5e-b92e-4f7d-bd4e-508a6cb25db2"
            },
            "attachments": {}
        },
        {
            "cell_type": "code",
            "source": [
                "CREATE OR ALTER VIEW SqlAzureError\r\n",
                "AS\r\n",
                "SELECT CAST(error_timestamp as DATETIME) as error_timestamp, [error_message], CAST(perf.filepath(1) as DATE) as [file_date] FROM\r\n",
                "    OPENROWSET(\r\n",
                "        BULK 'error-*.csv',\r\n",
                "        FORMAT = 'CSV', \r\n",
                "        PARSER_VERSION = '2.0',\r\n",
                "        FIELDTERMINATOR ='|',\r\n",
                "        DATA_SOURCE = 'SqlLogging',\r\n",
                "        ROWSET_OPTIONS = '{\"READ_OPTIONS\":[\"ALLOW_INCONSISTENT_READS\"]}'\r\n",
                "    )\r\n",
                "    WITH (\r\n",
                "        [error_timestamp] VARCHAR(25) COLLATE Latin1_General_100_BIN2_UTF8,\r\n",
                "        [error_message] NVARCHAR(4000)\r\n",
                "    ) \r\n",
                "    as [perf]"
            ],
            "metadata": {
                "azdata_cell_guid": "e4ddd980-6653-48ac-b11d-2d9c7d1dc91a",
                "language": "sql"
            },
            "outputs": [
                {
                    "output_type": "display_data",
                    "data": {
                        "text/html": "Commands completed successfully."
                    },
                    "metadata": {}
                },
                {
                    "output_type": "display_data",
                    "data": {
                        "text/html": "Total execution time: 00:00:08.076"
                    },
                    "metadata": {}
                }
            ],
            "execution_count": 1
        },
        {
            "cell_type": "markdown",
            "source": [
                "### Extended Performance Views\r\n",
                "\r\n",
                "If you enabled the extended performance captures, you can use these views to access your extended performance and wait stat information.\r\n",
                "\r\n",
                "Like above, make sure to edit the FIELDTERMINATOR to what you used as your LOG_FILE_CSV_SEPARATOR in your function settings.\r\n",
                ""
            ],
            "metadata": {
                "azdata_cell_guid": "842ce033-7296-4d3e-aa01-add6eeab6c09"
            },
            "attachments": {}
        },
        {
            "cell_type": "code",
            "source": [
                "CREATE OR ALTER VIEW SqlAzureExtendedPerformance\r\n",
                "AS\r\n",
                "SELECT \r\n",
                "        CAST([reading_time] as DATETIME) as [reading_time],\r\n",
                "        [session_id],\r\n",
                "        [request_id],\r\n",
                "        [ecid],\r\n",
                "        [blocking_session_id],\r\n",
                "        [blocking_ecid],\r\n",
                "        [task_state],\r\n",
                "        [wait_type],\r\n",
                "        [wait_duration_ms],\r\n",
                "        [wait_resource],\r\n",
                "        [resource_description],\r\n",
                "        [last_wait_type],\r\n",
                "        [open_trans],\r\n",
                "        [transaction_isolation_level],\r\n",
                "        [is_user_process],\r\n",
                "        [request_cpu_time],\r\n",
                "        [request_logical_reads],\r\n",
                "        [request_reads],\r\n",
                "        [request_writes],\r\n",
                "        [memory_usage],\r\n",
                "        [session_cpu_time],\r\n",
                "        [session_reads],\r\n",
                "        [session_writes],\r\n",
                "        [session_logical_reads],\r\n",
                "        [total_scheduled_time],\r\n",
                "        [total_elapsed_time],\r\n",
                "        CAST([last_request_start_time] as DATETIME) as [last_request_start_time],\r\n",
                "        CAST([last_request_end_time] as DATETIME) as [last_request_end_time],\r\n",
                "        [session_row_count],\r\n",
                "        [prev_error],\r\n",
                "        [open_resultsets],\r\n",
                "        [request_total_elapsed_time],\r\n",
                "        [percent_complete],\r\n",
                "        [est_completion_time],\r\n",
                "        [tran_name],\r\n",
                "        CAST([transaction_begin_time] as DATETIME) as [transaction_begin_time],\r\n",
                "        [tran_type],\r\n",
                "        [tran_state],\r\n",
                "        CAST([request_start_time] as DATETIME) as [request_start_time],\r\n",
                "        [request_status],\r\n",
                "        [command],\r\n",
                "        CONVERT(varbinary(64), [plan_handle], 1) as [plan_handle],\r\n",
                "\t\tCONVERT(varbinary(64), [sql_handle], 1) as [sql_handle],\r\n",
                "        [statement_start_offset],\r\n",
                "        [statement_end_offset],\r\n",
                "        [database_id],\r\n",
                "        [user_id],\r\n",
                "        [executing_managed_code],\r\n",
                "        [pending_io_count],\r\n",
                "        CAST([login_time] as DATETIME) as [login_time],\r\n",
                "        [host_name],\r\n",
                "        [program_name],\r\n",
                "        [host_process_id],\r\n",
                "        [client_version],\r\n",
                "        [client_interface_name],\r\n",
                "        [login_name],\r\n",
                "        [nt_domain],\r\n",
                "        [nt_user_name],\r\n",
                "        [net_packet_size],\r\n",
                "        [client_net_address],\r\n",
                "        CONVERT(varbinary(64), [most_recent_sql_handle], 1) as [most_recent_sql_handle],\r\n",
                "        [session_status],\r\n",
                "        [scheduler_id],\r\n",
                "        [group_id],\r\n",
                "\t\tCONVERT(varbinary(128), [context_info], 1) as [context_info],\r\n",
                "        CAST(perf.filepath(1) as DATE) as [file_date] FROM\r\n",
                "    OPENROWSET(\r\n",
                "        BULK 'extended-performance-*.csv',\r\n",
                "        FORMAT = 'CSV', \r\n",
                "        PARSER_VERSION = '2.0',\r\n",
                "        FIELDTERMINATOR ='|',\r\n",
                "        DATA_SOURCE = 'SqlLogging',\r\n",
                "        ROWSET_OPTIONS = '{\"READ_OPTIONS\":[\"ALLOW_INCONSISTENT_READS\"]}'\r\n",
                "    )\r\n",
                "    WITH (\r\n",
                "        [reading_time] nvarchar(25) COLLATE Latin1_General_100_BIN2_UTF8,\r\n",
                "        [session_id] [smallint],\r\n",
                "        [request_id] [int],\r\n",
                "        [ecid] [int],\r\n",
                "        [blocking_session_id] [smallint],\r\n",
                "        [blocking_ecid] [int] ,\r\n",
                "        [task_state] nvarchar(15) COLLATE Latin1_General_100_BIN2_UTF8,\r\n",
                "        [wait_type] [nvarchar](60) COLLATE Latin1_General_100_BIN2_UTF8,\r\n",
                "        [wait_duration_ms] [bigint],\r\n",
                "        [wait_resource] [nvarchar](40) COLLATE Latin1_General_100_BIN2_UTF8,\r\n",
                "        [resource_description] [nvarchar](140) COLLATE Latin1_General_100_BIN2_UTF8,\r\n",
                "        [last_wait_type] [nvarchar](50) COLLATE Latin1_General_100_BIN2_UTF8,\r\n",
                "        [open_trans] [int],\r\n",
                "        [transaction_isolation_level] [varchar](30) COLLATE Latin1_General_100_BIN2_UTF8,\r\n",
                "        [is_user_process] [bit],\r\n",
                "        [request_cpu_time] [int],\r\n",
                "        [request_logical_reads] [bigint],\r\n",
                "        [request_reads] [bigint],\r\n",
                "        [request_writes] [bigint],\r\n",
                "        [memory_usage] [int],\r\n",
                "        [session_cpu_time] [int],\r\n",
                "        [session_reads] [bigint],\r\n",
                "        [session_writes] [bigint],\r\n",
                "        [session_logical_reads] [bigint],\r\n",
                "        [total_scheduled_time] [int],\r\n",
                "        [total_elapsed_time] [int],\r\n",
                "        [last_request_start_time] nvarchar(25) COLLATE Latin1_General_100_BIN2_UTF8,\r\n",
                "        [last_request_end_time] nvarchar(25) COLLATE Latin1_General_100_BIN2_UTF8,\r\n",
                "        [session_row_count] [bigint],\r\n",
                "        [prev_error] [int],\r\n",
                "        [open_resultsets] [int],\r\n",
                "        [request_total_elapsed_time] [int],\r\n",
                "        [percent_complete] [decimal](5, 2),\r\n",
                "        [est_completion_time] [bigint],\r\n",
                "        [tran_name] [nvarchar](24),\r\n",
                "        [transaction_begin_time] nvarchar(25) COLLATE Latin1_General_100_BIN2_UTF8,\r\n",
                "        [tran_type] [varchar](15) COLLATE Latin1_General_100_BIN2_UTF8,\r\n",
                "        [tran_state] [varchar](15) COLLATE Latin1_General_100_BIN2_UTF8,\r\n",
                "        [request_start_time] nvarchar(25) COLLATE Latin1_General_100_BIN2_UTF8,\r\n",
                "        [request_status] [nvarchar](15) COLLATE Latin1_General_100_BIN2_UTF8,\r\n",
                "        [command] [nvarchar](16) COLLATE Latin1_General_100_BIN2_UTF8,\r\n",
                "        [plan_handle] [varchar](256) COLLATE Latin1_General_100_BIN2_UTF8,\r\n",
                "        [sql_handle] [varchar](256) COLLATE Latin1_General_100_BIN2_UTF8,\r\n",
                "        [statement_start_offset] [int],\r\n",
                "        [statement_end_offset] [int],\r\n",
                "        [database_id] [smallint],\r\n",
                "        [user_id] [int],\r\n",
                "        [executing_managed_code] [bit],\r\n",
                "        [pending_io_count] [int],\r\n",
                "        [login_time] nvarchar(25) COLLATE Latin1_General_100_BIN2_UTF8,\r\n",
                "        [host_name] [nvarchar](20) COLLATE Latin1_General_100_BIN2_UTF8,\r\n",
                "        [program_name] [nvarchar](50) COLLATE Latin1_General_100_BIN2_UTF8,\r\n",
                "        [host_process_id] [int],\r\n",
                "        [client_version] [int],\r\n",
                "        [client_interface_name] [nvarchar](30) COLLATE Latin1_General_100_BIN2_UTF8,\r\n",
                "        [login_name] [nvarchar](30) COLLATE Latin1_General_100_BIN2_UTF8,\r\n",
                "        [nt_domain] [nvarchar](30) COLLATE Latin1_General_100_BIN2_UTF8,\r\n",
                "        [nt_user_name] [nvarchar](20) COLLATE Latin1_General_100_BIN2_UTF8,\r\n",
                "        [net_packet_size] [int],\r\n",
                "        [client_net_address] [varchar](20) COLLATE Latin1_General_100_BIN2_UTF8,\r\n",
                "        [most_recent_sql_handle] [varchar](256)  COLLATE Latin1_General_100_BIN2_UTF8,\r\n",
                "        [session_status] [nvarchar](15) COLLATE Latin1_General_100_BIN2_UTF8,\r\n",
                "        [scheduler_id] [int],\r\n",
                "        [group_id] [int],\r\n",
                "        [context_info] varchar(512) COLLATE Latin1_General_100_BIN2_UTF8\r\n",
                "    ) \r\n",
                "    as [perf]"
            ],
            "metadata": {
                "language": "sql",
                "azdata_cell_guid": "7f3506e8-4e21-4829-93b1-927a56f02c26",
                "tags": [
                    "hide_input"
                ]
            },
            "outputs": [
                {
                    "output_type": "display_data",
                    "data": {
                        "text/html": "Commands completed successfully."
                    },
                    "metadata": {}
                },
                {
                    "output_type": "display_data",
                    "data": {
                        "text/html": "Total execution time: 00:00:07.623"
                    },
                    "metadata": {}
                }
            ],
            "execution_count": 18
        },
        {
            "cell_type": "code",
            "source": [
                "CREATE OR ALTER VIEW SqlWaitStats\r\n",
                "AS\r\n",
                "SELECT CAST(reading_time as DATETIME) as reading_time, \r\n",
                "\t[wait_type], \r\n",
                "\t[waiting_tasks_count], \r\n",
                "\t[wait_time_ms], \r\n",
                "\t[max_wait_time_ms], \r\n",
                "\t[signal_wait_time_ms], \r\n",
                "\tCAST(perf.filepath(1) as DATE) as [file_date] FROM\r\n",
                "    OPENROWSET(\r\n",
                "        BULK 'wait_stats-*.csv',\r\n",
                "        FORMAT = 'CSV', \r\n",
                "        PARSER_VERSION = '2.0',\r\n",
                "        FIELDTERMINATOR ='|',\r\n",
                "        DATA_SOURCE = 'SqlLogging',\r\n",
                "        ROWSET_OPTIONS = '{\"READ_OPTIONS\":[\"ALLOW_INCONSISTENT_READS\"]}'\r\n",
                "    )\r\n",
                "    WITH (\r\n",
                "        [reading_time] VARCHAR(25) COLLATE Latin1_General_100_BIN2_UTF8,\r\n",
                "        [wait_type] NVARCHAR(45),\r\n",
                "        [waiting_tasks_count] bigint,\r\n",
                "\t\t[wait_time_ms] bigint,\r\n",
                "\t\t[max_wait_time_ms] bigint,\r\n",
                "\t\t[signal_wait_time_ms] bigint\r\n",
                "    ) \r\n",
                "    as [perf]"
            ],
            "metadata": {
                "azdata_cell_guid": "0547ccab-2251-4fc7-8259-3542fbfa4aa9",
                "language": "sql",
                "tags": [
                    "hide_input"
                ]
            },
            "outputs": [],
            "execution_count": null
        },
        {
            "cell_type": "markdown",
            "source": [
                "## Example Queries\r\n",
                "Here are some example queries to start using the performance data. \r\n",
                "\r\n",
                "When writing your own queries, make sure to timebox your data using `file_date` as the predicate as this will use partition elimination to improve your query performance."
            ],
            "metadata": {
                "azdata_cell_guid": "1826a4a1-c0a4-4d9a-a999-c0fa1ed8985f"
            },
            "attachments": {}
        },
        {
            "cell_type": "markdown",
            "source": [
                "### Top 5 instances of CPU Usage over the last week"
            ],
            "metadata": {
                "language": "sql",
                "azdata_cell_guid": "1d3344bb-e4ab-4630-9829-1cf4292834c1"
            },
            "attachments": {}
        },
        {
            "cell_type": "code",
            "source": [
                "SELECT TOP 5 end_time, avg_cpu_percent, avg_data_io_percent, avg_log_write_percent, file_date\r\n",
                "FROM SqlAzurePerformance WHERE file_date > DATEADD(day, -7, CURRENT_TIMESTAMP) ORDER BY avg_cpu_percent DESC"
            ],
            "metadata": {
                "azdata_cell_guid": "483ac89d-25a2-4442-aa40-2889c8579d9d",
                "language": "sql"
            },
            "outputs": [
                {
                    "output_type": "display_data",
                    "data": {
                        "text/html": "Statement ID: {8F495E70-A382-4162-A3F8-972B162F3AB8} | Query hash: 0x5EFBE0F2CC9805DD | Distributed request ID: {07AEC349-1F47-4D97-A07C-5219469200F9}. Total size of data scanned is 3 megabytes, total size of data moved is 1 megabytes, total size of data written is 0 megabytes."
                    },
                    "metadata": {}
                },
                {
                    "output_type": "display_data",
                    "data": {
                        "text/html": "(5 rows affected)"
                    },
                    "metadata": {}
                },
                {
                    "output_type": "display_data",
                    "data": {
                        "text/html": "Total execution time: 00:00:20.277"
                    },
                    "metadata": {}
                },
                {
                    "output_type": "execute_result",
                    "execution_count": 41,
                    "data": {
                        "application/vnd.dataresource+json": {
                            "schema": {
                                "fields": [
                                    {
                                        "name": "end_time"
                                    },
                                    {
                                        "name": "avg_cpu_percent"
                                    },
                                    {
                                        "name": "avg_data_io_percent"
                                    },
                                    {
                                        "name": "avg_log_write_percent"
                                    },
                                    {
                                        "name": "file_date"
                                    }
                                ]
                            },
                            "data": [
                                {
                                    "0": "2022-11-08 20:21:04.000",
                                    "1": "12.95",
                                    "2": "0.62",
                                    "3": "0.00",
                                    "4": "2022-11-08"
                                },
                                {
                                    "0": "2022-11-08 03:46:09.000",
                                    "1": "2.82",
                                    "2": "0.00",
                                    "3": "0.00",
                                    "4": "2022-11-08"
                                },
                                {
                                    "0": "2022-11-08 04:15:14.000",
                                    "1": "2.04",
                                    "2": "0.00",
                                    "3": "0.00",
                                    "4": "2022-11-08"
                                },
                                {
                                    "0": "2022-11-08 03:47:09.000",
                                    "1": "1.88",
                                    "2": "0.00",
                                    "3": "0.00",
                                    "4": "2022-11-08"
                                },
                                {
                                    "0": "2022-11-07 22:07:09.000",
                                    "1": "1.88",
                                    "2": "0.00",
                                    "3": "0.00",
                                    "4": "2022-11-07"
                                }
                            ]
                        },
                        "text/html": "<table><tr><th>end_time</th><th>avg_cpu_percent</th><th>avg_data_io_percent</th><th>avg_log_write_percent</th><th>file_date</th></tr><tr><td>2022-11-08 20:21:04.000</td><td>12.95</td><td>0.62</td><td>0.00</td><td>2022-11-08</td></tr><tr><td>2022-11-08 03:46:09.000</td><td>2.82</td><td>0.00</td><td>0.00</td><td>2022-11-08</td></tr><tr><td>2022-11-08 04:15:14.000</td><td>2.04</td><td>0.00</td><td>0.00</td><td>2022-11-08</td></tr><tr><td>2022-11-08 03:47:09.000</td><td>1.88</td><td>0.00</td><td>0.00</td><td>2022-11-08</td></tr><tr><td>2022-11-07 22:07:09.000</td><td>1.88</td><td>0.00</td><td>0.00</td><td>2022-11-07</td></tr></table>"
                    },
                    "metadata": {}
                }
            ],
            "execution_count": 41
        },
        {
            "cell_type": "markdown",
            "source": [
                "### Extended query statistics\n",
                "\n",
                "Based on the results of the query above we see that at 20:21 we have a higher use of CPU. With the extended performance data we can see if anything interesting stands out.\n",
                "\n",
                "Note the reading_time being filtered to the minutes around the end_time shown, also we filter on file_date to only read the file from one day."
            ],
            "metadata": {
                "azdata_cell_guid": "a2708bfc-1f6d-4ec3-b4ef-b1b6ced9647b"
            },
            "attachments": {}
        },
        {
            "cell_type": "code",
            "source": [
                "\tSELECT TOP 10000 reading_time, \r\n",
                "      session_id, request_id, ecid, blocking_session_id, blocking_ecid, task_state, \r\n",
                "      wait_type, wait_duration_ms, wait_resource, resource_description, last_wait_type, \r\n",
                "      open_trans, transaction_isolation_level, is_user_process, \r\n",
                "      request_cpu_time, request_logical_reads, request_reads, request_writes, memory_usage, \r\n",
                "      session_cpu_time, session_reads, session_writes, session_logical_reads, total_scheduled_time, \r\n",
                "      total_elapsed_time, CONVERT (varchar, last_request_start_time, 126) AS last_request_start_time, \r\n",
                "      CONVERT (varchar, last_request_end_time, 126) AS last_request_end_time, session_row_count, \r\n",
                "      prev_error, open_resultsets, request_total_elapsed_time, percent_complete, \r\n",
                "      est_completion_time, tran_name, \r\n",
                "      CONVERT (varchar, transaction_begin_time, 126) AS transaction_begin_time, tran_type, \r\n",
                "      tran_state, CONVERT (varchar, request_start_time, 126) AS request_start_time, request_status, \r\n",
                "      command, statement_start_offset, statement_end_offset, database_id, [user_id], \r\n",
                "      executing_managed_code, pending_io_count, CONVERT (varchar, login_time, 126) AS login_time, \r\n",
                "      [host_name], program_name, host_process_id, client_version, client_interface_name, login_name, \r\n",
                "      nt_domain, nt_user_name, net_packet_size, client_net_address, session_status, \r\n",
                "      scheduler_id,\r\n",
                "      group_id,\r\n",
                "      [context_info]\r\n",
                "    FROM SqlAzureExtendedPerformance r\r\n",
                "    WHERE \r\n",
                "\t\t(reading_time BETWEEN '2022-11-08 20:20:04.000' AND '2022-11-08 20:22:04.000' and file_date = '2022-11-08') AND\r\n",
                "      /* One EC can have multiple waits in sys.dm_os_waiting_tasks (e.g. parent thread waiting on multiple children, for example \r\n",
                "      ** for parallel create index; or mem grant waits for RES_SEM_FOR_QRY_COMPILE).  This will result in the same EC being listed \r\n",
                "      ** multiple times in the request table, which is counterintuitive for most people.  Instead of showing all wait relationships, \r\n",
                "      ** for each EC we will report the wait relationship that has the longest wait time.  (If there are multiple relationships with \r\n",
                "      ** the same wait time, blocker spid/ecid is used to choose one of them.)  If it were not for , we would do this \r\n",
                "      ** exclusion in the previous query to avoid storing data that will ultimately be filtered out. */\r\n",
                "      NOT EXISTS \r\n",
                "        (SELECT * FROM SqlAzureExtendedPerformance r2 \r\n",
                "         WHERE r.session_id = r2.session_id AND r.request_id = r2.request_id AND r.ecid = r2.ecid AND r.wait_type = r2.wait_type \r\n",
                "           AND (r2.wait_duration_ms > r.wait_duration_ms OR (r2.wait_duration_ms = r.wait_duration_ms)))"
            ],
            "metadata": {
                "azdata_cell_guid": "43f8fb2c-89a5-4156-bcb2-7b8bcefb6d6a",
                "language": "sql"
            },
            "outputs": [
                {
                    "output_type": "display_data",
                    "data": {
                        "text/html": "(1 row affected)"
                    },
                    "metadata": {}
                },
                {
                    "output_type": "display_data",
                    "data": {
                        "text/html": "(1 row affected)"
                    },
                    "metadata": {}
                },
                {
                    "output_type": "display_data",
                    "data": {
                        "text/html": "(1 row affected)"
                    },
                    "metadata": {}
                },
                {
                    "output_type": "display_data",
                    "data": {
                        "text/html": "(1 row affected)"
                    },
                    "metadata": {}
                },
                {
                    "output_type": "display_data",
                    "data": {
                        "text/html": "(1 row affected)"
                    },
                    "metadata": {}
                },
                {
                    "output_type": "display_data",
                    "data": {
                        "text/html": "(1 row affected)"
                    },
                    "metadata": {}
                },
                {
                    "output_type": "display_data",
                    "data": {
                        "text/html": "(1 row affected)"
                    },
                    "metadata": {}
                },
                {
                    "output_type": "display_data",
                    "data": {
                        "text/html": "Statement ID: {209DB211-8011-4DAF-AB08-EA9BF8C2363D} | Query hash: 0xF0B92662D7833AE5 | Distributed request ID: {4A34D890-8168-4422-924C-5B36074A7035}. Total size of data scanned is 11 megabytes, total size of data moved is 1 megabytes, total size of data written is 0 megabytes."
                    },
                    "metadata": {}
                },
                {
                    "output_type": "display_data",
                    "data": {
                        "text/html": "(7 rows affected)"
                    },
                    "metadata": {}
                },
                {
                    "output_type": "display_data",
                    "data": {
                        "text/html": "Total execution time: 00:00:21.539"
                    },
                    "metadata": {}
                },
                {
                    "output_type": "execute_result",
                    "execution_count": 42,
                    "data": {
                        "application/vnd.dataresource+json": {
                            "schema": {
                                "fields": [
                                    {
                                        "name": "reading_time"
                                    },
                                    {
                                        "name": "session_id"
                                    },
                                    {
                                        "name": "request_id"
                                    },
                                    {
                                        "name": "ecid"
                                    },
                                    {
                                        "name": "blocking_session_id"
                                    },
                                    {
                                        "name": "blocking_ecid"
                                    },
                                    {
                                        "name": "task_state"
                                    },
                                    {
                                        "name": "wait_type"
                                    },
                                    {
                                        "name": "wait_duration_ms"
                                    },
                                    {
                                        "name": "wait_resource"
                                    },
                                    {
                                        "name": "resource_description"
                                    },
                                    {
                                        "name": "last_wait_type"
                                    },
                                    {
                                        "name": "open_trans"
                                    },
                                    {
                                        "name": "transaction_isolation_level"
                                    },
                                    {
                                        "name": "is_user_process"
                                    },
                                    {
                                        "name": "request_cpu_time"
                                    },
                                    {
                                        "name": "request_logical_reads"
                                    },
                                    {
                                        "name": "request_reads"
                                    },
                                    {
                                        "name": "request_writes"
                                    },
                                    {
                                        "name": "memory_usage"
                                    },
                                    {
                                        "name": "session_cpu_time"
                                    },
                                    {
                                        "name": "session_reads"
                                    },
                                    {
                                        "name": "session_writes"
                                    },
                                    {
                                        "name": "session_logical_reads"
                                    },
                                    {
                                        "name": "total_scheduled_time"
                                    },
                                    {
                                        "name": "total_elapsed_time"
                                    },
                                    {
                                        "name": "last_request_start_time"
                                    },
                                    {
                                        "name": "last_request_end_time"
                                    },
                                    {
                                        "name": "session_row_count"
                                    },
                                    {
                                        "name": "prev_error"
                                    },
                                    {
                                        "name": "open_resultsets"
                                    },
                                    {
                                        "name": "request_total_elapsed_time"
                                    },
                                    {
                                        "name": "percent_complete"
                                    },
                                    {
                                        "name": "est_completion_time"
                                    },
                                    {
                                        "name": "tran_name"
                                    },
                                    {
                                        "name": "transaction_begin_time"
                                    },
                                    {
                                        "name": "tran_type"
                                    },
                                    {
                                        "name": "tran_state"
                                    },
                                    {
                                        "name": "request_start_time"
                                    },
                                    {
                                        "name": "request_status"
                                    },
                                    {
                                        "name": "command"
                                    },
                                    {
                                        "name": "statement_start_offset"
                                    },
                                    {
                                        "name": "statement_end_offset"
                                    },
                                    {
                                        "name": "database_id"
                                    },
                                    {
                                        "name": "user_id"
                                    },
                                    {
                                        "name": "executing_managed_code"
                                    },
                                    {
                                        "name": "pending_io_count"
                                    },
                                    {
                                        "name": "login_time"
                                    },
                                    {
                                        "name": "host_name"
                                    },
                                    {
                                        "name": "program_name"
                                    },
                                    {
                                        "name": "host_process_id"
                                    },
                                    {
                                        "name": "client_version"
                                    },
                                    {
                                        "name": "client_interface_name"
                                    },
                                    {
                                        "name": "login_name"
                                    },
                                    {
                                        "name": "nt_domain"
                                    },
                                    {
                                        "name": "nt_user_name"
                                    },
                                    {
                                        "name": "net_packet_size"
                                    },
                                    {
                                        "name": "client_net_address"
                                    },
                                    {
                                        "name": "session_status"
                                    },
                                    {
                                        "name": "scheduler_id"
                                    },
                                    {
                                        "name": "group_id"
                                    },
                                    {
                                        "name": "context_info"
                                    }
                                ]
                            },
                            "data": [
                                {
                                    "0": "2022-11-08 20:21:00.000",
                                    "1": "52",
                                    "2": "0",
                                    "3": "NULL",
                                    "4": "0",
                                    "5": "NULL",
                                    "6": "NULL",
                                    "7": "XE_LIVE_TARGET_TVF",
                                    "8": "1095",
                                    "9": "NULL",
                                    "10": "NULL",
                                    "11": "XE_LIVE_TARGET_TVF",
                                    "12": "NULL",
                                    "13": "2-Read Committed",
                                    "14": "1",
                                    "15": "541",
                                    "16": "95",
                                    "17": "24",
                                    "18": "0",
                                    "19": "0",
                                    "20": "0",
                                    "21": "0",
                                    "22": "0",
                                    "23": "0",
                                    "24": "0",
                                    "25": "0",
                                    "26": "2022-10-21T22:07:17",
                                    "27": "2022-10-21T22:07:17",
                                    "28": "0",
                                    "29": "0",
                                    "30": "1",
                                    "31": "1548846716",
                                    "32": "0.00",
                                    "33": "0",
                                    "34": "SELECT",
                                    "35": "2022-10-21T22:07:17",
                                    "36": "2-Read only",
                                    "37": "2-Active",
                                    "38": "2022-10-21T22:07:17",
                                    "39": "suspended",
                                    "40": "SELECT",
                                    "41": "46",
                                    "42": "174",
                                    "43": "1",
                                    "44": "1",
                                    "45": "0",
                                    "46": "NULL",
                                    "47": "2022-10-21T22:07:17",
                                    "48": "DB2",
                                    "49": "TdService",
                                    "50": "12168",
                                    "51": "7",
                                    "52": "Framework Microsoft SqlClient ",
                                    "53": "NT AUTHORITY\\SYSTEM",
                                    "54": "NT AUTHORITY",
                                    "55": "SYSTEM",
                                    "56": "8000",
                                    "57": "<named pipe>",
                                    "58": "running",
                                    "59": "NULL",
                                    "60": "2",
                                    "61": "0x"
                                },
                                {
                                    "0": "2022-11-08 20:21:00.000",
                                    "1": "53",
                                    "2": "0",
                                    "3": "NULL",
                                    "4": "0",
                                    "5": "NULL",
                                    "6": "NULL",
                                    "7": "XE_LIVE_TARGET_TVF",
                                    "8": "59095",
                                    "9": "NULL",
                                    "10": "NULL",
                                    "11": "XE_LIVE_TARGET_TVF",
                                    "12": "NULL",
                                    "13": "2-Read Committed",
                                    "14": "1",
                                    "15": "693",
                                    "16": "0",
                                    "17": "0",
                                    "18": "0",
                                    "19": "0",
                                    "20": "0",
                                    "21": "0",
                                    "22": "0",
                                    "23": "0",
                                    "24": "0",
                                    "25": "0",
                                    "26": "2022-10-21T22:07:17",
                                    "27": "2022-10-21T22:07:17",
                                    "28": "0",
                                    "29": "0",
                                    "30": "1",
                                    "31": "1548846404",
                                    "32": "0.00",
                                    "33": "0",
                                    "34": "SELECT",
                                    "35": "2022-10-21T22:07:17",
                                    "36": "2-Read only",
                                    "37": "2-Active",
                                    "38": "2022-10-21T22:07:17",
                                    "39": "suspended",
                                    "40": "SELECT",
                                    "41": "46",
                                    "42": "174",
                                    "43": "1",
                                    "44": "1",
                                    "45": "0",
                                    "46": "NULL",
                                    "47": "2022-10-21T22:07:17",
                                    "48": "DB2",
                                    "49": "TdService",
                                    "50": "12168",
                                    "51": "7",
                                    "52": "Framework Microsoft SqlClient ",
                                    "53": "NT AUTHORITY\\SYSTEM",
                                    "54": "NT AUTHORITY",
                                    "55": "SYSTEM",
                                    "56": "8000",
                                    "57": "<named pipe>",
                                    "58": "running",
                                    "59": "NULL",
                                    "60": "2",
                                    "61": "0x"
                                },
                                {
                                    "0": "2022-11-08 20:21:00.000",
                                    "1": "56",
                                    "2": "0",
                                    "3": "NULL",
                                    "4": "0",
                                    "5": "NULL",
                                    "6": "NULL",
                                    "7": "NULL",
                                    "8": "0",
                                    "9": "NULL",
                                    "10": "NULL",
                                    "11": "MEMORY_ALLOCATION_EXT",
                                    "12": "NULL",
                                    "13": "2-Read Committed",
                                    "14": "1",
                                    "15": "293",
                                    "16": "17",
                                    "17": "0",
                                    "18": "0",
                                    "19": "4",
                                    "20": "0",
                                    "21": "24",
                                    "22": "0",
                                    "23": "53",
                                    "24": "3",
                                    "25": "165",
                                    "26": "2022-11-08T20:20:59",
                                    "27": "2022-11-08T20:20:59",
                                    "28": "1",
                                    "29": "0",
                                    "30": "1",
                                    "31": "986",
                                    "32": "0.00",
                                    "33": "0",
                                    "34": "SELECT",
                                    "35": "2022-11-08T20:20:59",
                                    "36": "2-Read only",
                                    "37": "2-Active",
                                    "38": "2022-11-08T20:20:59",
                                    "39": "runnable",
                                    "40": "SELECT",
                                    "41": "0",
                                    "42": "280",
                                    "43": "5",
                                    "44": "1",
                                    "45": "0",
                                    "46": "NULL",
                                    "47": "2022-11-08T20:20:59",
                                    "48": "10-30-2-220",
                                    "49": ".Net SqlClient Data Provider",
                                    "50": "8032",
                                    "51": "7",
                                    "52": ".Net SqlClient Data Provider",
                                    "53": "cabattagsa",
                                    "54": "NULL",
                                    "55": "NULL",
                                    "56": "8058",
                                    "57": "52.143.81.61",
                                    "58": "running",
                                    "59": "NULL",
                                    "60": "2000000039",
                                    "61": "0x440034003600320042004100340043002D0038003000350032002D0034004300350032002D0038004600370044002D003200420033003300300046003700310036004100360036"
                                },
                                {
                                    "0": "2022-11-08 20:21:00.000",
                                    "1": "57",
                                    "2": "0",
                                    "3": "NULL",
                                    "4": "0",
                                    "5": "NULL",
                                    "6": "NULL",
                                    "7": "NULL",
                                    "8": "0",
                                    "9": "NULL",
                                    "10": "NULL",
                                    "11": "RESERVED_MEMORY_ALLOCATION_EXT",
                                    "12": "NULL",
                                    "13": "2-Read Committed",
                                    "14": "1",
                                    "15": "14",
                                    "16": "92",
                                    "17": "0",
                                    "18": "0",
                                    "19": "0",
                                    "20": "0",
                                    "21": "0",
                                    "22": "0",
                                    "23": "0",
                                    "24": "0",
                                    "25": "0",
                                    "26": "2022-11-08T20:21:00",
                                    "27": "2022-11-08T20:21:00",
                                    "28": "0",
                                    "29": "0",
                                    "30": "1",
                                    "31": "236",
                                    "32": "0.00",
                                    "33": "0",
                                    "34": "SELECT",
                                    "35": "2022-11-08T20:21:00",
                                    "36": "2-Read only",
                                    "37": "2-Active",
                                    "38": "2022-11-08T20:21:00",
                                    "39": "running",
                                    "40": "SELECT",
                                    "41": "104",
                                    "42": "11418",
                                    "43": "5",
                                    "44": "1",
                                    "45": "0",
                                    "46": "NULL",
                                    "47": "2022-11-08T20:21:00",
                                    "48": "10-30-10-192",
                                    "49": "Core Microsoft SqlClient Data Provider",
                                    "50": "2812",
                                    "51": "7",
                                    "52": "Core Microsoft SqlClient Data ",
                                    "53": "cabattagsa",
                                    "54": "NULL",
                                    "55": "NULL",
                                    "56": "8058",
                                    "57": "52.154.242.237",
                                    "58": "running",
                                    "59": "NULL",
                                    "60": "2000000039",
                                    "61": "0x"
                                },
                                {
                                    "0": "2022-11-08 20:22:00.000",
                                    "1": "52",
                                    "2": "0",
                                    "3": "NULL",
                                    "4": "0",
                                    "5": "NULL",
                                    "6": "NULL",
                                    "7": "XE_LIVE_TARGET_TVF",
                                    "8": "746",
                                    "9": "NULL",
                                    "10": "NULL",
                                    "11": "XE_LIVE_TARGET_TVF",
                                    "12": "NULL",
                                    "13": "2-Read Committed",
                                    "14": "1",
                                    "15": "541",
                                    "16": "95",
                                    "17": "24",
                                    "18": "0",
                                    "19": "0",
                                    "20": "0",
                                    "21": "0",
                                    "22": "0",
                                    "23": "0",
                                    "24": "0",
                                    "25": "0",
                                    "26": "2022-10-21T22:07:17",
                                    "27": "2022-10-21T22:07:17",
                                    "28": "0",
                                    "29": "0",
                                    "30": "1",
                                    "31": "1548906382",
                                    "32": "0.00",
                                    "33": "0",
                                    "34": "SELECT",
                                    "35": "2022-10-21T22:07:17",
                                    "36": "2-Read only",
                                    "37": "2-Active",
                                    "38": "2022-10-21T22:07:17",
                                    "39": "suspended",
                                    "40": "SELECT",
                                    "41": "46",
                                    "42": "174",
                                    "43": "1",
                                    "44": "1",
                                    "45": "0",
                                    "46": "NULL",
                                    "47": "2022-10-21T22:07:17",
                                    "48": "DB2",
                                    "49": "TdService",
                                    "50": "12168",
                                    "51": "7",
                                    "52": "Framework Microsoft SqlClient ",
                                    "53": "NT AUTHORITY\\SYSTEM",
                                    "54": "NT AUTHORITY",
                                    "55": "SYSTEM",
                                    "56": "8000",
                                    "57": "<named pipe>",
                                    "58": "running",
                                    "59": "NULL",
                                    "60": "2",
                                    "61": "0x"
                                },
                                {
                                    "0": "2022-11-08 20:22:00.000",
                                    "1": "53",
                                    "2": "0",
                                    "3": "NULL",
                                    "4": "0",
                                    "5": "NULL",
                                    "6": "NULL",
                                    "7": "XE_LIVE_TARGET_TVF",
                                    "8": "58761",
                                    "9": "NULL",
                                    "10": "NULL",
                                    "11": "XE_LIVE_TARGET_TVF",
                                    "12": "NULL",
                                    "13": "2-Read Committed",
                                    "14": "1",
                                    "15": "693",
                                    "16": "0",
                                    "17": "0",
                                    "18": "0",
                                    "19": "0",
                                    "20": "0",
                                    "21": "0",
                                    "22": "0",
                                    "23": "0",
                                    "24": "0",
                                    "25": "0",
                                    "26": "2022-10-21T22:07:17",
                                    "27": "2022-10-21T22:07:17",
                                    "28": "0",
                                    "29": "0",
                                    "30": "1",
                                    "31": "1548906070",
                                    "32": "0.00",
                                    "33": "0",
                                    "34": "SELECT",
                                    "35": "2022-10-21T22:07:17",
                                    "36": "2-Read only",
                                    "37": "2-Active",
                                    "38": "2022-10-21T22:07:17",
                                    "39": "suspended",
                                    "40": "SELECT",
                                    "41": "46",
                                    "42": "174",
                                    "43": "1",
                                    "44": "1",
                                    "45": "0",
                                    "46": "NULL",
                                    "47": "2022-10-21T22:07:17",
                                    "48": "DB2",
                                    "49": "TdService",
                                    "50": "12168",
                                    "51": "7",
                                    "52": "Framework Microsoft SqlClient ",
                                    "53": "NT AUTHORITY\\SYSTEM",
                                    "54": "NT AUTHORITY",
                                    "55": "SYSTEM",
                                    "56": "8000",
                                    "57": "<named pipe>",
                                    "58": "running",
                                    "59": "NULL",
                                    "60": "2",
                                    "61": "0x"
                                },
                                {
                                    "0": "2022-11-08 20:22:00.000",
                                    "1": "57",
                                    "2": "0",
                                    "3": "NULL",
                                    "4": "0",
                                    "5": "NULL",
                                    "6": "NULL",
                                    "7": "NULL",
                                    "8": "0",
                                    "9": "NULL",
                                    "10": "NULL",
                                    "11": "RESERVED_MEMORY_ALLOCATION_EXT",
                                    "12": "NULL",
                                    "13": "2-Read Committed",
                                    "14": "1",
                                    "15": "10",
                                    "16": "92",
                                    "17": "0",
                                    "18": "0",
                                    "19": "0",
                                    "20": "0",
                                    "21": "0",
                                    "22": "0",
                                    "23": "0",
                                    "24": "0",
                                    "25": "0",
                                    "26": "2022-11-08T20:22:00",
                                    "27": "2022-11-08T20:22:00",
                                    "28": "0",
                                    "29": "0",
                                    "30": "1",
                                    "31": "11",
                                    "32": "0.00",
                                    "33": "0",
                                    "34": "SELECT",
                                    "35": "2022-11-08T20:22:00",
                                    "36": "2-Read only",
                                    "37": "2-Active",
                                    "38": "2022-11-08T20:22:00",
                                    "39": "running",
                                    "40": "SELECT",
                                    "41": "104",
                                    "42": "11418",
                                    "43": "5",
                                    "44": "1",
                                    "45": "0",
                                    "46": "NULL",
                                    "47": "2022-11-08T20:22:00",
                                    "48": "10-30-10-192",
                                    "49": "Core Microsoft SqlClient Data Provider",
                                    "50": "2812",
                                    "51": "7",
                                    "52": "Core Microsoft SqlClient Data ",
                                    "53": "cabattagsa",
                                    "54": "NULL",
                                    "55": "NULL",
                                    "56": "8058",
                                    "57": "52.154.242.237",
                                    "58": "running",
                                    "59": "NULL",
                                    "60": "2000000039",
                                    "61": "0x"
                                }
                            ]
                        },
                        "text/html": "<table><tr><th>reading_time</th><th>session_id</th><th>request_id</th><th>ecid</th><th>blocking_session_id</th><th>blocking_ecid</th><th>task_state</th><th>wait_type</th><th>wait_duration_ms</th><th>wait_resource</th><th>resource_description</th><th>last_wait_type</th><th>open_trans</th><th>transaction_isolation_level</th><th>is_user_process</th><th>request_cpu_time</th><th>request_logical_reads</th><th>request_reads</th><th>request_writes</th><th>memory_usage</th><th>session_cpu_time</th><th>session_reads</th><th>session_writes</th><th>session_logical_reads</th><th>total_scheduled_time</th><th>total_elapsed_time</th><th>last_request_start_time</th><th>last_request_end_time</th><th>session_row_count</th><th>prev_error</th><th>open_resultsets</th><th>request_total_elapsed_time</th><th>percent_complete</th><th>est_completion_time</th><th>tran_name</th><th>transaction_begin_time</th><th>tran_type</th><th>tran_state</th><th>request_start_time</th><th>request_status</th><th>command</th><th>statement_start_offset</th><th>statement_end_offset</th><th>database_id</th><th>user_id</th><th>executing_managed_code</th><th>pending_io_count</th><th>login_time</th><th>host_name</th><th>program_name</th><th>host_process_id</th><th>client_version</th><th>client_interface_name</th><th>login_name</th><th>nt_domain</th><th>nt_user_name</th><th>net_packet_size</th><th>client_net_address</th><th>session_status</th><th>scheduler_id</th><th>group_id</th><th>context_info</th></tr><tr><td>2022-11-08 20:21:00.000</td><td>52</td><td>0</td><td>NULL</td><td>0</td><td>NULL</td><td>NULL</td><td>XE_LIVE_TARGET_TVF</td><td>1095</td><td>NULL</td><td>NULL</td><td>XE_LIVE_TARGET_TVF</td><td>NULL</td><td>2-Read Committed</td><td>1</td><td>541</td><td>95</td><td>24</td><td>0</td><td>0</td><td>0</td><td>0</td><td>0</td><td>0</td><td>0</td><td>0</td><td>2022-10-21T22:07:17</td><td>2022-10-21T22:07:17</td><td>0</td><td>0</td><td>1</td><td>1548846716</td><td>0.00</td><td>0</td><td>SELECT</td><td>2022-10-21T22:07:17</td><td>2-Read only</td><td>2-Active</td><td>2022-10-21T22:07:17</td><td>suspended</td><td>SELECT</td><td>46</td><td>174</td><td>1</td><td>1</td><td>0</td><td>NULL</td><td>2022-10-21T22:07:17</td><td>DB2</td><td>TdService</td><td>12168</td><td>7</td><td>Framework Microsoft SqlClient </td><td>NT AUTHORITY\\SYSTEM</td><td>NT AUTHORITY</td><td>SYSTEM</td><td>8000</td><td>&lt;named pipe&gt;</td><td>running</td><td>NULL</td><td>2</td><td>0x</td></tr><tr><td>2022-11-08 20:21:00.000</td><td>53</td><td>0</td><td>NULL</td><td>0</td><td>NULL</td><td>NULL</td><td>XE_LIVE_TARGET_TVF</td><td>59095</td><td>NULL</td><td>NULL</td><td>XE_LIVE_TARGET_TVF</td><td>NULL</td><td>2-Read Committed</td><td>1</td><td>693</td><td>0</td><td>0</td><td>0</td><td>0</td><td>0</td><td>0</td><td>0</td><td>0</td><td>0</td><td>0</td><td>2022-10-21T22:07:17</td><td>2022-10-21T22:07:17</td><td>0</td><td>0</td><td>1</td><td>1548846404</td><td>0.00</td><td>0</td><td>SELECT</td><td>2022-10-21T22:07:17</td><td>2-Read only</td><td>2-Active</td><td>2022-10-21T22:07:17</td><td>suspended</td><td>SELECT</td><td>46</td><td>174</td><td>1</td><td>1</td><td>0</td><td>NULL</td><td>2022-10-21T22:07:17</td><td>DB2</td><td>TdService</td><td>12168</td><td>7</td><td>Framework Microsoft SqlClient </td><td>NT AUTHORITY\\SYSTEM</td><td>NT AUTHORITY</td><td>SYSTEM</td><td>8000</td><td>&lt;named pipe&gt;</td><td>running</td><td>NULL</td><td>2</td><td>0x</td></tr><tr><td>2022-11-08 20:21:00.000</td><td>56</td><td>0</td><td>NULL</td><td>0</td><td>NULL</td><td>NULL</td><td>NULL</td><td>0</td><td>NULL</td><td>NULL</td><td>MEMORY_ALLOCATION_EXT</td><td>NULL</td><td>2-Read Committed</td><td>1</td><td>293</td><td>17</td><td>0</td><td>0</td><td>4</td><td>0</td><td>24</td><td>0</td><td>53</td><td>3</td><td>165</td><td>2022-11-08T20:20:59</td><td>2022-11-08T20:20:59</td><td>1</td><td>0</td><td>1</td><td>986</td><td>0.00</td><td>0</td><td>SELECT</td><td>2022-11-08T20:20:59</td><td>2-Read only</td><td>2-Active</td><td>2022-11-08T20:20:59</td><td>runnable</td><td>SELECT</td><td>0</td><td>280</td><td>5</td><td>1</td><td>0</td><td>NULL</td><td>2022-11-08T20:20:59</td><td>10-30-2-220</td><td>.Net SqlClient Data Provider</td><td>8032</td><td>7</td><td>.Net SqlClient Data Provider</td><td>cabattagsa</td><td>NULL</td><td>NULL</td><td>8058</td><td>52.143.81.61</td><td>running</td><td>NULL</td><td>2000000039</td><td>0x440034003600320042004100340043002D0038003000350032002D0034004300350032002D0038004600370044002D003200420033003300300046003700310036004100360036</td></tr><tr><td>2022-11-08 20:21:00.000</td><td>57</td><td>0</td><td>NULL</td><td>0</td><td>NULL</td><td>NULL</td><td>NULL</td><td>0</td><td>NULL</td><td>NULL</td><td>RESERVED_MEMORY_ALLOCATION_EXT</td><td>NULL</td><td>2-Read Committed</td><td>1</td><td>14</td><td>92</td><td>0</td><td>0</td><td>0</td><td>0</td><td>0</td><td>0</td><td>0</td><td>0</td><td>0</td><td>2022-11-08T20:21:00</td><td>2022-11-08T20:21:00</td><td>0</td><td>0</td><td>1</td><td>236</td><td>0.00</td><td>0</td><td>SELECT</td><td>2022-11-08T20:21:00</td><td>2-Read only</td><td>2-Active</td><td>2022-11-08T20:21:00</td><td>running</td><td>SELECT</td><td>104</td><td>11418</td><td>5</td><td>1</td><td>0</td><td>NULL</td><td>2022-11-08T20:21:00</td><td>10-30-10-192</td><td>Core Microsoft SqlClient Data Provider</td><td>2812</td><td>7</td><td>Core Microsoft SqlClient Data </td><td>cabattagsa</td><td>NULL</td><td>NULL</td><td>8058</td><td>52.154.242.237</td><td>running</td><td>NULL</td><td>2000000039</td><td>0x</td></tr><tr><td>2022-11-08 20:22:00.000</td><td>52</td><td>0</td><td>NULL</td><td>0</td><td>NULL</td><td>NULL</td><td>XE_LIVE_TARGET_TVF</td><td>746</td><td>NULL</td><td>NULL</td><td>XE_LIVE_TARGET_TVF</td><td>NULL</td><td>2-Read Committed</td><td>1</td><td>541</td><td>95</td><td>24</td><td>0</td><td>0</td><td>0</td><td>0</td><td>0</td><td>0</td><td>0</td><td>0</td><td>2022-10-21T22:07:17</td><td>2022-10-21T22:07:17</td><td>0</td><td>0</td><td>1</td><td>1548906382</td><td>0.00</td><td>0</td><td>SELECT</td><td>2022-10-21T22:07:17</td><td>2-Read only</td><td>2-Active</td><td>2022-10-21T22:07:17</td><td>suspended</td><td>SELECT</td><td>46</td><td>174</td><td>1</td><td>1</td><td>0</td><td>NULL</td><td>2022-10-21T22:07:17</td><td>DB2</td><td>TdService</td><td>12168</td><td>7</td><td>Framework Microsoft SqlClient </td><td>NT AUTHORITY\\SYSTEM</td><td>NT AUTHORITY</td><td>SYSTEM</td><td>8000</td><td>&lt;named pipe&gt;</td><td>running</td><td>NULL</td><td>2</td><td>0x</td></tr><tr><td>2022-11-08 20:22:00.000</td><td>53</td><td>0</td><td>NULL</td><td>0</td><td>NULL</td><td>NULL</td><td>XE_LIVE_TARGET_TVF</td><td>58761</td><td>NULL</td><td>NULL</td><td>XE_LIVE_TARGET_TVF</td><td>NULL</td><td>2-Read Committed</td><td>1</td><td>693</td><td>0</td><td>0</td><td>0</td><td>0</td><td>0</td><td>0</td><td>0</td><td>0</td><td>0</td><td>0</td><td>2022-10-21T22:07:17</td><td>2022-10-21T22:07:17</td><td>0</td><td>0</td><td>1</td><td>1548906070</td><td>0.00</td><td>0</td><td>SELECT</td><td>2022-10-21T22:07:17</td><td>2-Read only</td><td>2-Active</td><td>2022-10-21T22:07:17</td><td>suspended</td><td>SELECT</td><td>46</td><td>174</td><td>1</td><td>1</td><td>0</td><td>NULL</td><td>2022-10-21T22:07:17</td><td>DB2</td><td>TdService</td><td>12168</td><td>7</td><td>Framework Microsoft SqlClient </td><td>NT AUTHORITY\\SYSTEM</td><td>NT AUTHORITY</td><td>SYSTEM</td><td>8000</td><td>&lt;named pipe&gt;</td><td>running</td><td>NULL</td><td>2</td><td>0x</td></tr><tr><td>2022-11-08 20:22:00.000</td><td>57</td><td>0</td><td>NULL</td><td>0</td><td>NULL</td><td>NULL</td><td>NULL</td><td>0</td><td>NULL</td><td>NULL</td><td>RESERVED_MEMORY_ALLOCATION_EXT</td><td>NULL</td><td>2-Read Committed</td><td>1</td><td>10</td><td>92</td><td>0</td><td>0</td><td>0</td><td>0</td><td>0</td><td>0</td><td>0</td><td>0</td><td>0</td><td>2022-11-08T20:22:00</td><td>2022-11-08T20:22:00</td><td>0</td><td>0</td><td>1</td><td>11</td><td>0.00</td><td>0</td><td>SELECT</td><td>2022-11-08T20:22:00</td><td>2-Read only</td><td>2-Active</td><td>2022-11-08T20:22:00</td><td>running</td><td>SELECT</td><td>104</td><td>11418</td><td>5</td><td>1</td><td>0</td><td>NULL</td><td>2022-11-08T20:22:00</td><td>10-30-10-192</td><td>Core Microsoft SqlClient Data Provider</td><td>2812</td><td>7</td><td>Core Microsoft SqlClient Data </td><td>cabattagsa</td><td>NULL</td><td>NULL</td><td>8058</td><td>52.154.242.237</td><td>running</td><td>NULL</td><td>2000000039</td><td>0x</td></tr></table>"
                    },
                    "metadata": {}
                }
            ],
            "execution_count": 42
        },
        {
            "cell_type": "markdown",
            "source": [
                "### Wait Statistics\r\n",
                "With that data from above we see there is a query running at 20:21 that seems to use a little more CPU. Let's see what our waits look like during that timeframe. "
            ],
            "metadata": {
                "azdata_cell_guid": "de145c5d-3384-4cde-ae29-ea8994f2302f"
            },
            "attachments": {}
        },
        {
            "cell_type": "code",
            "source": [
                "WITH waits AS\r\n",
                "(\r\n",
                "\tSELECT *,\r\n",
                "\t\twaiting_tasks_count - LAG(waiting_tasks_count) OVER(PARTITION BY wait_type order by reading_time) as waiting_tasks_change,\r\n",
                "\t\twait_time_ms - LAG(wait_time_ms) OVER(PARTITION BY wait_type order by reading_time) as wait_time_change\r\n",
                "\tFROM SqlWaitStats WHERE \r\n",
                "\t(reading_time BETWEEN '2022-11-08 20:19:00.000' AND '2022-11-08 20:24:04.000' and file_date = '2022-11-08')\r\n",
                ")\r\n",
                "SELECT * FROM waits\r\n",
                "WHERE waiting_tasks_change IS NOT NULL\r\n",
                "ORDER BY reading_time, wait_time_change"
            ],
            "metadata": {
                "azdata_cell_guid": "e31ecd0b-39a3-4008-a114-107c84ba9d5c",
                "language": "sql",
                "tags": []
            },
            "outputs": [
                {
                    "output_type": "display_data",
                    "data": {
                        "text/html": "Statement ID: {5421D131-23C7-4268-BDD4-92FDD056B437} | Query hash: 0x65C98D63A803F29 | Distributed request ID: {08D47A18-E288-4C9A-8775-3A93C00B45CA}. Total size of data scanned is 1 megabytes, total size of data moved is 1 megabytes, total size of data written is 0 megabytes."
                    },
                    "metadata": {}
                },
                {
                    "output_type": "display_data",
                    "data": {
                        "text/html": "(68 rows affected)"
                    },
                    "metadata": {}
                },
                {
                    "output_type": "display_data",
                    "data": {
                        "text/html": "Total execution time: 00:00:11.607"
                    },
                    "metadata": {}
                },
                {
                    "output_type": "execute_result",
                    "execution_count": 44,
                    "data": {
                        "application/vnd.dataresource+json": {
                            "schema": {
                                "fields": [
                                    {
                                        "name": "reading_time"
                                    },
                                    {
                                        "name": "wait_type"
                                    },
                                    {
                                        "name": "waiting_tasks_count"
                                    },
                                    {
                                        "name": "wait_time_ms"
                                    },
                                    {
                                        "name": "max_wait_time_ms"
                                    },
                                    {
                                        "name": "signal_wait_time_ms"
                                    },
                                    {
                                        "name": "file_date"
                                    },
                                    {
                                        "name": "waiting_tasks_change"
                                    },
                                    {
                                        "name": "wait_time_change"
                                    }
                                ]
                            },
                            "data": [
                                {
                                    "0": "2022-11-08 20:20:00.000",
                                    "1": "ASYNC_NETWORK_IO",
                                    "2": "78",
                                    "3": "55",
                                    "4": "14",
                                    "5": "15",
                                    "6": "2022-11-08",
                                    "7": "0",
                                    "8": "0"
                                },
                                {
                                    "0": "2022-11-08 20:20:00.000",
                                    "1": "PREEMPTIVE_XHTTP",
                                    "2": "54",
                                    "3": "711",
                                    "4": "73",
                                    "5": "0",
                                    "6": "2022-11-08",
                                    "7": "0",
                                    "8": "0"
                                },
                                {
                                    "0": "2022-11-08 20:20:00.000",
                                    "1": "PREEMPTIVE_OS_CRYPTOPS",
                                    "2": "36",
                                    "3": "63",
                                    "4": "3",
                                    "5": "0",
                                    "6": "2022-11-08",
                                    "7": "0",
                                    "8": "0"
                                },
                                {
                                    "0": "2022-11-08 20:20:00.000",
                                    "1": "RESERVED_MEMORY_ALLOCATION_EXT",
                                    "2": "65421",
                                    "3": "46",
                                    "4": "0",
                                    "5": "0",
                                    "6": "2022-11-08",
                                    "7": "17",
                                    "8": "0"
                                },
                                {
                                    "0": "2022-11-08 20:20:00.000",
                                    "1": "WRITELOG",
                                    "2": "1221",
                                    "3": "17394",
                                    "4": "198",
                                    "5": "169",
                                    "6": "2022-11-08",
                                    "7": "0",
                                    "8": "0"
                                },
                                {
                                    "0": "2022-11-08 20:20:00.000",
                                    "1": "MEMORY_ALLOCATION_EXT",
                                    "2": "997566",
                                    "3": "603",
                                    "4": "2",
                                    "5": "0",
                                    "6": "2022-11-08",
                                    "7": "585",
                                    "8": "0"
                                },
                                {
                                    "0": "2022-11-08 20:20:00.000",
                                    "1": "PREEMPTIVE_OS_CRYPTACQUIRECONTEXT",
                                    "2": "126",
                                    "3": "39",
                                    "4": "4",
                                    "5": "0",
                                    "6": "2022-11-08",
                                    "7": "0",
                                    "8": "0"
                                },
                                {
                                    "0": "2022-11-08 20:20:00.000",
                                    "1": "PREEMPTIVE_OLEDBOPS",
                                    "2": "36",
                                    "3": "17",
                                    "4": "15",
                                    "5": "0",
                                    "6": "2022-11-08",
                                    "7": "0",
                                    "8": "0"
                                },
                                {
                                    "0": "2022-11-08 20:20:00.000",
                                    "1": "PAGEIOLATCH_EX",
                                    "2": "1",
                                    "3": "124",
                                    "4": "124",
                                    "5": "0",
                                    "6": "2022-11-08",
                                    "7": "0",
                                    "8": "0"
                                },
                                {
                                    "0": "2022-11-08 20:20:00.000",
                                    "1": "SOS_SCHEDULER_YIELD",
                                    "2": "5872",
                                    "3": "18347",
                                    "4": "56",
                                    "5": "18346",
                                    "6": "2022-11-08",
                                    "7": "4",
                                    "8": "0"
                                },
                                {
                                    "0": "2022-11-08 20:20:00.000",
                                    "1": "PREEMPTIVE_HTTP_REQUEST",
                                    "2": "134",
                                    "3": "36",
                                    "4": "28",
                                    "5": "0",
                                    "6": "2022-11-08",
                                    "7": "0",
                                    "8": "0"
                                },
                                {
                                    "0": "2022-11-08 20:20:00.000",
                                    "1": "WAIT_ON_SYNC_STATISTICS_REFRESH",
                                    "2": "5",
                                    "3": "122",
                                    "4": "52",
                                    "5": "0",
                                    "6": "2022-11-08",
                                    "7": "0",
                                    "8": "0"
                                },
                                {
                                    "0": "2022-11-08 20:20:00.000",
                                    "1": "PAGEIOLATCH_SH",
                                    "2": "305",
                                    "3": "11223",
                                    "4": "562",
                                    "5": "172",
                                    "6": "2022-11-08",
                                    "7": "0",
                                    "8": "0"
                                },
                                {
                                    "0": "2022-11-08 20:21:01.000",
                                    "1": "PREEMPTIVE_XHTTP",
                                    "2": "54",
                                    "3": "711",
                                    "4": "73",
                                    "5": "0",
                                    "6": "2022-11-08",
                                    "7": "0",
                                    "8": "0"
                                },
                                {
                                    "0": "2022-11-08 20:21:01.000",
                                    "1": "PREEMPTIVE_OS_CRYPTOPS",
                                    "2": "36",
                                    "3": "63",
                                    "4": "3",
                                    "5": "0",
                                    "6": "2022-11-08",
                                    "7": "0",
                                    "8": "0"
                                },
                                {
                                    "0": "2022-11-08 20:21:01.000",
                                    "1": "RESERVED_MEMORY_ALLOCATION_EXT",
                                    "2": "65438",
                                    "3": "46",
                                    "4": "0",
                                    "5": "0",
                                    "6": "2022-11-08",
                                    "7": "17",
                                    "8": "0"
                                },
                                {
                                    "0": "2022-11-08 20:21:01.000",
                                    "1": "PREEMPTIVE_OS_CRYPTACQUIRECONTEXT",
                                    "2": "126",
                                    "3": "39",
                                    "4": "4",
                                    "5": "0",
                                    "6": "2022-11-08",
                                    "7": "0",
                                    "8": "0"
                                },
                                {
                                    "0": "2022-11-08 20:21:01.000",
                                    "1": "PREEMPTIVE_OLEDBOPS",
                                    "2": "36",
                                    "3": "17",
                                    "4": "15",
                                    "5": "0",
                                    "6": "2022-11-08",
                                    "7": "0",
                                    "8": "0"
                                },
                                {
                                    "0": "2022-11-08 20:21:01.000",
                                    "1": "PREEMPTIVE_HTTP_REQUEST",
                                    "2": "137",
                                    "3": "36",
                                    "4": "28",
                                    "5": "0",
                                    "6": "2022-11-08",
                                    "7": "3",
                                    "8": "0"
                                },
                                {
                                    "0": "2022-11-08 20:21:01.000",
                                    "1": "WAIT_ON_SYNC_STATISTICS_REFRESH",
                                    "2": "5",
                                    "3": "122",
                                    "4": "52",
                                    "5": "0",
                                    "6": "2022-11-08",
                                    "7": "0",
                                    "8": "0"
                                },
                                {
                                    "0": "2022-11-08 20:21:01.000",
                                    "1": "PAGEIOLATCH_EX",
                                    "2": "1",
                                    "3": "124",
                                    "4": "124",
                                    "5": "0",
                                    "6": "2022-11-08",
                                    "7": "0",
                                    "8": "0"
                                },
                                {
                                    "0": "2022-11-08 20:21:01.000",
                                    "1": "WRITELOG",
                                    "2": "1221",
                                    "3": "17394",
                                    "4": "198",
                                    "5": "169",
                                    "6": "2022-11-08",
                                    "7": "0",
                                    "8": "0"
                                },
                                {
                                    "0": "2022-11-08 20:21:01.000",
                                    "1": "ASYNC_NETWORK_IO",
                                    "2": "78",
                                    "3": "55",
                                    "4": "14",
                                    "5": "15",
                                    "6": "2022-11-08",
                                    "7": "0",
                                    "8": "0"
                                },
                                {
                                    "0": "2022-11-08 20:21:01.000",
                                    "1": "MEMORY_ALLOCATION_EXT",
                                    "2": "998832",
                                    "3": "604",
                                    "4": "2",
                                    "5": "0",
                                    "6": "2022-11-08",
                                    "7": "1266",
                                    "8": "1"
                                },
                                {
                                    "0": "2022-11-08 20:21:01.000",
                                    "1": "PAGEIOLATCH_SH",
                                    "2": "308",
                                    "3": "11385",
                                    "4": "562",
                                    "5": "172",
                                    "6": "2022-11-08",
                                    "7": "3",
                                    "8": "162"
                                },
                                {
                                    "0": "2022-11-08 20:21:01.000",
                                    "1": "SOS_SCHEDULER_YIELD",
                                    "2": "5877",
                                    "3": "18734",
                                    "4": "105",
                                    "5": "18732",
                                    "6": "2022-11-08",
                                    "7": "5",
                                    "8": "387"
                                },
                                {
                                    "0": "2022-11-08 20:22:00.000",
                                    "1": "PAGEIOLATCH_SH",
                                    "2": "308",
                                    "3": "11385",
                                    "4": "562",
                                    "5": "172",
                                    "6": "2022-11-08",
                                    "7": "0",
                                    "8": "0"
                                },
                                {
                                    "0": "2022-11-08 20:22:00.000",
                                    "1": "PAGEIOLATCH_EX",
                                    "2": "1",
                                    "3": "124",
                                    "4": "124",
                                    "5": "0",
                                    "6": "2022-11-08",
                                    "7": "0",
                                    "8": "0"
                                },
                                {
                                    "0": "2022-11-08 20:22:00.000",
                                    "1": "PREEMPTIVE_HTTP_REQUEST",
                                    "2": "137",
                                    "3": "36",
                                    "4": "28",
                                    "5": "0",
                                    "6": "2022-11-08",
                                    "7": "0",
                                    "8": "0"
                                },
                                {
                                    "0": "2022-11-08 20:22:00.000",
                                    "1": "WAIT_ON_SYNC_STATISTICS_REFRESH",
                                    "2": "5",
                                    "3": "122",
                                    "4": "52",
                                    "5": "0",
                                    "6": "2022-11-08",
                                    "7": "0",
                                    "8": "0"
                                },
                                {
                                    "0": "2022-11-08 20:22:00.000",
                                    "1": "PREEMPTIVE_OLEDBOPS",
                                    "2": "36",
                                    "3": "17",
                                    "4": "15",
                                    "5": "0",
                                    "6": "2022-11-08",
                                    "7": "0",
                                    "8": "0"
                                },
                                {
                                    "0": "2022-11-08 20:22:00.000",
                                    "1": "RESERVED_MEMORY_ALLOCATION_EXT",
                                    "2": "65455",
                                    "3": "46",
                                    "4": "0",
                                    "5": "0",
                                    "6": "2022-11-08",
                                    "7": "17",
                                    "8": "0"
                                },
                                {
                                    "0": "2022-11-08 20:22:00.000",
                                    "1": "MEMORY_ALLOCATION_EXT",
                                    "2": "999466",
                                    "3": "604",
                                    "4": "2",
                                    "5": "0",
                                    "6": "2022-11-08",
                                    "7": "634",
                                    "8": "0"
                                },
                                {
                                    "0": "2022-11-08 20:22:00.000",
                                    "1": "PREEMPTIVE_OS_CRYPTACQUIRECONTEXT",
                                    "2": "126",
                                    "3": "39",
                                    "4": "4",
                                    "5": "0",
                                    "6": "2022-11-08",
                                    "7": "0",
                                    "8": "0"
                                },
                                {
                                    "0": "2022-11-08 20:22:00.000",
                                    "1": "CLR_MANUAL_EVENT",
                                    "2": "1",
                                    "3": "0",
                                    "4": "0",
                                    "5": "0",
                                    "6": "2022-11-08",
                                    "7": "0",
                                    "8": "0"
                                },
                                {
                                    "0": "2022-11-08 20:22:00.000",
                                    "1": "WRITELOG",
                                    "2": "1221",
                                    "3": "17394",
                                    "4": "198",
                                    "5": "169",
                                    "6": "2022-11-08",
                                    "7": "0",
                                    "8": "0"
                                },
                                {
                                    "0": "2022-11-08 20:22:00.000",
                                    "1": "PREEMPTIVE_OS_CRYPTOPS",
                                    "2": "36",
                                    "3": "63",
                                    "4": "3",
                                    "5": "0",
                                    "6": "2022-11-08",
                                    "7": "0",
                                    "8": "0"
                                },
                                {
                                    "0": "2022-11-08 20:22:00.000",
                                    "1": "PREEMPTIVE_XHTTP",
                                    "2": "54",
                                    "3": "711",
                                    "4": "73",
                                    "5": "0",
                                    "6": "2022-11-08",
                                    "7": "0",
                                    "8": "0"
                                },
                                {
                                    "0": "2022-11-08 20:22:00.000",
                                    "1": "ASYNC_NETWORK_IO",
                                    "2": "78",
                                    "3": "55",
                                    "4": "14",
                                    "5": "15",
                                    "6": "2022-11-08",
                                    "7": "0",
                                    "8": "0"
                                },
                                {
                                    "0": "2022-11-08 20:22:00.000",
                                    "1": "SOS_SCHEDULER_YIELD",
                                    "2": "5882",
                                    "3": "18784",
                                    "4": "105",
                                    "5": "18783",
                                    "6": "2022-11-08",
                                    "7": "5",
                                    "8": "50"
                                },
                                {
                                    "0": "2022-11-08 20:23:00.000",
                                    "1": "SOS_SCHEDULER_YIELD",
                                    "2": "5885",
                                    "3": "18784",
                                    "4": "105",
                                    "5": "18783",
                                    "6": "2022-11-08",
                                    "7": "3",
                                    "8": "0"
                                },
                                {
                                    "0": "2022-11-08 20:23:00.000",
                                    "1": "WAIT_ON_SYNC_STATISTICS_REFRESH",
                                    "2": "5",
                                    "3": "122",
                                    "4": "52",
                                    "5": "0",
                                    "6": "2022-11-08",
                                    "7": "0",
                                    "8": "0"
                                },
                                {
                                    "0": "2022-11-08 20:23:00.000",
                                    "1": "RESERVED_MEMORY_ALLOCATION_EXT",
                                    "2": "65472",
                                    "3": "46",
                                    "4": "0",
                                    "5": "0",
                                    "6": "2022-11-08",
                                    "7": "17",
                                    "8": "0"
                                },
                                {
                                    "0": "2022-11-08 20:23:00.000",
                                    "1": "WRITELOG",
                                    "2": "1221",
                                    "3": "17394",
                                    "4": "198",
                                    "5": "169",
                                    "6": "2022-11-08",
                                    "7": "0",
                                    "8": "0"
                                },
                                {
                                    "0": "2022-11-08 20:23:00.000",
                                    "1": "PREEMPTIVE_XHTTP",
                                    "2": "54",
                                    "3": "711",
                                    "4": "73",
                                    "5": "0",
                                    "6": "2022-11-08",
                                    "7": "0",
                                    "8": "0"
                                },
                                {
                                    "0": "2022-11-08 20:23:00.000",
                                    "1": "PREEMPTIVE_OS_CRYPTOPS",
                                    "2": "36",
                                    "3": "63",
                                    "4": "3",
                                    "5": "0",
                                    "6": "2022-11-08",
                                    "7": "0",
                                    "8": "0"
                                },
                                {
                                    "0": "2022-11-08 20:23:00.000",
                                    "1": "PREEMPTIVE_OS_CRYPTACQUIRECONTEXT",
                                    "2": "126",
                                    "3": "39",
                                    "4": "4",
                                    "5": "0",
                                    "6": "2022-11-08",
                                    "7": "0",
                                    "8": "0"
                                },
                                {
                                    "0": "2022-11-08 20:23:00.000",
                                    "1": "PREEMPTIVE_OLEDBOPS",
                                    "2": "36",
                                    "3": "17",
                                    "4": "15",
                                    "5": "0",
                                    "6": "2022-11-08",
                                    "7": "0",
                                    "8": "0"
                                },
                                {
                                    "0": "2022-11-08 20:23:00.000",
                                    "1": "PREEMPTIVE_HTTP_REQUEST",
                                    "2": "137",
                                    "3": "36",
                                    "4": "28",
                                    "5": "0",
                                    "6": "2022-11-08",
                                    "7": "0",
                                    "8": "0"
                                },
                                {
                                    "0": "2022-11-08 20:23:00.000",
                                    "1": "PAGEIOLATCH_SH",
                                    "2": "308",
                                    "3": "11385",
                                    "4": "562",
                                    "5": "172",
                                    "6": "2022-11-08",
                                    "7": "0",
                                    "8": "0"
                                },
                                {
                                    "0": "2022-11-08 20:23:00.000",
                                    "1": "PAGEIOLATCH_EX",
                                    "2": "1",
                                    "3": "124",
                                    "4": "124",
                                    "5": "0",
                                    "6": "2022-11-08",
                                    "7": "0",
                                    "8": "0"
                                },
                                {
                                    "0": "2022-11-08 20:23:00.000",
                                    "1": "CLR_MANUAL_EVENT",
                                    "2": "1",
                                    "3": "0",
                                    "4": "0",
                                    "5": "0",
                                    "6": "2022-11-08",
                                    "7": "0",
                                    "8": "0"
                                },
                                {
                                    "0": "2022-11-08 20:23:00.000",
                                    "1": "ASYNC_NETWORK_IO",
                                    "2": "78",
                                    "3": "55",
                                    "4": "14",
                                    "5": "15",
                                    "6": "2022-11-08",
                                    "7": "0",
                                    "8": "0"
                                },
                                {
                                    "0": "2022-11-08 20:23:00.000",
                                    "1": "MEMORY_ALLOCATION_EXT",
                                    "2": "1000051",
                                    "3": "605",
                                    "4": "2",
                                    "5": "0",
                                    "6": "2022-11-08",
                                    "7": "585",
                                    "8": "1"
                                },
                                {
                                    "0": "2022-11-08 20:24:00.000",
                                    "1": "PREEMPTIVE_OS_CRYPTOPS",
                                    "2": "36",
                                    "3": "63",
                                    "4": "3",
                                    "5": "0",
                                    "6": "2022-11-08",
                                    "7": "0",
                                    "8": "0"
                                },
                                {
                                    "0": "2022-11-08 20:24:00.000",
                                    "1": "PREEMPTIVE_XHTTP",
                                    "2": "54",
                                    "3": "711",
                                    "4": "73",
                                    "5": "0",
                                    "6": "2022-11-08",
                                    "7": "0",
                                    "8": "0"
                                },
                                {
                                    "0": "2022-11-08 20:24:00.000",
                                    "1": "PREEMPTIVE_OS_CRYPTACQUIRECONTEXT",
                                    "2": "126",
                                    "3": "39",
                                    "4": "4",
                                    "5": "0",
                                    "6": "2022-11-08",
                                    "7": "0",
                                    "8": "0"
                                },
                                {
                                    "0": "2022-11-08 20:24:00.000",
                                    "1": "PREEMPTIVE_OLEDBOPS",
                                    "2": "36",
                                    "3": "17",
                                    "4": "15",
                                    "5": "0",
                                    "6": "2022-11-08",
                                    "7": "0",
                                    "8": "0"
                                },
                                {
                                    "0": "2022-11-08 20:24:00.000",
                                    "1": "RESERVED_MEMORY_ALLOCATION_EXT",
                                    "2": "65489",
                                    "3": "46",
                                    "4": "0",
                                    "5": "0",
                                    "6": "2022-11-08",
                                    "7": "17",
                                    "8": "0"
                                },
                                {
                                    "0": "2022-11-08 20:24:00.000",
                                    "1": "PREEMPTIVE_HTTP_REQUEST",
                                    "2": "137",
                                    "3": "36",
                                    "4": "28",
                                    "5": "0",
                                    "6": "2022-11-08",
                                    "7": "0",
                                    "8": "0"
                                },
                                {
                                    "0": "2022-11-08 20:24:00.000",
                                    "1": "PAGEIOLATCH_SH",
                                    "2": "308",
                                    "3": "11385",
                                    "4": "562",
                                    "5": "172",
                                    "6": "2022-11-08",
                                    "7": "0",
                                    "8": "0"
                                },
                                {
                                    "0": "2022-11-08 20:24:00.000",
                                    "1": "SOS_SCHEDULER_YIELD",
                                    "2": "5889",
                                    "3": "18784",
                                    "4": "105",
                                    "5": "18783",
                                    "6": "2022-11-08",
                                    "7": "4",
                                    "8": "0"
                                },
                                {
                                    "0": "2022-11-08 20:24:00.000",
                                    "1": "PAGEIOLATCH_EX",
                                    "2": "1",
                                    "3": "124",
                                    "4": "124",
                                    "5": "0",
                                    "6": "2022-11-08",
                                    "7": "0",
                                    "8": "0"
                                },
                                {
                                    "0": "2022-11-08 20:24:00.000",
                                    "1": "MEMORY_ALLOCATION_EXT",
                                    "2": "1000636",
                                    "3": "605",
                                    "4": "2",
                                    "5": "0",
                                    "6": "2022-11-08",
                                    "7": "585",
                                    "8": "0"
                                },
                                {
                                    "0": "2022-11-08 20:24:00.000",
                                    "1": "WAIT_ON_SYNC_STATISTICS_REFRESH",
                                    "2": "5",
                                    "3": "122",
                                    "4": "52",
                                    "5": "0",
                                    "6": "2022-11-08",
                                    "7": "0",
                                    "8": "0"
                                },
                                {
                                    "0": "2022-11-08 20:24:00.000",
                                    "1": "CLR_MANUAL_EVENT",
                                    "2": "1",
                                    "3": "0",
                                    "4": "0",
                                    "5": "0",
                                    "6": "2022-11-08",
                                    "7": "0",
                                    "8": "0"
                                },
                                {
                                    "0": "2022-11-08 20:24:00.000",
                                    "1": "ASYNC_NETWORK_IO",
                                    "2": "78",
                                    "3": "55",
                                    "4": "14",
                                    "5": "15",
                                    "6": "2022-11-08",
                                    "7": "0",
                                    "8": "0"
                                },
                                {
                                    "0": "2022-11-08 20:24:00.000",
                                    "1": "WRITELOG",
                                    "2": "1221",
                                    "3": "17394",
                                    "4": "198",
                                    "5": "169",
                                    "6": "2022-11-08",
                                    "7": "0",
                                    "8": "0"
                                }
                            ]
                        },
                        "text/html": "<table><tr><th>reading_time</th><th>wait_type</th><th>waiting_tasks_count</th><th>wait_time_ms</th><th>max_wait_time_ms</th><th>signal_wait_time_ms</th><th>file_date</th><th>waiting_tasks_change</th><th>wait_time_change</th></tr><tr><td>2022-11-08 20:20:00.000</td><td>ASYNC_NETWORK_IO</td><td>78</td><td>55</td><td>14</td><td>15</td><td>2022-11-08</td><td>0</td><td>0</td></tr><tr><td>2022-11-08 20:20:00.000</td><td>PREEMPTIVE_XHTTP</td><td>54</td><td>711</td><td>73</td><td>0</td><td>2022-11-08</td><td>0</td><td>0</td></tr><tr><td>2022-11-08 20:20:00.000</td><td>PREEMPTIVE_OS_CRYPTOPS</td><td>36</td><td>63</td><td>3</td><td>0</td><td>2022-11-08</td><td>0</td><td>0</td></tr><tr><td>2022-11-08 20:20:00.000</td><td>RESERVED_MEMORY_ALLOCATION_EXT</td><td>65421</td><td>46</td><td>0</td><td>0</td><td>2022-11-08</td><td>17</td><td>0</td></tr><tr><td>2022-11-08 20:20:00.000</td><td>WRITELOG</td><td>1221</td><td>17394</td><td>198</td><td>169</td><td>2022-11-08</td><td>0</td><td>0</td></tr><tr><td>2022-11-08 20:20:00.000</td><td>MEMORY_ALLOCATION_EXT</td><td>997566</td><td>603</td><td>2</td><td>0</td><td>2022-11-08</td><td>585</td><td>0</td></tr><tr><td>2022-11-08 20:20:00.000</td><td>PREEMPTIVE_OS_CRYPTACQUIRECONTEXT</td><td>126</td><td>39</td><td>4</td><td>0</td><td>2022-11-08</td><td>0</td><td>0</td></tr><tr><td>2022-11-08 20:20:00.000</td><td>PREEMPTIVE_OLEDBOPS</td><td>36</td><td>17</td><td>15</td><td>0</td><td>2022-11-08</td><td>0</td><td>0</td></tr><tr><td>2022-11-08 20:20:00.000</td><td>PAGEIOLATCH_EX</td><td>1</td><td>124</td><td>124</td><td>0</td><td>2022-11-08</td><td>0</td><td>0</td></tr><tr><td>2022-11-08 20:20:00.000</td><td>SOS_SCHEDULER_YIELD</td><td>5872</td><td>18347</td><td>56</td><td>18346</td><td>2022-11-08</td><td>4</td><td>0</td></tr><tr><td>2022-11-08 20:20:00.000</td><td>PREEMPTIVE_HTTP_REQUEST</td><td>134</td><td>36</td><td>28</td><td>0</td><td>2022-11-08</td><td>0</td><td>0</td></tr><tr><td>2022-11-08 20:20:00.000</td><td>WAIT_ON_SYNC_STATISTICS_REFRESH</td><td>5</td><td>122</td><td>52</td><td>0</td><td>2022-11-08</td><td>0</td><td>0</td></tr><tr><td>2022-11-08 20:20:00.000</td><td>PAGEIOLATCH_SH</td><td>305</td><td>11223</td><td>562</td><td>172</td><td>2022-11-08</td><td>0</td><td>0</td></tr><tr><td>2022-11-08 20:21:01.000</td><td>PREEMPTIVE_XHTTP</td><td>54</td><td>711</td><td>73</td><td>0</td><td>2022-11-08</td><td>0</td><td>0</td></tr><tr><td>2022-11-08 20:21:01.000</td><td>PREEMPTIVE_OS_CRYPTOPS</td><td>36</td><td>63</td><td>3</td><td>0</td><td>2022-11-08</td><td>0</td><td>0</td></tr><tr><td>2022-11-08 20:21:01.000</td><td>RESERVED_MEMORY_ALLOCATION_EXT</td><td>65438</td><td>46</td><td>0</td><td>0</td><td>2022-11-08</td><td>17</td><td>0</td></tr><tr><td>2022-11-08 20:21:01.000</td><td>PREEMPTIVE_OS_CRYPTACQUIRECONTEXT</td><td>126</td><td>39</td><td>4</td><td>0</td><td>2022-11-08</td><td>0</td><td>0</td></tr><tr><td>2022-11-08 20:21:01.000</td><td>PREEMPTIVE_OLEDBOPS</td><td>36</td><td>17</td><td>15</td><td>0</td><td>2022-11-08</td><td>0</td><td>0</td></tr><tr><td>2022-11-08 20:21:01.000</td><td>PREEMPTIVE_HTTP_REQUEST</td><td>137</td><td>36</td><td>28</td><td>0</td><td>2022-11-08</td><td>3</td><td>0</td></tr><tr><td>2022-11-08 20:21:01.000</td><td>WAIT_ON_SYNC_STATISTICS_REFRESH</td><td>5</td><td>122</td><td>52</td><td>0</td><td>2022-11-08</td><td>0</td><td>0</td></tr><tr><td>2022-11-08 20:21:01.000</td><td>PAGEIOLATCH_EX</td><td>1</td><td>124</td><td>124</td><td>0</td><td>2022-11-08</td><td>0</td><td>0</td></tr><tr><td>2022-11-08 20:21:01.000</td><td>WRITELOG</td><td>1221</td><td>17394</td><td>198</td><td>169</td><td>2022-11-08</td><td>0</td><td>0</td></tr><tr><td>2022-11-08 20:21:01.000</td><td>ASYNC_NETWORK_IO</td><td>78</td><td>55</td><td>14</td><td>15</td><td>2022-11-08</td><td>0</td><td>0</td></tr><tr><td>2022-11-08 20:21:01.000</td><td>MEMORY_ALLOCATION_EXT</td><td>998832</td><td>604</td><td>2</td><td>0</td><td>2022-11-08</td><td>1266</td><td>1</td></tr><tr><td>2022-11-08 20:21:01.000</td><td>PAGEIOLATCH_SH</td><td>308</td><td>11385</td><td>562</td><td>172</td><td>2022-11-08</td><td>3</td><td>162</td></tr><tr><td>2022-11-08 20:21:01.000</td><td>SOS_SCHEDULER_YIELD</td><td>5877</td><td>18734</td><td>105</td><td>18732</td><td>2022-11-08</td><td>5</td><td>387</td></tr><tr><td>2022-11-08 20:22:00.000</td><td>PAGEIOLATCH_SH</td><td>308</td><td>11385</td><td>562</td><td>172</td><td>2022-11-08</td><td>0</td><td>0</td></tr><tr><td>2022-11-08 20:22:00.000</td><td>PAGEIOLATCH_EX</td><td>1</td><td>124</td><td>124</td><td>0</td><td>2022-11-08</td><td>0</td><td>0</td></tr><tr><td>2022-11-08 20:22:00.000</td><td>PREEMPTIVE_HTTP_REQUEST</td><td>137</td><td>36</td><td>28</td><td>0</td><td>2022-11-08</td><td>0</td><td>0</td></tr><tr><td>2022-11-08 20:22:00.000</td><td>WAIT_ON_SYNC_STATISTICS_REFRESH</td><td>5</td><td>122</td><td>52</td><td>0</td><td>2022-11-08</td><td>0</td><td>0</td></tr><tr><td>2022-11-08 20:22:00.000</td><td>PREEMPTIVE_OLEDBOPS</td><td>36</td><td>17</td><td>15</td><td>0</td><td>2022-11-08</td><td>0</td><td>0</td></tr><tr><td>2022-11-08 20:22:00.000</td><td>RESERVED_MEMORY_ALLOCATION_EXT</td><td>65455</td><td>46</td><td>0</td><td>0</td><td>2022-11-08</td><td>17</td><td>0</td></tr><tr><td>2022-11-08 20:22:00.000</td><td>MEMORY_ALLOCATION_EXT</td><td>999466</td><td>604</td><td>2</td><td>0</td><td>2022-11-08</td><td>634</td><td>0</td></tr><tr><td>2022-11-08 20:22:00.000</td><td>PREEMPTIVE_OS_CRYPTACQUIRECONTEXT</td><td>126</td><td>39</td><td>4</td><td>0</td><td>2022-11-08</td><td>0</td><td>0</td></tr><tr><td>2022-11-08 20:22:00.000</td><td>CLR_MANUAL_EVENT</td><td>1</td><td>0</td><td>0</td><td>0</td><td>2022-11-08</td><td>0</td><td>0</td></tr><tr><td>2022-11-08 20:22:00.000</td><td>WRITELOG</td><td>1221</td><td>17394</td><td>198</td><td>169</td><td>2022-11-08</td><td>0</td><td>0</td></tr><tr><td>2022-11-08 20:22:00.000</td><td>PREEMPTIVE_OS_CRYPTOPS</td><td>36</td><td>63</td><td>3</td><td>0</td><td>2022-11-08</td><td>0</td><td>0</td></tr><tr><td>2022-11-08 20:22:00.000</td><td>PREEMPTIVE_XHTTP</td><td>54</td><td>711</td><td>73</td><td>0</td><td>2022-11-08</td><td>0</td><td>0</td></tr><tr><td>2022-11-08 20:22:00.000</td><td>ASYNC_NETWORK_IO</td><td>78</td><td>55</td><td>14</td><td>15</td><td>2022-11-08</td><td>0</td><td>0</td></tr><tr><td>2022-11-08 20:22:00.000</td><td>SOS_SCHEDULER_YIELD</td><td>5882</td><td>18784</td><td>105</td><td>18783</td><td>2022-11-08</td><td>5</td><td>50</td></tr><tr><td>2022-11-08 20:23:00.000</td><td>SOS_SCHEDULER_YIELD</td><td>5885</td><td>18784</td><td>105</td><td>18783</td><td>2022-11-08</td><td>3</td><td>0</td></tr><tr><td>2022-11-08 20:23:00.000</td><td>WAIT_ON_SYNC_STATISTICS_REFRESH</td><td>5</td><td>122</td><td>52</td><td>0</td><td>2022-11-08</td><td>0</td><td>0</td></tr><tr><td>2022-11-08 20:23:00.000</td><td>RESERVED_MEMORY_ALLOCATION_EXT</td><td>65472</td><td>46</td><td>0</td><td>0</td><td>2022-11-08</td><td>17</td><td>0</td></tr><tr><td>2022-11-08 20:23:00.000</td><td>WRITELOG</td><td>1221</td><td>17394</td><td>198</td><td>169</td><td>2022-11-08</td><td>0</td><td>0</td></tr><tr><td>2022-11-08 20:23:00.000</td><td>PREEMPTIVE_XHTTP</td><td>54</td><td>711</td><td>73</td><td>0</td><td>2022-11-08</td><td>0</td><td>0</td></tr><tr><td>2022-11-08 20:23:00.000</td><td>PREEMPTIVE_OS_CRYPTOPS</td><td>36</td><td>63</td><td>3</td><td>0</td><td>2022-11-08</td><td>0</td><td>0</td></tr><tr><td>2022-11-08 20:23:00.000</td><td>PREEMPTIVE_OS_CRYPTACQUIRECONTEXT</td><td>126</td><td>39</td><td>4</td><td>0</td><td>2022-11-08</td><td>0</td><td>0</td></tr><tr><td>2022-11-08 20:23:00.000</td><td>PREEMPTIVE_OLEDBOPS</td><td>36</td><td>17</td><td>15</td><td>0</td><td>2022-11-08</td><td>0</td><td>0</td></tr><tr><td>2022-11-08 20:23:00.000</td><td>PREEMPTIVE_HTTP_REQUEST</td><td>137</td><td>36</td><td>28</td><td>0</td><td>2022-11-08</td><td>0</td><td>0</td></tr><tr><td>2022-11-08 20:23:00.000</td><td>PAGEIOLATCH_SH</td><td>308</td><td>11385</td><td>562</td><td>172</td><td>2022-11-08</td><td>0</td><td>0</td></tr><tr><td>2022-11-08 20:23:00.000</td><td>PAGEIOLATCH_EX</td><td>1</td><td>124</td><td>124</td><td>0</td><td>2022-11-08</td><td>0</td><td>0</td></tr><tr><td>2022-11-08 20:23:00.000</td><td>CLR_MANUAL_EVENT</td><td>1</td><td>0</td><td>0</td><td>0</td><td>2022-11-08</td><td>0</td><td>0</td></tr><tr><td>2022-11-08 20:23:00.000</td><td>ASYNC_NETWORK_IO</td><td>78</td><td>55</td><td>14</td><td>15</td><td>2022-11-08</td><td>0</td><td>0</td></tr><tr><td>2022-11-08 20:23:00.000</td><td>MEMORY_ALLOCATION_EXT</td><td>1000051</td><td>605</td><td>2</td><td>0</td><td>2022-11-08</td><td>585</td><td>1</td></tr><tr><td>2022-11-08 20:24:00.000</td><td>PREEMPTIVE_OS_CRYPTOPS</td><td>36</td><td>63</td><td>3</td><td>0</td><td>2022-11-08</td><td>0</td><td>0</td></tr><tr><td>2022-11-08 20:24:00.000</td><td>PREEMPTIVE_XHTTP</td><td>54</td><td>711</td><td>73</td><td>0</td><td>2022-11-08</td><td>0</td><td>0</td></tr><tr><td>2022-11-08 20:24:00.000</td><td>PREEMPTIVE_OS_CRYPTACQUIRECONTEXT</td><td>126</td><td>39</td><td>4</td><td>0</td><td>2022-11-08</td><td>0</td><td>0</td></tr><tr><td>2022-11-08 20:24:00.000</td><td>PREEMPTIVE_OLEDBOPS</td><td>36</td><td>17</td><td>15</td><td>0</td><td>2022-11-08</td><td>0</td><td>0</td></tr><tr><td>2022-11-08 20:24:00.000</td><td>RESERVED_MEMORY_ALLOCATION_EXT</td><td>65489</td><td>46</td><td>0</td><td>0</td><td>2022-11-08</td><td>17</td><td>0</td></tr><tr><td>2022-11-08 20:24:00.000</td><td>PREEMPTIVE_HTTP_REQUEST</td><td>137</td><td>36</td><td>28</td><td>0</td><td>2022-11-08</td><td>0</td><td>0</td></tr><tr><td>2022-11-08 20:24:00.000</td><td>PAGEIOLATCH_SH</td><td>308</td><td>11385</td><td>562</td><td>172</td><td>2022-11-08</td><td>0</td><td>0</td></tr><tr><td>2022-11-08 20:24:00.000</td><td>SOS_SCHEDULER_YIELD</td><td>5889</td><td>18784</td><td>105</td><td>18783</td><td>2022-11-08</td><td>4</td><td>0</td></tr><tr><td>2022-11-08 20:24:00.000</td><td>PAGEIOLATCH_EX</td><td>1</td><td>124</td><td>124</td><td>0</td><td>2022-11-08</td><td>0</td><td>0</td></tr><tr><td>2022-11-08 20:24:00.000</td><td>MEMORY_ALLOCATION_EXT</td><td>1000636</td><td>605</td><td>2</td><td>0</td><td>2022-11-08</td><td>585</td><td>0</td></tr><tr><td>2022-11-08 20:24:00.000</td><td>WAIT_ON_SYNC_STATISTICS_REFRESH</td><td>5</td><td>122</td><td>52</td><td>0</td><td>2022-11-08</td><td>0</td><td>0</td></tr><tr><td>2022-11-08 20:24:00.000</td><td>CLR_MANUAL_EVENT</td><td>1</td><td>0</td><td>0</td><td>0</td><td>2022-11-08</td><td>0</td><td>0</td></tr><tr><td>2022-11-08 20:24:00.000</td><td>ASYNC_NETWORK_IO</td><td>78</td><td>55</td><td>14</td><td>15</td><td>2022-11-08</td><td>0</td><td>0</td></tr><tr><td>2022-11-08 20:24:00.000</td><td>WRITELOG</td><td>1221</td><td>17394</td><td>198</td><td>169</td><td>2022-11-08</td><td>0</td><td>0</td></tr></table>"
                    },
                    "metadata": {}
                }
            ],
            "execution_count": 44
        },
        {
            "cell_type": "markdown",
            "source": [
                "### Wait Charts\n",
                "\n",
                "With Azure Data Studio and this data set we can also do some interesting things around charting wait times over timeframes. Such as out first example query which shows SOS\\_SCHEDULER\\_YIELD waits over time and if there are spikes along that time frame. You can see there is a query that runs approximately every 15 minutes that has to wait 100 ms for CPU.\n",
                "\n",
                "The charts shown were created in Azure Data Studio but included as images for portability."
            ],
            "metadata": {
                "azdata_cell_guid": "26f33c28-1743-4290-839e-0de990c0c286"
            },
            "attachments": {}
        },
        {
            "cell_type": "code",
            "source": [
                "WITH waits AS\r\n",
                "(\r\n",
                "\tSELECT reading_time, \r\n",
                "\t\twait_time_ms - LAG(wait_time_ms) OVER(PARTITION BY wait_type order by reading_time) as wait_time_change\r\n",
                "\tFROM SqlWaitStats WHERE \r\n",
                "\t(reading_time BETWEEN '2022-11-08 17:00:04.000' AND '2022-11-08 20:00:04.000' and file_date = '2022-11-08')\r\n",
                "    and wait_type = 'SOS_SCHEDULER_YIELD'\r\n",
                ")\r\n",
                "SELECT * FROM waits\r\n",
                "WHERE wait_time_change IS NOT NULL\r\n",
                "ORDER BY reading_time, wait_time_change"
            ],
            "metadata": {
                "azdata_cell_guid": "5cb01313-bf9d-4b1a-9c14-e3c1840c7b52",
                "language": "sql"
            },
            "outputs": [],
            "execution_count": null
        },
        {
            "cell_type": "markdown",
            "source": [
                "![SOS_SCHEDULER_YIELD Line Chart showing variation of the wait in milliseconds over time](SOS_SCHEDULER_YIELD_chart.png)"
            ],
            "metadata": {
                "azdata_cell_guid": "f731bcfe-793f-404e-970b-746a616b3718"
            },
            "attachments": {}
        },
        {
            "cell_type": "markdown",
            "source": [
                "With this second query you can get a proportion of waits within our database. You can see in this situation we mostly wait for CPU, T-Log, and reading from disk."
            ],
            "metadata": {
                "azdata_cell_guid": "878202ff-07ee-46ce-b76e-09c9362da395"
            },
            "attachments": {}
        },
        {
            "cell_type": "code",
            "source": [
                "select wait_type, wait_time_ms from SqlWaitStats WHERE reading_time in (SELECT MAX(reading_time) from SqlWaitStats) "
            ],
            "metadata": {
                "azdata_cell_guid": "55cea0cc-f10e-4d24-9934-dd385e9807e9",
                "language": "sql"
            },
            "outputs": [],
            "execution_count": null
        },
        {
            "cell_type": "markdown",
            "source": [
                "![Pie Chart showing proportion of total waits](wait_distribution_pie_chart.png)"
            ],
            "metadata": {
                "language": "sql",
                "azdata_cell_guid": "23d67ef6-66d7-48bc-9227-f9ae1b4f1351"
            },
            "attachments": {}
        }
    ]
}